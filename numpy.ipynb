{
 "cells": [
  {
   "cell_type": "raw",
   "id": "6ebbaf10-6873-4ca3-b46c-085c4b4642b9",
   "metadata": {},
   "source": [
    "Function Details: Press shift + tab together to see functionality\n",
    "Install: pip install numpy \n",
    "Comment Multiple Lines: Ctrl + /"
   ]
  },
  {
   "cell_type": "raw",
   "id": "e3c3c85d-fd52-4484-b515-99a583ed9790",
   "metadata": {},
   "source": [
    "Numpy only accepts array as a list"
   ]
  },
  {
   "cell_type": "markdown",
   "id": "95b1ae60-cb62-49ce-852e-25413f742af3",
   "metadata": {},
   "source": [
    "# Import Numpy"
   ]
  },
  {
   "cell_type": "code",
   "execution_count": 1,
   "id": "9b17512d-7d2d-4ed9-a189-a65e1159e331",
   "metadata": {},
   "outputs": [],
   "source": [
    "import numpy as np\n"
   ]
  },
  {
   "cell_type": "markdown",
   "id": "37cd80ab-950e-4611-9adc-c20ef8b29ebb",
   "metadata": {},
   "source": [
    "# 1D array /Vector"
   ]
  },
  {
   "cell_type": "code",
   "execution_count": 2,
   "id": "0ed08ca8-8119-4c34-8ee5-f2169824173d",
   "metadata": {},
   "outputs": [],
   "source": [
    "a= np.array(([1,2,3]))"
   ]
  },
  {
   "cell_type": "code",
   "execution_count": 3,
   "id": "7ba55a78-6070-4c9b-8539-4f061adb59f0",
   "metadata": {},
   "outputs": [
    {
     "data": {
      "text/plain": [
       "array([1, 2, 3])"
      ]
     },
     "execution_count": 3,
     "metadata": {},
     "output_type": "execute_result"
    }
   ],
   "source": [
    "a"
   ]
  },
  {
   "cell_type": "markdown",
   "id": "6499dce1-0f24-41f7-8631-62a2fb2c36a2",
   "metadata": {},
   "source": [
    "# shape\n",
    "(rows, columns)"
   ]
  },
  {
   "cell_type": "code",
   "execution_count": 4,
   "id": "4e37b51e-7137-4774-9d5d-94d97bdb97d9",
   "metadata": {},
   "outputs": [
    {
     "data": {
      "text/plain": [
       "(3,)"
      ]
     },
     "execution_count": 4,
     "metadata": {},
     "output_type": "execute_result"
    }
   ],
   "source": [
    "a.shape #shows info about row and column"
   ]
  },
  {
   "cell_type": "markdown",
   "id": "48e4dc73-f133-4aa6-adcd-c26049eb103d",
   "metadata": {},
   "source": [
    "# dimension"
   ]
  },
  {
   "cell_type": "code",
   "execution_count": 5,
   "id": "67e0ee08-793c-4c51-864c-7a20c4c3aaed",
   "metadata": {},
   "outputs": [
    {
     "data": {
      "text/plain": [
       "1"
      ]
     },
     "execution_count": 5,
     "metadata": {},
     "output_type": "execute_result"
    }
   ],
   "source": [
    "a.ndim #returns the dimsnion of the array"
   ]
  },
  {
   "cell_type": "markdown",
   "id": "d482e198-8d1f-43eb-823a-c24c6bdd44a4",
   "metadata": {},
   "source": [
    "# 2D array /Matrix"
   ]
  },
  {
   "cell_type": "code",
   "execution_count": 6,
   "id": "793f9f2f-900c-46d9-9d34-d6f109c09dd7",
   "metadata": {},
   "outputs": [],
   "source": [
    "b= np.array(\n",
    "    [[2,3,4], [4,5,6]] #double bracket symbllizes 2D\n",
    ")"
   ]
  },
  {
   "cell_type": "code",
   "execution_count": 7,
   "id": "a4ceaaf0-d776-43dd-bfce-41d9ae8a4b01",
   "metadata": {},
   "outputs": [
    {
     "data": {
      "text/plain": [
       "array([[2, 3, 4],\n",
       "       [4, 5, 6]])"
      ]
     },
     "execution_count": 7,
     "metadata": {},
     "output_type": "execute_result"
    }
   ],
   "source": [
    "b"
   ]
  },
  {
   "cell_type": "code",
   "execution_count": 8,
   "id": "0e44204e-5305-4eed-9a57-c1a6dd63b312",
   "metadata": {},
   "outputs": [
    {
     "data": {
      "text/plain": [
       "(2, 3)"
      ]
     },
     "execution_count": 8,
     "metadata": {},
     "output_type": "execute_result"
    }
   ],
   "source": [
    "b.shape\n"
   ]
  },
  {
   "cell_type": "code",
   "execution_count": 9,
   "id": "c1129aa4-4576-4ee7-8831-863928b9cefe",
   "metadata": {},
   "outputs": [
    {
     "data": {
      "text/plain": [
       "2"
      ]
     },
     "execution_count": 9,
     "metadata": {},
     "output_type": "execute_result"
    }
   ],
   "source": [
    "b.ndim"
   ]
  },
  {
   "cell_type": "markdown",
   "id": "d076c0fc-8697-4afe-86af-0a00e9f9c76c",
   "metadata": {},
   "source": [
    "# 3D Array /Tensor"
   ]
  },
  {
   "cell_type": "code",
   "execution_count": 10,
   "id": "844acdab-f046-4fa4-8a50-03e840dab073",
   "metadata": {},
   "outputs": [],
   "source": [
    "c=np.array([[[1,2,3],\n",
    "          [4,5,6]]])"
   ]
  },
  {
   "cell_type": "code",
   "execution_count": 11,
   "id": "2a9265b4-796f-497b-8c62-d0a6c72f6acc",
   "metadata": {},
   "outputs": [
    {
     "data": {
      "text/plain": [
       "array([[[1, 2, 3],\n",
       "        [4, 5, 6]]])"
      ]
     },
     "execution_count": 11,
     "metadata": {},
     "output_type": "execute_result"
    }
   ],
   "source": [
    "c"
   ]
  },
  {
   "cell_type": "code",
   "execution_count": 12,
   "id": "a42e23a1-a18a-45c7-acd1-2c664b34dc05",
   "metadata": {},
   "outputs": [
    {
     "data": {
      "text/plain": [
       "(1, 2, 3)"
      ]
     },
     "execution_count": 12,
     "metadata": {},
     "output_type": "execute_result"
    }
   ],
   "source": [
    "c.shape"
   ]
  },
  {
   "cell_type": "code",
   "execution_count": 13,
   "id": "f12bc29a-ac20-4c8b-9763-ee2c05f7bc8d",
   "metadata": {},
   "outputs": [
    {
     "data": {
      "text/plain": [
       "3"
      ]
     },
     "execution_count": 13,
     "metadata": {},
     "output_type": "execute_result"
    }
   ],
   "source": [
    "c.ndim"
   ]
  },
  {
   "cell_type": "markdown",
   "id": "d41b6cb8-ab2f-4322-8f8d-d3f5b845cce0",
   "metadata": {},
   "source": [
    "# Data Type"
   ]
  },
  {
   "cell_type": "code",
   "execution_count": 14,
   "id": "3e6fa5ca-855e-432d-8907-04f8f2314fd3",
   "metadata": {},
   "outputs": [
    {
     "data": {
      "text/plain": [
       "(dtype('int64'), dtype('int64'), dtype('int64'))"
      ]
     },
     "execution_count": 14,
     "metadata": {},
     "output_type": "execute_result"
    }
   ],
   "source": [
    "a.dtype,b.dtype,c.dtype #dtype shows us the data type of the given array"
   ]
  },
  {
   "cell_type": "code",
   "execution_count": 15,
   "id": "ba755b49-a3b3-498e-a63c-fbc8eb488220",
   "metadata": {},
   "outputs": [],
   "source": [
    "d1=np.array(([1,2,3]))#1D\n",
    "d2=np.array(([[1,2,3]]))#2D\n",
    "d3=np.array(([[[1,2,3]]]))#3D\n"
   ]
  },
  {
   "cell_type": "code",
   "execution_count": 16,
   "id": "11f61ae1-a01e-441c-9c3f-2099a3c9c718",
   "metadata": {},
   "outputs": [],
   "source": [
    "d=d1,d2,d3"
   ]
  },
  {
   "cell_type": "code",
   "execution_count": 17,
   "id": "b3360b59-3a81-4219-8b19-7630fa94187b",
   "metadata": {},
   "outputs": [
    {
     "data": {
      "text/plain": [
       "(array([1, 2, 3]), array([[1, 2, 3]]), array([[[1, 2, 3]]]))"
      ]
     },
     "execution_count": 17,
     "metadata": {},
     "output_type": "execute_result"
    }
   ],
   "source": [
    "d"
   ]
  },
  {
   "cell_type": "code",
   "execution_count": 18,
   "id": "7e65edfd-bf3b-48df-a5ea-2c2a30a8907c",
   "metadata": {},
   "outputs": [],
   "source": [
    "f=np.array(([1.5,2.4,3.2]))"
   ]
  },
  {
   "cell_type": "code",
   "execution_count": 19,
   "id": "36c5b881-65f0-4b8b-99b9-ea084d2ed57d",
   "metadata": {},
   "outputs": [
    {
     "data": {
      "text/plain": [
       "array([1.5, 2.4, 3.2])"
      ]
     },
     "execution_count": 19,
     "metadata": {},
     "output_type": "execute_result"
    }
   ],
   "source": [
    "f"
   ]
  },
  {
   "cell_type": "code",
   "execution_count": 20,
   "id": "65b4b165-725e-4d9e-a313-ecabc0f915c1",
   "metadata": {},
   "outputs": [
    {
     "data": {
      "text/plain": [
       "dtype('float64')"
      ]
     },
     "execution_count": 20,
     "metadata": {},
     "output_type": "execute_result"
    }
   ],
   "source": [
    "f.dtype #float type"
   ]
  },
  {
   "cell_type": "markdown",
   "id": "9561c3ab-6cf3-4fb5-b58f-abda831e3581",
   "metadata": {},
   "source": [
    "# Elements"
   ]
  },
  {
   "cell_type": "code",
   "execution_count": 21,
   "id": "5c860406-b884-477c-9664-973c9f30b38d",
   "metadata": {},
   "outputs": [],
   "source": [
    "c=np.array([[[1,2,3],\n",
    "          [4,5,6]]])"
   ]
  },
  {
   "cell_type": "markdown",
   "id": "2254c27c-384c-456a-8cf4-9fb9f29b58b5",
   "metadata": {},
   "source": [
    "### size"
   ]
  },
  {
   "cell_type": "code",
   "execution_count": 22,
   "id": "91bab85d-6e0a-41b8-93f9-5e47e6d2f1d5",
   "metadata": {},
   "outputs": [
    {
     "data": {
      "text/plain": [
       "6"
      ]
     },
     "execution_count": 22,
     "metadata": {},
     "output_type": "execute_result"
    }
   ],
   "source": [
    "c.size #how many elements are there in the array (rows + columns)"
   ]
  },
  {
   "cell_type": "markdown",
   "id": "3d6fe6aa-272e-4678-818e-653b5ec16c5a",
   "metadata": {},
   "source": [
    "### item size"
   ]
  },
  {
   "cell_type": "code",
   "execution_count": 23,
   "id": "f4bb3591-d9ae-43a2-9224-e56d8f168c15",
   "metadata": {},
   "outputs": [
    {
     "data": {
      "text/plain": [
       "8"
      ]
     },
     "execution_count": 23,
     "metadata": {},
     "output_type": "execute_result"
    }
   ],
   "source": [
    "c.itemsize #how many bytes they consume"
   ]
  },
  {
   "cell_type": "markdown",
   "id": "02e2a042-c668-41cd-8dd1-fab3b9f4e634",
   "metadata": {},
   "source": [
    "### total size"
   ]
  },
  {
   "cell_type": "code",
   "execution_count": 24,
   "id": "df602853-24cd-4067-8774-a4564b114773",
   "metadata": {},
   "outputs": [
    {
     "data": {
      "text/plain": [
       "48"
      ]
     },
     "execution_count": 24,
     "metadata": {},
     "output_type": "execute_result"
    }
   ],
   "source": [
    "c.nbytes # (size * item size)"
   ]
  },
  {
   "cell_type": "markdown",
   "id": "b13d0f5c-81f1-4cdd-be78-15a19e4fc2da",
   "metadata": {},
   "source": [
    "# Memory Allocation"
   ]
  },
  {
   "cell_type": "code",
   "execution_count": 25,
   "id": "ecb39de6-4856-4941-ac52-b101de730132",
   "metadata": {},
   "outputs": [
    {
     "data": {
      "text/plain": [
       "48"
      ]
     },
     "execution_count": 25,
     "metadata": {},
     "output_type": "execute_result"
    }
   ],
   "source": [
    "c.nbytes #how many bytes consumed by array"
   ]
  },
  {
   "cell_type": "markdown",
   "id": "bc712463-218f-41d8-9536-b5af8bce298e",
   "metadata": {},
   "source": [
    "# Array Creation"
   ]
  },
  {
   "cell_type": "code",
   "execution_count": 26,
   "id": "7e247cd6-dd78-4d70-9ad7-64289de37564",
   "metadata": {},
   "outputs": [],
   "source": [
    "arr=np.array([4,5,6],dtype='int' )"
   ]
  },
  {
   "cell_type": "code",
   "execution_count": 27,
   "id": "37137db3-6571-456e-8426-bfdfe0f66e03",
   "metadata": {},
   "outputs": [
    {
     "data": {
      "text/plain": [
       "array([4, 5, 6])"
      ]
     },
     "execution_count": 27,
     "metadata": {},
     "output_type": "execute_result"
    }
   ],
   "source": [
    "arr"
   ]
  },
  {
   "cell_type": "markdown",
   "id": "e96e9731-910c-420b-a88d-fac73ad38213",
   "metadata": {},
   "source": [
    "# Array Sum"
   ]
  },
  {
   "cell_type": "raw",
   "id": "0b356125-223f-48fa-b0c8-d659f6164e3f",
   "metadata": {},
   "source": [
    "Normal List"
   ]
  },
  {
   "cell_type": "code",
   "execution_count": 28,
   "id": "7d749d85-b634-45b6-b6ed-8f6da04be873",
   "metadata": {},
   "outputs": [
    {
     "name": "stdout",
     "output_type": "stream",
     "text": [
      "[1, 2, 3, 4, 5, 6]\n"
     ]
    }
   ],
   "source": [
    "list1=[1,2,3]\n",
    "list2=[4,5,6]\n",
    "\n",
    "print(list1+list2)"
   ]
  },
  {
   "cell_type": "raw",
   "id": "84ce0dc3-be1b-4250-83e2-91b007dcb4de",
   "metadata": {},
   "source": [
    "Numpy Array allows us to do mathematical operation"
   ]
  },
  {
   "cell_type": "code",
   "execution_count": 29,
   "id": "e6e404c7-d2eb-45ca-ab17-a67d8b940dba",
   "metadata": {},
   "outputs": [
    {
     "name": "stdout",
     "output_type": "stream",
     "text": [
      "[14 25 36]\n"
     ]
    }
   ],
   "source": [
    "arr1=np.array([10,20,30])\n",
    "arr2=np.array([4,5,6])\n",
    "print(arr1+arr2)\n"
   ]
  },
  {
   "cell_type": "markdown",
   "id": "540afe97-1859-493b-8db1-8c396c1521dc",
   "metadata": {},
   "source": [
    "array* 40%"
   ]
  },
  {
   "cell_type": "code",
   "execution_count": 30,
   "id": "556243a5-d3fe-4839-8b72-ba6c4b33fb41",
   "metadata": {},
   "outputs": [
    {
     "data": {
      "text/plain": [
       "array([ 4.,  8., 12.])"
      ]
     },
     "execution_count": 30,
     "metadata": {},
     "output_type": "execute_result"
    }
   ],
   "source": [
    "arr1*0.4"
   ]
  },
  {
   "cell_type": "code",
   "execution_count": 250,
   "id": "2805a297-fab4-4b96-94a8-c5e8e0e140c5",
   "metadata": {},
   "outputs": [],
   "source": [
    "arr= np.arange(0,25).reshape(5,5)"
   ]
  },
  {
   "cell_type": "code",
   "execution_count": 251,
   "id": "90f949b2-4eca-462d-97c3-acd7ce2ee200",
   "metadata": {},
   "outputs": [
    {
     "data": {
      "text/plain": [
       "array([[ 0,  1,  2,  3,  4],\n",
       "       [ 5,  6,  7,  8,  9],\n",
       "       [10, 11, 12, 13, 14],\n",
       "       [15, 16, 17, 18, 19],\n",
       "       [20, 21, 22, 23, 24]])"
      ]
     },
     "execution_count": 251,
     "metadata": {},
     "output_type": "execute_result"
    }
   ],
   "source": [
    "arr"
   ]
  },
  {
   "cell_type": "code",
   "execution_count": 252,
   "id": "bddde708-7451-4ea2-922d-64dc85aa31cd",
   "metadata": {},
   "outputs": [
    {
     "data": {
      "text/plain": [
       "array([50, 55, 60, 65, 70])"
      ]
     },
     "execution_count": 252,
     "metadata": {},
     "output_type": "execute_result"
    }
   ],
   "source": [
    "arr.sum(axis=0)  #row"
   ]
  },
  {
   "cell_type": "code",
   "execution_count": 253,
   "id": "5dad0ae1-5656-4c5b-92cd-6bbec6065580",
   "metadata": {},
   "outputs": [
    {
     "data": {
      "text/plain": [
       "array([ 10,  35,  60,  85, 110])"
      ]
     },
     "execution_count": 253,
     "metadata": {},
     "output_type": "execute_result"
    }
   ],
   "source": [
    "arr.sum(axis=1) #column"
   ]
  },
  {
   "cell_type": "markdown",
   "id": "bf31414b-2912-4ab9-b97d-4048a43b8fad",
   "metadata": {},
   "source": [
    "# zeros"
   ]
  },
  {
   "cell_type": "code",
   "execution_count": 31,
   "id": "62db5687-5f06-47c1-a536-924e46303ae4",
   "metadata": {},
   "outputs": [],
   "source": [
    "zeros=np.zeros((2,2),dtype='int')  "
   ]
  },
  {
   "cell_type": "code",
   "execution_count": 32,
   "id": "de50e02d-528d-436d-a1ee-2fab0dc68d3e",
   "metadata": {},
   "outputs": [
    {
     "data": {
      "text/plain": [
       "array([[0, 0],\n",
       "       [0, 0]])"
      ]
     },
     "execution_count": 32,
     "metadata": {},
     "output_type": "execute_result"
    }
   ],
   "source": [
    "zeros"
   ]
  },
  {
   "cell_type": "code",
   "execution_count": 33,
   "id": "5a413b82-7e05-4db6-a4f9-1369b85bca0c",
   "metadata": {},
   "outputs": [],
   "source": [
    "zeros=np.zeros((3,2),dtype='float')  "
   ]
  },
  {
   "cell_type": "code",
   "execution_count": 34,
   "id": "e1759237-ef31-4ada-b725-c3c373e0dc94",
   "metadata": {},
   "outputs": [
    {
     "data": {
      "text/plain": [
       "array([[0., 0.],\n",
       "       [0., 0.],\n",
       "       [0., 0.]])"
      ]
     },
     "execution_count": 34,
     "metadata": {},
     "output_type": "execute_result"
    }
   ],
   "source": [
    "zeros"
   ]
  },
  {
   "cell_type": "markdown",
   "id": "e57be078-b0e5-4b1f-8dac-2409eb161be6",
   "metadata": {},
   "source": [
    "# ones"
   ]
  },
  {
   "cell_type": "code",
   "execution_count": 35,
   "id": "6cc2cc7d-9937-4c24-935e-57feac264b82",
   "metadata": {},
   "outputs": [],
   "source": [
    "ones=np.ones((3,2))  #dtype default float"
   ]
  },
  {
   "cell_type": "code",
   "execution_count": 36,
   "id": "cfd41020-c531-4ce0-b3a8-5c42cad3471f",
   "metadata": {},
   "outputs": [
    {
     "data": {
      "text/plain": [
       "array([[1., 1.],\n",
       "       [1., 1.],\n",
       "       [1., 1.]])"
      ]
     },
     "execution_count": 36,
     "metadata": {},
     "output_type": "execute_result"
    }
   ],
   "source": [
    "ones"
   ]
  },
  {
   "cell_type": "markdown",
   "id": "f7ff56c7-6efb-4d21-bc35-739c0e50b0d2",
   "metadata": {},
   "source": [
    "# full"
   ]
  },
  {
   "cell_type": "code",
   "execution_count": 37,
   "id": "9324ac8d-0337-4b72-a418-7649dba2b6d3",
   "metadata": {},
   "outputs": [
    {
     "data": {
      "text/plain": [
       "array([[5, 5, 5],\n",
       "       [5, 5, 5]])"
      ]
     },
     "execution_count": 37,
     "metadata": {},
     "output_type": "execute_result"
    }
   ],
   "source": [
    "np.full ((2,3),5) # np.full((shape), element)"
   ]
  },
  {
   "cell_type": "code",
   "execution_count": 38,
   "id": "6422ccba-507d-4ae9-9477-0b3d68081446",
   "metadata": {},
   "outputs": [
    {
     "data": {
      "text/plain": [
       "array([10., 10., 10., 10., 10.])"
      ]
     },
     "execution_count": 38,
     "metadata": {},
     "output_type": "execute_result"
    }
   ],
   "source": [
    "np.full (5,10.0) #iteration, value"
   ]
  },
  {
   "cell_type": "markdown",
   "id": "93a47db7-b458-4514-a981-81e734dca910",
   "metadata": {},
   "source": [
    "### Value of your own"
   ]
  },
  {
   "cell_type": "code",
   "execution_count": 39,
   "id": "ba712c5b-ba32-41ca-b3d9-37003e627ee1",
   "metadata": {},
   "outputs": [],
   "source": [
    "spurs=np.full((3,2),\"Spurs\")"
   ]
  },
  {
   "cell_type": "code",
   "execution_count": 40,
   "id": "8f90e1d7-a077-47bc-ac10-e7a32a4b02b8",
   "metadata": {},
   "outputs": [
    {
     "name": "stdout",
     "output_type": "stream",
     "text": [
      "[['Spurs' 'Spurs']\n",
      " ['Spurs' 'Spurs']\n",
      " ['Spurs' 'Spurs']]\n"
     ]
    }
   ],
   "source": [
    "print(spurs)"
   ]
  },
  {
   "cell_type": "markdown",
   "id": "df18c0b7-54c6-458e-ac83-e185215b9542",
   "metadata": {},
   "source": [
    "# full Like"
   ]
  },
  {
   "cell_type": "raw",
   "id": "48fb9a92-c710-49ea-a41f-6d46835d97c1",
   "metadata": {},
   "source": [
    "\n",
    "b= array([[2, 3, 4],\n",
    "         [4, 5, 6]])"
   ]
  },
  {
   "cell_type": "code",
   "execution_count": 41,
   "id": "534b7290-51dd-40d5-8b76-2ef516912f9c",
   "metadata": {},
   "outputs": [
    {
     "data": {
      "text/plain": [
       "array([[6, 6, 6],\n",
       "       [6, 6, 6]])"
      ]
     },
     "execution_count": 41,
     "metadata": {},
     "output_type": "execute_result"
    }
   ],
   "source": [
    "np.full_like(b,6) #same shape as an arrray we already used"
   ]
  },
  {
   "cell_type": "markdown",
   "id": "274722b7-493f-4e6e-91f8-65c088b5ad4a",
   "metadata": {},
   "source": [
    "# identity matrix"
   ]
  },
  {
   "cell_type": "code",
   "execution_count": 42,
   "id": "766e7e0c-1c12-418c-9653-07f0693cb6d1",
   "metadata": {},
   "outputs": [
    {
     "data": {
      "text/plain": [
       "array([[1., 0., 0., 0., 0.],\n",
       "       [0., 1., 0., 0., 0.],\n",
       "       [0., 0., 1., 0., 0.],\n",
       "       [0., 0., 0., 1., 0.],\n",
       "       [0., 0., 0., 0., 1.]])"
      ]
     },
     "execution_count": 42,
     "metadata": {},
     "output_type": "execute_result"
    }
   ],
   "source": [
    "np.identity(5) #takes only one parameter"
   ]
  },
  {
   "cell_type": "raw",
   "id": "4f6fab3b-de87-4563-92cb-57b12537b2ec",
   "metadata": {},
   "source": [
    "With Different Value"
   ]
  },
  {
   "cell_type": "code",
   "execution_count": 43,
   "id": "ba71ccee-1dbd-4d42-9c53-a8d46d90afc6",
   "metadata": {},
   "outputs": [],
   "source": [
    "identity_matrix=5*np.identity(5)"
   ]
  },
  {
   "cell_type": "code",
   "execution_count": 44,
   "id": "8a0ad968-d3ec-469a-a69b-4af98abcffaa",
   "metadata": {},
   "outputs": [
    {
     "data": {
      "text/plain": [
       "array([[5., 0., 0., 0., 0.],\n",
       "       [0., 5., 0., 0., 0.],\n",
       "       [0., 0., 5., 0., 0.],\n",
       "       [0., 0., 0., 5., 0.],\n",
       "       [0., 0., 0., 0., 5.]])"
      ]
     },
     "execution_count": 44,
     "metadata": {},
     "output_type": "execute_result"
    }
   ],
   "source": [
    "identity_matrix"
   ]
  },
  {
   "cell_type": "markdown",
   "id": "7daa1af0-f44a-4806-949e-a66422694880",
   "metadata": {},
   "source": [
    "# eye\n",
    "The numpy.eye() function in Python's NumPy library is used to create a 2-dimensional array (matrix) with ones on a specified diagonal and zeros elsewhere. This function is commonly used to generate identity matrices, which are square matrices with ones only on the main diagonal and zeros in all other positions. \n"
   ]
  },
  {
   "cell_type": "code",
   "execution_count": 45,
   "id": "d1c3fb51-50b5-48d8-ae0d-699c17a871e1",
   "metadata": {},
   "outputs": [],
   "source": [
    "eye=np.eye(6,5,-1,dtype='int') # K- negative goes left # K- positive goes right\n"
   ]
  },
  {
   "cell_type": "code",
   "execution_count": 46,
   "id": "46a28830-4bc9-4b47-9559-81769e374650",
   "metadata": {},
   "outputs": [
    {
     "data": {
      "text/plain": [
       "array([[0, 0, 0, 0, 0],\n",
       "       [1, 0, 0, 0, 0],\n",
       "       [0, 1, 0, 0, 0],\n",
       "       [0, 0, 1, 0, 0],\n",
       "       [0, 0, 0, 1, 0],\n",
       "       [0, 0, 0, 0, 1]])"
      ]
     },
     "execution_count": 46,
     "metadata": {},
     "output_type": "execute_result"
    }
   ],
   "source": [
    "eye\n"
   ]
  },
  {
   "cell_type": "code",
   "execution_count": 47,
   "id": "99e93a2d-25ae-4f3e-91b5-1e578c3f6899",
   "metadata": {},
   "outputs": [],
   "source": [
    "eye=np.eye(5,5,2)"
   ]
  },
  {
   "cell_type": "code",
   "execution_count": 48,
   "id": "a7a8efea-30cd-4eea-acd0-69e78534afda",
   "metadata": {},
   "outputs": [
    {
     "data": {
      "text/plain": [
       "array([[0., 0., 1., 0., 0.],\n",
       "       [0., 0., 0., 1., 0.],\n",
       "       [0., 0., 0., 0., 1.],\n",
       "       [0., 0., 0., 0., 0.],\n",
       "       [0., 0., 0., 0., 0.]])"
      ]
     },
     "execution_count": 48,
     "metadata": {},
     "output_type": "execute_result"
    }
   ],
   "source": [
    "eye"
   ]
  },
  {
   "cell_type": "code",
   "execution_count": 49,
   "id": "50a3b48b-890c-44c4-8fc6-3a7c6e2b9d7f",
   "metadata": {},
   "outputs": [],
   "source": [
    "eye=np.eye(5)*5"
   ]
  },
  {
   "cell_type": "code",
   "execution_count": 50,
   "id": "36aae559-fefb-4967-9628-d1bd0ded6b88",
   "metadata": {},
   "outputs": [
    {
     "data": {
      "text/plain": [
       "array([[5., 0., 0., 0., 0.],\n",
       "       [0., 5., 0., 0., 0.],\n",
       "       [0., 0., 5., 0., 0.],\n",
       "       [0., 0., 0., 5., 0.],\n",
       "       [0., 0., 0., 0., 5.]])"
      ]
     },
     "execution_count": 50,
     "metadata": {},
     "output_type": "execute_result"
    }
   ],
   "source": [
    "eye"
   ]
  },
  {
   "cell_type": "markdown",
   "id": "d8d5626e-f46b-4874-96c7-32946f1c5da9",
   "metadata": {},
   "source": [
    "# arange"
   ]
  },
  {
   "cell_type": "code",
   "execution_count": 51,
   "id": "0a3a0403-a27a-466f-a1e1-61fa0e5fd4a0",
   "metadata": {},
   "outputs": [],
   "source": [
    "arange= np.arange(7) #starts from index 0"
   ]
  },
  {
   "cell_type": "code",
   "execution_count": 52,
   "id": "c8f38051-9618-4ac5-b833-0830db532ab6",
   "metadata": {},
   "outputs": [
    {
     "data": {
      "text/plain": [
       "array([0, 1, 2, 3, 4, 5, 6])"
      ]
     },
     "execution_count": 52,
     "metadata": {},
     "output_type": "execute_result"
    }
   ],
   "source": [
    "arange"
   ]
  },
  {
   "cell_type": "code",
   "execution_count": 53,
   "id": "593a032f-ea00-4322-9505-858690801f6e",
   "metadata": {},
   "outputs": [],
   "source": [
    "arange=np.arange(2,20,4) #arrange(starting value,ending  vlaue, step size(interval between them)) "
   ]
  },
  {
   "cell_type": "code",
   "execution_count": 54,
   "id": "e42d3b34-308b-4cf2-8892-9754530a4ac7",
   "metadata": {},
   "outputs": [
    {
     "data": {
      "text/plain": [
       "array([ 2,  6, 10, 14, 18])"
      ]
     },
     "execution_count": 54,
     "metadata": {},
     "output_type": "execute_result"
    }
   ],
   "source": [
    "arange"
   ]
  },
  {
   "cell_type": "markdown",
   "id": "8cf87f7d-5695-46d6-9907-338d8661ce6c",
   "metadata": {},
   "source": [
    "# linspace "
   ]
  },
  {
   "cell_type": "code",
   "execution_count": 55,
   "id": "70dab485-8def-4fc8-bf1d-b5920da542f1",
   "metadata": {},
   "outputs": [],
   "source": [
    "linspace = np.linspace (2,20,4) #Linspace (start point, end point, number of values) "
   ]
  },
  {
   "cell_type": "code",
   "execution_count": 56,
   "id": "eefe39c4-be78-41b3-998b-1efb48fc989f",
   "metadata": {},
   "outputs": [
    {
     "data": {
      "text/plain": [
       "array([ 2.,  8., 14., 20.])"
      ]
     },
     "execution_count": 56,
     "metadata": {},
     "output_type": "execute_result"
    }
   ],
   "source": [
    "linspace"
   ]
  },
  {
   "cell_type": "code",
   "execution_count": 57,
   "id": "247cd139-a577-4301-b061-cac57295af01",
   "metadata": {},
   "outputs": [
    {
     "data": {
      "text/plain": [
       "4"
      ]
     },
     "execution_count": 57,
     "metadata": {},
     "output_type": "execute_result"
    }
   ],
   "source": [
    "linspace. size #default=50"
   ]
  },
  {
   "cell_type": "code",
   "execution_count": 58,
   "id": "b9cce088-1a2e-408a-b9dd-29a1260d00fb",
   "metadata": {},
   "outputs": [],
   "source": [
    "linspace = np.linspace (50,100,5, dtype='int')"
   ]
  },
  {
   "cell_type": "code",
   "execution_count": 59,
   "id": "57c4425a-a604-4400-81ff-ac6afc4b02ba",
   "metadata": {},
   "outputs": [
    {
     "data": {
      "text/plain": [
       "array([ 50,  62,  75,  87, 100])"
      ]
     },
     "execution_count": 59,
     "metadata": {},
     "output_type": "execute_result"
    }
   ],
   "source": [
    "linspace"
   ]
  },
  {
   "cell_type": "markdown",
   "id": "d01e846a-51f7-4d73-b081-ebd0eafb724e",
   "metadata": {},
   "source": [
    "# empty\n",
    "numpy.empty(shape, dtype=float, order='C')\n",
    "\n",
    "\n",
    "An \"empty\" NumPy array refers to an array that has been allocated memory but whose elements have not been initialized to any specific value, such as zero. Instead, the elements contain whatever arbitrary data happened to be in those memory locations when the array was created. This can offer a performance advantage over initializing all elements, especially for very large arrays, if the subsequent code will immediately overwrite all the elements anyway."
   ]
  },
  {
   "cell_type": "code",
   "execution_count": 60,
   "id": "c943f93c-8082-4531-801e-d13ce774e4a0",
   "metadata": {},
   "outputs": [],
   "source": [
    "empty =np.empty((7,4))"
   ]
  },
  {
   "cell_type": "code",
   "execution_count": 61,
   "id": "cd57e329-6965-456a-8923-1b3095646d2f",
   "metadata": {},
   "outputs": [
    {
     "data": {
      "text/plain": [
       "array([[6.23042070e-307, 4.67296746e-307, 1.69121096e-306,\n",
       "        3.11522054e-307],\n",
       "       [1.42413555e-306, 1.78019082e-306, 1.37959740e-306,\n",
       "        6.23057349e-307],\n",
       "       [1.02360935e-306, 1.69120416e-306, 1.78022342e-306,\n",
       "        6.23058028e-307],\n",
       "       [1.06811422e-306, 9.45699680e-308, 1.11258854e-306,\n",
       "        1.11261502e-306],\n",
       "       [1.42410839e-306, 7.56597770e-307, 6.23059726e-307,\n",
       "        1.42419530e-306],\n",
       "       [1.11261027e-306, 9.79097007e-307, 1.78019354e-306,\n",
       "        6.89810244e-307],\n",
       "       [9.34609111e-307, 1.42419530e-306, 2.22522596e-306,\n",
       "        1.42410974e-306]])"
      ]
     },
     "execution_count": 61,
     "metadata": {},
     "output_type": "execute_result"
    }
   ],
   "source": [
    "empty #returns memory location "
   ]
  },
  {
   "cell_type": "markdown",
   "id": "01d9d254-3ac9-465f-926f-f91ea2d23e49",
   "metadata": {},
   "source": [
    "# random number"
   ]
  },
  {
   "cell_type": "markdown",
   "id": "a00721c5-df52-4e23-901f-07760296777c",
   "metadata": {},
   "source": [
    "### int"
   ]
  },
  {
   "cell_type": "code",
   "execution_count": 62,
   "id": "0bb7b0ea-95e8-4456-b29b-65e01ae3bcce",
   "metadata": {},
   "outputs": [],
   "source": [
    "arr1 = np.random.randint(1,10,size=4) #1D Array"
   ]
  },
  {
   "cell_type": "code",
   "execution_count": 63,
   "id": "f9b55dee-8a54-48f1-9b1e-978c5e69f0e4",
   "metadata": {},
   "outputs": [
    {
     "data": {
      "text/plain": [
       "array([1, 4, 2, 8], dtype=int32)"
      ]
     },
     "execution_count": 63,
     "metadata": {},
     "output_type": "execute_result"
    }
   ],
   "source": [
    "arr1"
   ]
  },
  {
   "cell_type": "code",
   "execution_count": 64,
   "id": "07cdcfb2-faf0-49c7-8200-f095125a943f",
   "metadata": {},
   "outputs": [],
   "source": [
    "arr2 = np.random.randint(1,10,size=(3,3)) #2D array"
   ]
  },
  {
   "cell_type": "code",
   "execution_count": 65,
   "id": "aa831f51-14bc-4985-8376-4ea8d2264d0e",
   "metadata": {},
   "outputs": [
    {
     "data": {
      "text/plain": [
       "array([[7, 7, 1],\n",
       "       [3, 3, 1],\n",
       "       [3, 6, 2]], dtype=int32)"
      ]
     },
     "execution_count": 65,
     "metadata": {},
     "output_type": "execute_result"
    }
   ],
   "source": [
    "arr2"
   ]
  },
  {
   "cell_type": "code",
   "execution_count": 66,
   "id": "68e6a030-f699-453f-94bc-5b31682fd372",
   "metadata": {},
   "outputs": [],
   "source": [
    "arr3 = np.random.randint(1,10,(3,3)) #range,size"
   ]
  },
  {
   "cell_type": "code",
   "execution_count": 67,
   "id": "0a8513c8-2f9a-40e8-acb7-c04b7237c39d",
   "metadata": {},
   "outputs": [
    {
     "name": "stdout",
     "output_type": "stream",
     "text": [
      "[[4 1 3]\n",
      " [3 3 3]\n",
      " [6 6 5]]\n"
     ]
    }
   ],
   "source": [
    "print(arr3)"
   ]
  },
  {
   "cell_type": "markdown",
   "id": "61c8f8f3-a8a4-4b03-b94b-769457704aa6",
   "metadata": {},
   "source": [
    "### float"
   ]
  },
  {
   "cell_type": "markdown",
   "id": "1abcc332-4542-47d8-b659-f410ee59a397",
   "metadata": {},
   "source": [
    "### 3D"
   ]
  },
  {
   "cell_type": "code",
   "execution_count": 68,
   "id": "355ac203-8177-487f-8f8d-1c3e14d2d379",
   "metadata": {},
   "outputs": [],
   "source": [
    "arr3=np.random.rand(3,2,3) #3D,Row,Column"
   ]
  },
  {
   "cell_type": "code",
   "execution_count": 69,
   "id": "5845b1c5-9d5e-4648-a79e-bb4c22e55966",
   "metadata": {},
   "outputs": [
    {
     "data": {
      "text/plain": [
       "array([[[0.20587608, 0.86209924, 0.05128157],\n",
       "        [0.38544934, 0.27619704, 0.79556685]],\n",
       "\n",
       "       [[0.18975347, 0.19222226, 0.98066962],\n",
       "        [0.50432063, 0.69596673, 0.49514634]],\n",
       "\n",
       "       [[0.23083288, 0.8166813 , 0.49678292],\n",
       "        [0.72548978, 0.04742821, 0.78000449]]])"
      ]
     },
     "execution_count": 69,
     "metadata": {},
     "output_type": "execute_result"
    }
   ],
   "source": [
    "arr3"
   ]
  },
  {
   "cell_type": "markdown",
   "id": "648819f0-539c-46c2-aff6-bc049e75f903",
   "metadata": {},
   "source": [
    "### 2D"
   ]
  },
  {
   "cell_type": "code",
   "execution_count": 70,
   "id": "9f2e3920-b3c7-4500-91f1-a801bb895dc5",
   "metadata": {},
   "outputs": [],
   "source": [
    "random_numbers = np.random.rand(7, 5)"
   ]
  },
  {
   "cell_type": "code",
   "execution_count": 71,
   "id": "dc99efaa-c27c-407d-a19d-61629b774eeb",
   "metadata": {},
   "outputs": [
    {
     "name": "stdout",
     "output_type": "stream",
     "text": [
      "[[0.73328302 0.5172017  0.10055231 0.59097575 0.11804411]\n",
      " [0.56461245 0.99684786 0.66699842 0.64593076 0.7955269 ]\n",
      " [0.47969354 0.88880724 0.51793245 0.96364078 0.36954681]\n",
      " [0.58527209 0.53024682 0.14708314 0.18020886 0.56955477]\n",
      " [0.32619975 0.95410004 0.80889137 0.19139851 0.9120147 ]\n",
      " [0.97882458 0.38187758 0.6374432  0.46364636 0.36707564]\n",
      " [0.31052578 0.742282   0.03425804 0.24871244 0.10810715]]\n"
     ]
    }
   ],
   "source": [
    "print(random_numbers)"
   ]
  },
  {
   "cell_type": "markdown",
   "id": "fd9e8ba0-7875-4cd0-9566-a6ce019e05fc",
   "metadata": {},
   "source": [
    "### random sample"
   ]
  },
  {
   "cell_type": "raw",
   "id": "584e2366-e3cf-4f5f-a4f2-660641bc0738",
   "metadata": {},
   "source": [
    "arr1 = np.random.randint(1,10,size=4) #1D Array"
   ]
  },
  {
   "cell_type": "code",
   "execution_count": 72,
   "id": "3e7cd3aa-fadf-45fc-8c93-f268515891a8",
   "metadata": {},
   "outputs": [
    {
     "data": {
      "text/plain": [
       "array([1, 4, 2, 8], dtype=int32)"
      ]
     },
     "execution_count": 72,
     "metadata": {},
     "output_type": "execute_result"
    }
   ],
   "source": [
    "arr1"
   ]
  },
  {
   "cell_type": "code",
   "execution_count": 73,
   "id": "e19fdce4-b978-4304-bcaf-a949f36eef3c",
   "metadata": {},
   "outputs": [],
   "source": [
    "rans=np.random.random_sample(arr1.shape) #will be using same shape as arr1"
   ]
  },
  {
   "cell_type": "code",
   "execution_count": 74,
   "id": "63e9a7b3-8515-4800-9a9d-ecef992926aa",
   "metadata": {},
   "outputs": [
    {
     "data": {
      "text/plain": [
       "array([0.53268938, 0.48469697, 0.85694788, 0.07692259])"
      ]
     },
     "execution_count": 74,
     "metadata": {},
     "output_type": "execute_result"
    }
   ],
   "source": [
    "rans"
   ]
  },
  {
   "cell_type": "markdown",
   "id": "06580a16-7205-4837-8e7d-6ec700eb0ad6",
   "metadata": {},
   "source": [
    "### Random Fix or Reusbale Value "
   ]
  },
  {
   "cell_type": "code",
   "execution_count": 75,
   "id": "16f5f724-02d0-467d-9fb7-b75c37f5302e",
   "metadata": {},
   "outputs": [
    {
     "data": {
      "text/plain": [
       "array([[52, 93, 15, 72, 61],\n",
       "       [21, 83, 87, 75, 75]], dtype=int32)"
      ]
     },
     "execution_count": 75,
     "metadata": {},
     "output_type": "execute_result"
    }
   ],
   "source": [
    "np.random.seed(42)\n",
    "np.random.randint(1,100,(2,5))"
   ]
  },
  {
   "cell_type": "markdown",
   "id": "c9f757a5-34f0-4fb8-bf57-730398524f9f",
   "metadata": {},
   "source": [
    "### uniform Distrubtion"
   ]
  },
  {
   "cell_type": "raw",
   "id": "ef50b7d8-52c6-4b5d-a382-7641da11a810",
   "metadata": {},
   "source": [
    "Uniformly distributed integers in a given range"
   ]
  },
  {
   "cell_type": "code",
   "execution_count": 76,
   "id": "00d51372-0f7a-4fd5-8008-1331b64cca21",
   "metadata": {},
   "outputs": [
    {
     "data": {
      "text/plain": [
       "array([0.86617615, 0.60111501, 0.70807258, 0.02058449, 0.96990985])"
      ]
     },
     "execution_count": 76,
     "metadata": {},
     "output_type": "execute_result"
    }
   ],
   "source": [
    "np.random.rand(5)"
   ]
  },
  {
   "cell_type": "code",
   "execution_count": 77,
   "id": "2e7fd611-9471-4b48-be58-796cf24c606a",
   "metadata": {},
   "outputs": [
    {
     "data": {
      "text/plain": [
       "array([[0.83244264, 0.21233911, 0.18182497, 0.18340451, 0.30424224],\n",
       "       [0.52475643, 0.43194502, 0.29122914, 0.61185289, 0.13949386],\n",
       "       [0.29214465, 0.36636184, 0.45606998, 0.78517596, 0.19967378],\n",
       "       [0.51423444, 0.59241457, 0.04645041, 0.60754485, 0.17052412],\n",
       "       [0.06505159, 0.94888554, 0.96563203, 0.80839735, 0.30461377]])"
      ]
     },
     "execution_count": 77,
     "metadata": {},
     "output_type": "execute_result"
    }
   ],
   "source": [
    "np.random.rand(5,5)"
   ]
  },
  {
   "cell_type": "markdown",
   "id": "e578f5ec-3de5-49c6-aeb6-fe4e1b36f9f2",
   "metadata": {},
   "source": [
    "# array indexing"
   ]
  },
  {
   "cell_type": "markdown",
   "id": "26944c50-da03-4bca-9906-33ebba4ccfbb",
   "metadata": {},
   "source": [
    "### 1D Array (Vector)"
   ]
  },
  {
   "cell_type": "code",
   "execution_count": 78,
   "id": "04183108-f08a-4b02-adb2-db38cf5bd966",
   "metadata": {},
   "outputs": [
    {
     "name": "stdout",
     "output_type": "stream",
     "text": [
      "1\n"
     ]
    }
   ],
   "source": [
    "import numpy as np\n",
    "arr3 = np.array([1, 2, 3, 4, 6])\n",
    "print(arr3[0])\n"
   ]
  },
  {
   "cell_type": "code",
   "execution_count": 79,
   "id": "4eba8d7b-ab7b-46e8-a67c-016b4e4bf6d4",
   "metadata": {},
   "outputs": [
    {
     "name": "stdout",
     "output_type": "stream",
     "text": [
      "6\n"
     ]
    }
   ],
   "source": [
    "print(arr3[-1])\n"
   ]
  },
  {
   "cell_type": "markdown",
   "id": "9a14016a-c945-4365-9e6c-bc9c895f02e9",
   "metadata": {},
   "source": [
    "### 2D Array (Matrix)"
   ]
  },
  {
   "cell_type": "code",
   "execution_count": 80,
   "id": "e196c5f3-b6be-4663-924f-0adf5a44a847",
   "metadata": {},
   "outputs": [],
   "source": [
    "arr4=np.array([[1,2,3],[4,5,6]])"
   ]
  },
  {
   "cell_type": "code",
   "execution_count": 81,
   "id": "47c6d37a-795f-409c-9c5e-ba9a88308529",
   "metadata": {},
   "outputs": [
    {
     "data": {
      "text/plain": [
       "array([[1, 2, 3],\n",
       "       [4, 5, 6]])"
      ]
     },
     "execution_count": 81,
     "metadata": {},
     "output_type": "execute_result"
    }
   ],
   "source": [
    "arr4"
   ]
  },
  {
   "cell_type": "code",
   "execution_count": 82,
   "id": "2ba69428-ac9a-47de-8197-fe1ea5da86c6",
   "metadata": {},
   "outputs": [
    {
     "name": "stdout",
     "output_type": "stream",
     "text": [
      "6\n"
     ]
    }
   ],
   "source": [
    "print(arr4[1,2]) # [Row,Column]"
   ]
  },
  {
   "cell_type": "code",
   "execution_count": 83,
   "id": "9e1e8bfb-09fe-4b8b-8a85-f7c74eac643b",
   "metadata": {},
   "outputs": [],
   "source": [
    "arr5=np.random.randint(1,48,size=(5,5))"
   ]
  },
  {
   "cell_type": "code",
   "execution_count": 84,
   "id": "b513a68b-f0d6-47b1-b90b-c45879f45f61",
   "metadata": {},
   "outputs": [
    {
     "name": "stdout",
     "output_type": "stream",
     "text": [
      "[[ 2 20 28 47  7]\n",
      " [44  8 47 35 14]\n",
      " [17 36 40  4  2]\n",
      " [ 6 42  4 29 18]\n",
      " [26 44 34 10 36]]\n"
     ]
    }
   ],
   "source": [
    "print(arr5)"
   ]
  },
  {
   "cell_type": "code",
   "execution_count": 85,
   "id": "c62f7fc0-70eb-4eaa-b8f1-dd90c123b639",
   "metadata": {},
   "outputs": [
    {
     "name": "stdout",
     "output_type": "stream",
     "text": [
      "47\n"
     ]
    }
   ],
   "source": [
    "#print 46 from the above\n",
    "print(arr5[1,2])"
   ]
  },
  {
   "cell_type": "markdown",
   "id": "91f33746-8075-4c47-8a6b-3106a54918fd",
   "metadata": {},
   "source": [
    "### 3D Array"
   ]
  },
  {
   "cell_type": "code",
   "execution_count": 86,
   "id": "ba26d36b-5d77-40d4-9670-7b7c82253aa0",
   "metadata": {},
   "outputs": [],
   "source": [
    "arr6=np.random.randint(1,47,size=(3,4,3))"
   ]
  },
  {
   "cell_type": "code",
   "execution_count": 87,
   "id": "e52eb1ef-b5b0-439d-a92e-05509d0c8427",
   "metadata": {},
   "outputs": [
    {
     "name": "stdout",
     "output_type": "stream",
     "text": [
      "[[[14 31 15]\n",
      "  [ 8 14 23]\n",
      "  [40 21 16]\n",
      "  [45 18 24]]\n",
      "\n",
      " [[26 25 45]\n",
      "  [41 29 15]\n",
      "  [45  1 25]\n",
      "  [ 7  9 24]]\n",
      "\n",
      " [[ 1 44  8]\n",
      "  [24 11 17]\n",
      "  [ 8 35 35]\n",
      "  [33  5 42]]]\n"
     ]
    }
   ],
   "source": [
    "print(arr6)"
   ]
  },
  {
   "cell_type": "code",
   "execution_count": 88,
   "id": "7e0169e1-1f4d-4ee4-b0f3-d66eb6a97043",
   "metadata": {},
   "outputs": [
    {
     "name": "stdout",
     "output_type": "stream",
     "text": [
      "35\n"
     ]
    }
   ],
   "source": [
    "print(arr6[2,2,1]) #[Set,Row,Column]"
   ]
  },
  {
   "cell_type": "markdown",
   "id": "87cf3db6-691a-46dd-b3f5-14f141933249",
   "metadata": {},
   "source": [
    "### Get all rows"
   ]
  },
  {
   "cell_type": "code",
   "execution_count": 89,
   "id": "5448b840-63aa-44d4-aa0c-370489bb7a2a",
   "metadata": {},
   "outputs": [
    {
     "data": {
      "text/plain": [
       "array([ 2, 20, 28, 47,  7], dtype=int32)"
      ]
     },
     "execution_count": 89,
     "metadata": {},
     "output_type": "execute_result"
    }
   ],
   "source": [
    "arr5[0,:]"
   ]
  },
  {
   "cell_type": "code",
   "execution_count": 90,
   "id": "d4a191b1-6cd5-4f90-8782-a4ef7a15c882",
   "metadata": {},
   "outputs": [
    {
     "data": {
      "text/plain": [
       "array([[14, 31, 15],\n",
       "       [26, 25, 45],\n",
       "       [ 1, 44,  8]], dtype=int32)"
      ]
     },
     "execution_count": 90,
     "metadata": {},
     "output_type": "execute_result"
    }
   ],
   "source": [
    "arr6[:,0,:]"
   ]
  },
  {
   "cell_type": "markdown",
   "id": "41e65942-dab9-4212-b526-0bc6f28bca04",
   "metadata": {},
   "source": [
    "### Get all columns"
   ]
  },
  {
   "cell_type": "code",
   "execution_count": 91,
   "id": "1e8935ac-c2a1-49b9-814b-5fc2938963b5",
   "metadata": {},
   "outputs": [
    {
     "data": {
      "text/plain": [
       "array([ 2, 44, 17,  6, 26], dtype=int32)"
      ]
     },
     "execution_count": 91,
     "metadata": {},
     "output_type": "execute_result"
    }
   ],
   "source": [
    "arr5[:,0]"
   ]
  },
  {
   "cell_type": "code",
   "execution_count": 92,
   "id": "9d1cfbd6-15b7-44f0-b321-1535f4765131",
   "metadata": {},
   "outputs": [
    {
     "data": {
      "text/plain": [
       "array([[14,  8, 40, 45],\n",
       "       [26, 41, 45,  7],\n",
       "       [ 1, 24,  8, 33]], dtype=int32)"
      ]
     },
     "execution_count": 92,
     "metadata": {},
     "output_type": "execute_result"
    }
   ],
   "source": [
    "arr6[:,:,0]"
   ]
  },
  {
   "cell_type": "markdown",
   "id": "5533b42e-8603-40ae-a51b-36ccc6ef4440",
   "metadata": {},
   "source": [
    "### iteration"
   ]
  },
  {
   "cell_type": "code",
   "execution_count": 93,
   "id": "a6f77f28-bb1a-4a9c-af1b-917b31138860",
   "metadata": {},
   "outputs": [],
   "source": [
    "array_indx=np.array([[1,3,5,7,9,11],[2,4,6,8,10,12]])"
   ]
  },
  {
   "cell_type": "code",
   "execution_count": 94,
   "id": "8ea94af3-a2b0-4f20-b207-9aedb90ee7fa",
   "metadata": {},
   "outputs": [
    {
     "data": {
      "text/plain": [
       "array([[ 1,  3,  5,  7,  9, 11],\n",
       "       [ 2,  4,  6,  8, 10, 12]])"
      ]
     },
     "execution_count": 94,
     "metadata": {},
     "output_type": "execute_result"
    }
   ],
   "source": [
    "array_indx"
   ]
  },
  {
   "cell_type": "code",
   "execution_count": 95,
   "id": "b165ed40-34c2-4b1e-a638-2a09e95d5167",
   "metadata": {},
   "outputs": [
    {
     "data": {
      "text/plain": [
       "array([2, 6])"
      ]
     },
     "execution_count": 95,
     "metadata": {},
     "output_type": "execute_result"
    }
   ],
   "source": [
    "array_indx[1,0:-2:2]"
   ]
  },
  {
   "cell_type": "markdown",
   "id": "8fef89ae-e0ae-4393-8844-335ec36845bf",
   "metadata": {},
   "source": [
    "### Replace"
   ]
  },
  {
   "cell_type": "code",
   "execution_count": 96,
   "id": "c25f5075-d674-4990-bde1-bdb93ae960e3",
   "metadata": {},
   "outputs": [],
   "source": [
    "replace=np.random.randint(10,100,size=(3,2,3))"
   ]
  },
  {
   "cell_type": "code",
   "execution_count": 97,
   "id": "7a50f05c-552d-4677-a373-579eed49bc19",
   "metadata": {},
   "outputs": [
    {
     "data": {
      "text/plain": [
       "array([[[50, 37, 16],\n",
       "        [82, 81, 21]],\n",
       "\n",
       "       [[43, 42, 57],\n",
       "        [32, 71, 97]],\n",
       "\n",
       "       [[46, 53, 95],\n",
       "        [44, 74, 56]]], dtype=int32)"
      ]
     },
     "execution_count": 97,
     "metadata": {},
     "output_type": "execute_result"
    }
   ],
   "source": [
    "replace"
   ]
  },
  {
   "cell_type": "code",
   "execution_count": 98,
   "id": "6255a9fe-b800-4d49-bc3a-1e42dd0d1257",
   "metadata": {},
   "outputs": [],
   "source": [
    "replace[2,0,:]=[0,1,2]"
   ]
  },
  {
   "cell_type": "code",
   "execution_count": 99,
   "id": "06cd6c7e-3f50-4ca1-bda3-f01be36a93fe",
   "metadata": {},
   "outputs": [
    {
     "data": {
      "text/plain": [
       "array([[[50, 37, 16],\n",
       "        [82, 81, 21]],\n",
       "\n",
       "       [[43, 42, 57],\n",
       "        [32, 71, 97]],\n",
       "\n",
       "       [[ 0,  1,  2],\n",
       "        [44, 74, 56]]], dtype=int32)"
      ]
     },
     "execution_count": 99,
     "metadata": {},
     "output_type": "execute_result"
    }
   ],
   "source": [
    "replace"
   ]
  },
  {
   "cell_type": "markdown",
   "id": "31848342-1e78-4339-9334-81cecfc6aed9",
   "metadata": {},
   "source": [
    "# Copy {arrayname.copy()}"
   ]
  },
  {
   "cell_type": "code",
   "execution_count": 100,
   "id": "200e2a86-f2a7-4646-8589-653c0542905c",
   "metadata": {},
   "outputs": [],
   "source": [
    "arr_a =np.array([1,2,3])"
   ]
  },
  {
   "cell_type": "code",
   "execution_count": 101,
   "id": "9b4c6ff0-5c86-433b-99e5-2ed8496df307",
   "metadata": {},
   "outputs": [
    {
     "data": {
      "text/plain": [
       "array([1, 2, 3])"
      ]
     },
     "execution_count": 101,
     "metadata": {},
     "output_type": "execute_result"
    }
   ],
   "source": [
    "arr_a"
   ]
  },
  {
   "cell_type": "code",
   "execution_count": 102,
   "id": "fbabac93-0175-488c-a48b-9bb9175b12e6",
   "metadata": {},
   "outputs": [],
   "source": [
    "arr_b=arr_a"
   ]
  },
  {
   "cell_type": "code",
   "execution_count": 103,
   "id": "415597c1-d0d0-47f2-9e0b-000007118272",
   "metadata": {},
   "outputs": [
    {
     "data": {
      "text/plain": [
       "array([1, 2, 3])"
      ]
     },
     "execution_count": 103,
     "metadata": {},
     "output_type": "execute_result"
    }
   ],
   "source": [
    "arr_b"
   ]
  },
  {
   "cell_type": "code",
   "execution_count": 104,
   "id": "4a3387e0-ca43-419e-8799-6e8eab5a97da",
   "metadata": {},
   "outputs": [],
   "source": [
    "arr_b= arr_a"
   ]
  },
  {
   "cell_type": "code",
   "execution_count": 105,
   "id": "fc423248-af0d-4a66-b728-ac78236ae3bc",
   "metadata": {},
   "outputs": [],
   "source": [
    "arr_b[0]=100"
   ]
  },
  {
   "cell_type": "code",
   "execution_count": 106,
   "id": "40e6874c-3e89-443c-aeff-a3193033c590",
   "metadata": {},
   "outputs": [
    {
     "data": {
      "text/plain": [
       "array([100,   2,   3])"
      ]
     },
     "execution_count": 106,
     "metadata": {},
     "output_type": "execute_result"
    }
   ],
   "source": [
    "arr_b"
   ]
  },
  {
   "cell_type": "code",
   "execution_count": 107,
   "id": "fa124c96-130e-401d-acb8-d04ccbab9d6a",
   "metadata": {},
   "outputs": [
    {
     "data": {
      "text/plain": [
       "array([100,   2,   3])"
      ]
     },
     "execution_count": 107,
     "metadata": {},
     "output_type": "execute_result"
    }
   ],
   "source": [
    "arr_a #value of a is also changed. That is why we should use copy()"
   ]
  },
  {
   "cell_type": "code",
   "execution_count": 108,
   "id": "638311c7-f331-486a-9dc0-0692026ae7ab",
   "metadata": {},
   "outputs": [],
   "source": [
    "arr_c=np.array([4,5,6])"
   ]
  },
  {
   "cell_type": "code",
   "execution_count": 109,
   "id": "baa0025d-ea73-4127-867c-0564e9e79134",
   "metadata": {},
   "outputs": [
    {
     "data": {
      "text/plain": [
       "array([4, 5, 6])"
      ]
     },
     "execution_count": 109,
     "metadata": {},
     "output_type": "execute_result"
    }
   ],
   "source": [
    "arr_c"
   ]
  },
  {
   "cell_type": "code",
   "execution_count": 110,
   "id": "533b4cd4-dafa-45a0-9d67-d1a59e12c47c",
   "metadata": {},
   "outputs": [],
   "source": [
    "arr_d=arr_c.copy()"
   ]
  },
  {
   "cell_type": "code",
   "execution_count": 111,
   "id": "397a36ea-64fd-471e-ba71-f529529b2be7",
   "metadata": {},
   "outputs": [
    {
     "data": {
      "text/plain": [
       "array([4, 5, 6])"
      ]
     },
     "execution_count": 111,
     "metadata": {},
     "output_type": "execute_result"
    }
   ],
   "source": [
    "arr_d "
   ]
  },
  {
   "cell_type": "code",
   "execution_count": 112,
   "id": "3c7150e2-0fc9-4282-94ec-794f33167d7b",
   "metadata": {},
   "outputs": [],
   "source": [
    "arr_d[0]=10"
   ]
  },
  {
   "cell_type": "code",
   "execution_count": 113,
   "id": "6e5c6018-ae69-4d78-8b4b-a18e76f36140",
   "metadata": {},
   "outputs": [
    {
     "data": {
      "text/plain": [
       "array([10,  5,  6])"
      ]
     },
     "execution_count": 113,
     "metadata": {},
     "output_type": "execute_result"
    }
   ],
   "source": [
    "arr_d"
   ]
  },
  {
   "cell_type": "code",
   "execution_count": 114,
   "id": "b9408569-d1f7-41f8-a2e6-a781476f6701",
   "metadata": {},
   "outputs": [
    {
     "data": {
      "text/plain": [
       "array([4, 5, 6])"
      ]
     },
     "execution_count": 114,
     "metadata": {},
     "output_type": "execute_result"
    }
   ],
   "source": [
    "arr_c"
   ]
  },
  {
   "cell_type": "markdown",
   "id": "efa10b62-98f8-495c-b0cb-c284b04120ad",
   "metadata": {},
   "source": [
    "# Array Broadcasting"
   ]
  },
  {
   "cell_type": "code",
   "execution_count": 238,
   "id": "e6366834-c9dc-4533-9cec-e6af6869b148",
   "metadata": {},
   "outputs": [],
   "source": [
    "arr_bradcasting=np.arange(0,10)"
   ]
  },
  {
   "cell_type": "code",
   "execution_count": 239,
   "id": "91e74786-3cfd-4962-baff-5255859cacdd",
   "metadata": {},
   "outputs": [
    {
     "data": {
      "text/plain": [
       "array([0, 1, 2, 3, 4, 5, 6, 7, 8, 9])"
      ]
     },
     "execution_count": 239,
     "metadata": {},
     "output_type": "execute_result"
    }
   ],
   "source": [
    "arr_bradcasting"
   ]
  },
  {
   "cell_type": "code",
   "execution_count": 240,
   "id": "2c9afbe7-c8d6-448d-9e69-485bfa4ededc",
   "metadata": {},
   "outputs": [],
   "source": [
    "arr_bradcasting[4]=20"
   ]
  },
  {
   "cell_type": "code",
   "execution_count": 241,
   "id": "80220829-f3bc-44b6-8b68-4d6c9e752bd3",
   "metadata": {},
   "outputs": [
    {
     "data": {
      "text/plain": [
       "array([ 0,  1,  2,  3, 20,  5,  6,  7,  8,  9])"
      ]
     },
     "execution_count": 241,
     "metadata": {},
     "output_type": "execute_result"
    }
   ],
   "source": [
    "arr_bradcasting"
   ]
  },
  {
   "cell_type": "code",
   "execution_count": 258,
   "id": "5a432197-8e36-41e5-9aa5-e76c5d4e8842",
   "metadata": {},
   "outputs": [],
   "source": [
    "arr=np.arange(0,10).reshape(5,2)"
   ]
  },
  {
   "cell_type": "code",
   "execution_count": 259,
   "id": "cdcd2c52-2851-44ff-9f82-e8cce8837435",
   "metadata": {},
   "outputs": [
    {
     "data": {
      "text/plain": [
       "array([[0, 1],\n",
       "       [2, 3],\n",
       "       [4, 5],\n",
       "       [6, 7],\n",
       "       [8, 9]])"
      ]
     },
     "execution_count": 259,
     "metadata": {},
     "output_type": "execute_result"
    }
   ],
   "source": [
    "arr"
   ]
  },
  {
   "cell_type": "code",
   "execution_count": 263,
   "id": "71dd1d6e-aa7f-4168-8d7a-17a6ae6307b6",
   "metadata": {},
   "outputs": [],
   "source": [
    "arr[:]=100"
   ]
  },
  {
   "cell_type": "code",
   "execution_count": 264,
   "id": "e5f912d3-f478-487b-90b4-2c1b8dedc47a",
   "metadata": {},
   "outputs": [
    {
     "data": {
      "text/plain": [
       "array([[100, 100],\n",
       "       [100, 100],\n",
       "       [100, 100],\n",
       "       [100, 100],\n",
       "       [100, 100]])"
      ]
     },
     "execution_count": 264,
     "metadata": {},
     "output_type": "execute_result"
    }
   ],
   "source": [
    "arr"
   ]
  },
  {
   "cell_type": "markdown",
   "id": "0991f929-cccb-4d15-99d6-4ec34dcefc4c",
   "metadata": {},
   "source": [
    "# Array Slicing (row, column)"
   ]
  },
  {
   "cell_type": "code",
   "execution_count": 115,
   "id": "1cd7661d-f7b4-4bb8-8da7-86e22eff8d54",
   "metadata": {},
   "outputs": [],
   "source": [
    "# Slicing in Python (and NumPy) includes the start index but excludes the end index "
   ]
  },
  {
   "cell_type": "code",
   "execution_count": 116,
   "id": "1874520a-7ed5-458a-a979-a8fa3481f48f",
   "metadata": {},
   "outputs": [],
   "source": [
    "pizza1=np.random.randint(10,20,5)\n",
    "pizza2=np.random.randint(1,20,size=(2,3))"
   ]
  },
  {
   "cell_type": "code",
   "execution_count": 117,
   "id": "f86c575c-a1ea-44b3-887c-17454357117f",
   "metadata": {},
   "outputs": [
    {
     "name": "stdout",
     "output_type": "stream",
     "text": [
      "[12 10 14 19 16]\n"
     ]
    }
   ],
   "source": [
    "print(pizza1)"
   ]
  },
  {
   "cell_type": "code",
   "execution_count": 118,
   "id": "97bca31c-f3b8-4a10-9dce-0dbe37c373b3",
   "metadata": {},
   "outputs": [
    {
     "name": "stdout",
     "output_type": "stream",
     "text": [
      "[[14  7  9]\n",
      " [15 15 10]]\n"
     ]
    }
   ],
   "source": [
    "print(pizza2)"
   ]
  },
  {
   "cell_type": "code",
   "execution_count": 119,
   "id": "76c89ad9-6531-4bd5-ab7d-11674d1a13fe",
   "metadata": {},
   "outputs": [
    {
     "name": "stdout",
     "output_type": "stream",
     "text": [
      "[10 14]\n"
     ]
    }
   ],
   "source": [
    "print(pizza1[1:3])"
   ]
  },
  {
   "cell_type": "code",
   "execution_count": 120,
   "id": "016a261e-5170-40d8-a854-b5d91e27b024",
   "metadata": {},
   "outputs": [],
   "source": [
    "orders=np.array(['cheese','veg','spicy','bbq'])"
   ]
  },
  {
   "cell_type": "code",
   "execution_count": 121,
   "id": "9c78ddf3-f958-4444-8420-129d80304815",
   "metadata": {},
   "outputs": [
    {
     "name": "stdout",
     "output_type": "stream",
     "text": [
      "['cheese' 'veg' 'spicy' 'bbq']\n"
     ]
    }
   ],
   "source": [
    "print(orders)"
   ]
  },
  {
   "cell_type": "code",
   "execution_count": 122,
   "id": "7a3759c8-40a5-4f95-afdf-f238fe3ab945",
   "metadata": {},
   "outputs": [
    {
     "name": "stdout",
     "output_type": "stream",
     "text": [
      "['veg' 'spicy']\n"
     ]
    }
   ],
   "source": [
    "print(orders[1:3])"
   ]
  },
  {
   "cell_type": "markdown",
   "id": "9ad4c84b-fe26-4eed-a08f-2bfa2541ceb3",
   "metadata": {},
   "source": [
    "### 2D Array"
   ]
  },
  {
   "cell_type": "code",
   "execution_count": 123,
   "id": "0079e324-9c6a-400e-8769-e0c9c523e23f",
   "metadata": {},
   "outputs": [],
   "source": [
    "pizza2=np.array([[1,2,3],\n",
    "          [4,5,6],\n",
    "          [7,8,9]])"
   ]
  },
  {
   "cell_type": "code",
   "execution_count": 124,
   "id": "45af8023-1d71-44f2-99d2-fff799b474f4",
   "metadata": {},
   "outputs": [
    {
     "name": "stdout",
     "output_type": "stream",
     "text": [
      "[[1 2 3]\n",
      " [4 5 6]\n",
      " [7 8 9]]\n"
     ]
    }
   ],
   "source": [
    "print(pizza2)"
   ]
  },
  {
   "cell_type": "code",
   "execution_count": 125,
   "id": "e9d94c68-cdde-4df8-ae48-9307d402d1a8",
   "metadata": {},
   "outputs": [
    {
     "name": "stdout",
     "output_type": "stream",
     "text": [
      "[2 5 8]\n"
     ]
    }
   ],
   "source": [
    "print(pizza2[:,1]) #row all #column 1"
   ]
  },
  {
   "cell_type": "code",
   "execution_count": 126,
   "id": "ba0134f9-a7ea-4ee2-91a9-70df1dfae255",
   "metadata": {},
   "outputs": [
    {
     "name": "stdout",
     "output_type": "stream",
     "text": [
      "[4 5 6]\n"
     ]
    }
   ],
   "source": [
    "print(pizza2[1,:]) #row 0 column all"
   ]
  },
  {
   "cell_type": "code",
   "execution_count": 127,
   "id": "0c3d6fd2-5b55-4576-9f05-8e7fc77c6a28",
   "metadata": {},
   "outputs": [
    {
     "name": "stdout",
     "output_type": "stream",
     "text": [
      "[[1]\n",
      " [4]]\n"
     ]
    }
   ],
   "source": [
    "print(pizza2 [0:2,0:1]) #first two row and first column\n"
   ]
  },
  {
   "cell_type": "code",
   "execution_count": 128,
   "id": "6490dfbc-6ecc-4587-87c1-9548d3411c03",
   "metadata": {},
   "outputs": [
    {
     "name": "stdout",
     "output_type": "stream",
     "text": [
      "[[4 5 6]\n",
      " [7 8 9]]\n"
     ]
    }
   ],
   "source": [
    "print(pizza2 [1:])  # row2 to all"
   ]
  },
  {
   "cell_type": "code",
   "execution_count": 129,
   "id": "a9f38728-09d8-4472-9415-8edf6a0c64a0",
   "metadata": {},
   "outputs": [
    {
     "name": "stdout",
     "output_type": "stream",
     "text": [
      "[[1 2 3]]\n"
     ]
    }
   ],
   "source": [
    "print(pizza2 [:1])  "
   ]
  },
  {
   "cell_type": "code",
   "execution_count": 130,
   "id": "dbdcae40-6fdf-4fa7-a4e8-31b9f41b8078",
   "metadata": {},
   "outputs": [
    {
     "name": "stdout",
     "output_type": "stream",
     "text": [
      "[[7 8 9]]\n"
     ]
    }
   ],
   "source": [
    "print(pizza2 [2:]) "
   ]
  },
  {
   "cell_type": "code",
   "execution_count": 131,
   "id": "76b1ee57-af7f-4868-895b-e92e029cee7e",
   "metadata": {},
   "outputs": [
    {
     "name": "stdout",
     "output_type": "stream",
     "text": [
      "[[1 2 3]\n",
      " [4 5 6]]\n"
     ]
    }
   ],
   "source": [
    "print(pizza2 [:2]) "
   ]
  },
  {
   "cell_type": "code",
   "execution_count": 132,
   "id": "34e61cd9-e2ba-48d4-9d89-e8f2eed74026",
   "metadata": {},
   "outputs": [
    {
     "name": "stdout",
     "output_type": "stream",
     "text": [
      "[[5 6]\n",
      " [8 9]]\n"
     ]
    }
   ],
   "source": [
    "print(pizza2 [1:,1:])"
   ]
  },
  {
   "cell_type": "code",
   "execution_count": 133,
   "id": "c1b19372-25ad-482a-ab19-e34738f6a43b",
   "metadata": {},
   "outputs": [
    {
     "name": "stdout",
     "output_type": "stream",
     "text": [
      "[[2 3]\n",
      " [5 6]]\n"
     ]
    }
   ],
   "source": [
    "print(pizza2 [:2,1:])"
   ]
  },
  {
   "cell_type": "code",
   "execution_count": 134,
   "id": "747107c3-2756-48d7-9c3e-d7492163f21d",
   "metadata": {},
   "outputs": [
    {
     "name": "stdout",
     "output_type": "stream",
     "text": [
      "[[1]\n",
      " [4]]\n"
     ]
    }
   ],
   "source": [
    "print(pizza2 [:2,:1])"
   ]
  },
  {
   "cell_type": "code",
   "execution_count": 135,
   "id": "8387d346-5ac4-4242-a445-b56655661867",
   "metadata": {},
   "outputs": [
    {
     "name": "stdout",
     "output_type": "stream",
     "text": [
      "[[2 3]\n",
      " [5 6]]\n"
     ]
    }
   ],
   "source": [
    "print(pizza2 [:2,1:3])"
   ]
  },
  {
   "cell_type": "code",
   "execution_count": 136,
   "id": "c1ed93d7-a791-4d88-819e-e24640894a13",
   "metadata": {},
   "outputs": [],
   "source": [
    "orders2=np.array([['cheese','veg'],['spicy','bbq']])"
   ]
  },
  {
   "cell_type": "code",
   "execution_count": 137,
   "id": "e0642aab-0682-45f3-9574-fe7ac22fc549",
   "metadata": {},
   "outputs": [
    {
     "name": "stdout",
     "output_type": "stream",
     "text": [
      "[['cheese' 'veg']\n",
      " ['spicy' 'bbq']]\n"
     ]
    }
   ],
   "source": [
    "print(orders2)"
   ]
  },
  {
   "cell_type": "code",
   "execution_count": 138,
   "id": "fe663e6c-3f78-4f40-bca9-ef6f701260cf",
   "metadata": {},
   "outputs": [
    {
     "name": "stdout",
     "output_type": "stream",
     "text": [
      "veg\n"
     ]
    }
   ],
   "source": [
    "print(orders2[0,1]) # Row 0 , Column 1"
   ]
  },
  {
   "cell_type": "markdown",
   "id": "1e862b75-f183-4968-820d-73487526e1a5",
   "metadata": {},
   "source": [
    "### 3D array"
   ]
  },
  {
   "cell_type": "code",
   "execution_count": 139,
   "id": "d0237883-70d0-419e-8695-84fd13159638",
   "metadata": {},
   "outputs": [],
   "source": [
    "pizza3=np.array([[[1,2,3],\n",
    "          [4,5,6],\n",
    "          [7,8,9]]])"
   ]
  },
  {
   "cell_type": "code",
   "execution_count": 140,
   "id": "015970a3-70b6-422a-b34e-04ba01e809d0",
   "metadata": {},
   "outputs": [
    {
     "data": {
      "text/plain": [
       "array([[[1, 2, 3],\n",
       "        [4, 5, 6],\n",
       "        [7, 8, 9]]])"
      ]
     },
     "execution_count": 140,
     "metadata": {},
     "output_type": "execute_result"
    }
   ],
   "source": [
    "pizza3"
   ]
  },
  {
   "cell_type": "code",
   "execution_count": 141,
   "id": "2e4c583d-435a-46d7-b4c7-c6f0d1ec1faf",
   "metadata": {},
   "outputs": [
    {
     "data": {
      "text/plain": [
       "3"
      ]
     },
     "execution_count": 141,
     "metadata": {},
     "output_type": "execute_result"
    }
   ],
   "source": [
    "pizza3.ndim"
   ]
  },
  {
   "cell_type": "code",
   "execution_count": 142,
   "id": "24d66aad-ae40-4bd2-972a-8bf3d284bc20",
   "metadata": {},
   "outputs": [
    {
     "name": "stdout",
     "output_type": "stream",
     "text": [
      "6\n"
     ]
    }
   ],
   "source": [
    "print(pizza3[0,1,2]) #index,row,column"
   ]
  },
  {
   "cell_type": "raw",
   "id": "c59cd48e-0834-4529-b6c1-336a447d7be0",
   "metadata": {},
   "source": [
    "#Problem Solving\n",
    "Given the following 2D NumPy array:\n",
    "import numpy as np\n",
    "\n",
    "arr = np.array([\n",
    "    [10, 20, 30, 40],\n",
    "    [50, 60, 70, 80],\n",
    "    [90, 100, 110, 120],\n",
    "    [130, 140, 150, 160]\n",
    "])\n",
    "\n",
    "1. Extract the submatrix:\n",
    "[\n",
    "[60, 70],\n",
    "[100, 110]\n",
    "]\n",
    "\n",
    "2. Replace the extracted submatrix with zeros in the original array.\n"
   ]
  },
  {
   "cell_type": "code",
   "execution_count": 143,
   "id": "dde063db-2fae-4ff7-ab9d-1b52ca9d6476",
   "metadata": {},
   "outputs": [],
   "source": [
    "import numpy as np\n",
    "\n",
    "arr = np.array([\n",
    "    [10, 20, 30, 40],\n",
    "    [50, 60, 70, 80],\n",
    "    [90, 100, 110, 120],\n",
    "    [130, 140, 150, 160]\n",
    "])\n"
   ]
  },
  {
   "cell_type": "code",
   "execution_count": 144,
   "id": "3a7bc316-a8ff-4a65-a6fd-2a806ef81e74",
   "metadata": {},
   "outputs": [
    {
     "data": {
      "text/plain": [
       "array([[ 10,  20,  30,  40],\n",
       "       [ 50,  60,  70,  80],\n",
       "       [ 90, 100, 110, 120],\n",
       "       [130, 140, 150, 160]])"
      ]
     },
     "execution_count": 144,
     "metadata": {},
     "output_type": "execute_result"
    }
   ],
   "source": [
    "arr"
   ]
  },
  {
   "cell_type": "code",
   "execution_count": 145,
   "id": "e078ae74-de6b-4903-8269-b9c67afcafd1",
   "metadata": {},
   "outputs": [
    {
     "data": {
      "text/plain": [
       "array([[ 50,  60,  70,  80],\n",
       "       [ 90, 100, 110, 120]])"
      ]
     },
     "execution_count": 145,
     "metadata": {},
     "output_type": "execute_result"
    }
   ],
   "source": [
    "arr[1:3]"
   ]
  },
  {
   "cell_type": "code",
   "execution_count": 146,
   "id": "ef5db1fa-f70b-4509-b150-05c4584f225c",
   "metadata": {},
   "outputs": [
    {
     "data": {
      "text/plain": [
       "array([[ 60,  70],\n",
       "       [100, 110]])"
      ]
     },
     "execution_count": 146,
     "metadata": {},
     "output_type": "execute_result"
    }
   ],
   "source": [
    "arr[1:3,1:3]"
   ]
  },
  {
   "cell_type": "code",
   "execution_count": 147,
   "id": "86a64b36-a02c-448b-b12b-ffac679b3abc",
   "metadata": {},
   "outputs": [],
   "source": [
    "arr[1:3,1:3]=0"
   ]
  },
  {
   "cell_type": "code",
   "execution_count": 148,
   "id": "70fcdb8b-a37c-426a-9f37-6af185092d80",
   "metadata": {},
   "outputs": [
    {
     "data": {
      "text/plain": [
       "array([[ 10,  20,  30,  40],\n",
       "       [ 50,   0,   0,  80],\n",
       "       [ 90,   0,   0, 120],\n",
       "       [130, 140, 150, 160]])"
      ]
     },
     "execution_count": 148,
     "metadata": {},
     "output_type": "execute_result"
    }
   ],
   "source": [
    "arr"
   ]
  },
  {
   "cell_type": "markdown",
   "id": "41cf4958-7ba6-43df-a098-3e8bb01e7973",
   "metadata": {},
   "source": [
    "# reshape"
   ]
  },
  {
   "cell_type": "raw",
   "id": "a6e48c08-3dce-47a5-a9a1-964a8ef9df5b",
   "metadata": {},
   "source": [
    "array reshaping primarily refers to changing the dimensions of a NumPy array without altering its underlying data. This is achieved using numpy.reshape() function or the reshape() method of a NumPy array.\n",
    "\n",
    "The total number of elements in the new shape must be equal to the total number of elements in the original array. If not, a ValueError will be raised."
   ]
  },
  {
   "cell_type": "code",
   "execution_count": 149,
   "id": "f0602165-b771-4d2c-a2b8-6ee75158635e",
   "metadata": {},
   "outputs": [],
   "source": [
    "array=np.random.randint(5,20,size=(2,3))"
   ]
  },
  {
   "cell_type": "code",
   "execution_count": 150,
   "id": "426aab90-ee09-4a8c-b9de-5f89121ef9d1",
   "metadata": {},
   "outputs": [
    {
     "name": "stdout",
     "output_type": "stream",
     "text": [
      "[[16 17  7]\n",
      " [19 11  5]]\n"
     ]
    }
   ],
   "source": [
    "print(array)"
   ]
  },
  {
   "cell_type": "code",
   "execution_count": 151,
   "id": "c7b59b89-4421-4bb6-9797-1714c88e09f1",
   "metadata": {},
   "outputs": [
    {
     "name": "stdout",
     "output_type": "stream",
     "text": [
      "[[16 17]\n",
      " [ 7 19]\n",
      " [11  5]]\n"
     ]
    }
   ],
   "source": [
    "#method 1\n",
    "print(np.reshape(array,(3,2))) #np.reshape(name of the array, (new shape (row,column))"
   ]
  },
  {
   "cell_type": "code",
   "execution_count": 152,
   "id": "9763b357-4872-4502-9589-2beb9de73c26",
   "metadata": {},
   "outputs": [
    {
     "name": "stdout",
     "output_type": "stream",
     "text": [
      "[[16 17]\n",
      " [ 7 19]\n",
      " [11  5]]\n"
     ]
    }
   ],
   "source": [
    "#method 2 \n",
    "print(array.reshape(3,2)) #arrayname.reshape((new shape (row,column))"
   ]
  },
  {
   "cell_type": "markdown",
   "id": "2e4343a2-21fe-42c9-a4ba-cff0338cdb35",
   "metadata": {},
   "source": [
    "# resize "
   ]
  },
  {
   "cell_type": "raw",
   "id": "d5040248-c14e-4c99-97d8-54da94fc9cdb",
   "metadata": {},
   "source": [
    "Method 1\n",
    "np.resize(a, new_shape)\n",
    "Suppose the new array is larger than the original array. In that case, the new array is filled with repeated copies of a.\n",
    "\n",
    "Method 2\n",
    "a.resize(new_shape)\n",
    "Note that this behavior is different from a.resize(new_shape), which fills with zeros instead of repeated copies of a."
   ]
  },
  {
   "cell_type": "code",
   "execution_count": 153,
   "id": "92a1b7a3-d208-4e9f-bb74-87a9bc57d1ed",
   "metadata": {},
   "outputs": [],
   "source": [
    "array1= np.random.randint(1,15,size=(3,3))\n"
   ]
  },
  {
   "cell_type": "code",
   "execution_count": 154,
   "id": "1bafadb9-701c-44ad-9cb4-9a0302d3a48e",
   "metadata": {},
   "outputs": [
    {
     "name": "stdout",
     "output_type": "stream",
     "text": [
      "[[ 4 13  4]\n",
      " [14  5  7]\n",
      " [ 7 13 11]]\n"
     ]
    }
   ],
   "source": [
    "print(array1)"
   ]
  },
  {
   "cell_type": "code",
   "execution_count": 155,
   "id": "edbbe14f-6bd0-479f-9534-80947d8f0867",
   "metadata": {},
   "outputs": [
    {
     "name": "stdout",
     "output_type": "stream",
     "text": [
      "[[ 4 13  4]\n",
      " [14  5  7]\n",
      " [ 7 13 11]\n",
      " [ 4 13  4]\n",
      " [14  5  7]]\n"
     ]
    }
   ],
   "source": [
    "print(np.resize(array1,(5,3))) #method 1"
   ]
  },
  {
   "cell_type": "code",
   "execution_count": 156,
   "id": "b6dc65a4-82aa-478f-ba82-2654c1224825",
   "metadata": {},
   "outputs": [],
   "source": [
    "array1.resize(6,3) #method 2"
   ]
  },
  {
   "cell_type": "code",
   "execution_count": 157,
   "id": "616a173b-200c-463a-8a7c-a567867dd89e",
   "metadata": {},
   "outputs": [
    {
     "name": "stdout",
     "output_type": "stream",
     "text": [
      "[[ 4 13  4]\n",
      " [14  5  7]\n",
      " [ 7 13 11]\n",
      " [ 0  0  0]\n",
      " [ 0  0  0]\n",
      " [ 0  0  0]]\n"
     ]
    }
   ],
   "source": [
    "print(array1)"
   ]
  },
  {
   "cell_type": "markdown",
   "id": "cc89ffd3-506d-4f9a-9a89-75ab93650954",
   "metadata": {},
   "source": [
    "# ravel()"
   ]
  },
  {
   "cell_type": "raw",
   "id": "de613ef4-bee7-4b8f-b13e-39256451aa4f",
   "metadata": {
    "jupyter": {
     "source_hidden": true
    }
   },
   "source": [
    "numpy.ravel() is a function in the NumPy library that flattens a multi-dimensional array into a one-dimensional array. I"
   ]
  },
  {
   "cell_type": "code",
   "execution_count": 158,
   "id": "212e2caf-8cbb-411e-a36e-31da8ed7cc33",
   "metadata": {},
   "outputs": [],
   "source": [
    "arr10=np.array([[2,3,4],[12,13,14]])"
   ]
  },
  {
   "cell_type": "code",
   "execution_count": 159,
   "id": "0ae4231f-3b30-489c-a2ef-dedf13f8577c",
   "metadata": {},
   "outputs": [
    {
     "data": {
      "text/plain": [
       "array([[ 2,  3,  4],\n",
       "       [12, 13, 14]])"
      ]
     },
     "execution_count": 159,
     "metadata": {},
     "output_type": "execute_result"
    }
   ],
   "source": [
    "arr10"
   ]
  },
  {
   "cell_type": "code",
   "execution_count": 160,
   "id": "42b12542-32d3-4eef-9a6f-8f332b532d7b",
   "metadata": {},
   "outputs": [
    {
     "name": "stdout",
     "output_type": "stream",
     "text": [
      "[ 2  3  4 12 13 14]\n"
     ]
    }
   ],
   "source": [
    "print(arr10.ravel())\n",
    "\n"
   ]
  },
  {
   "cell_type": "code",
   "execution_count": 161,
   "id": "700272f8-bac1-48b7-a0e3-3dcdb55db472",
   "metadata": {},
   "outputs": [],
   "source": [
    "ravel= arr10.ravel()"
   ]
  },
  {
   "cell_type": "code",
   "execution_count": 162,
   "id": "cff45d8a-ceff-4060-aac7-90894a7cb492",
   "metadata": {},
   "outputs": [
    {
     "data": {
      "text/plain": [
       "(6,)"
      ]
     },
     "execution_count": 162,
     "metadata": {},
     "output_type": "execute_result"
    }
   ],
   "source": [
    "ravel.shape"
   ]
  },
  {
   "cell_type": "markdown",
   "id": "ddd50a38-c070-428e-bdd0-8b6d09f5e9c2",
   "metadata": {},
   "source": [
    "# flatten()\n",
    "flatten(): Always returns a copy of the original array. Modifications to the flattened array will not affect the original array."
   ]
  },
  {
   "cell_type": "code",
   "execution_count": 163,
   "id": "587fcfdc-db2a-4f6a-ab64-9942a0260914",
   "metadata": {},
   "outputs": [],
   "source": [
    "arr11=np.array([[10,20,30],[40,50,60]])"
   ]
  },
  {
   "cell_type": "code",
   "execution_count": 164,
   "id": "6810d490-8cd8-40e6-b519-cd500dc0c3f1",
   "metadata": {},
   "outputs": [
    {
     "data": {
      "text/plain": [
       "array([[10, 20, 30],\n",
       "       [40, 50, 60]])"
      ]
     },
     "execution_count": 164,
     "metadata": {},
     "output_type": "execute_result"
    }
   ],
   "source": [
    "arr11"
   ]
  },
  {
   "cell_type": "code",
   "execution_count": 165,
   "id": "4cc971c4-ee0a-4c6a-9b91-e88219c522cd",
   "metadata": {},
   "outputs": [
    {
     "data": {
      "text/plain": [
       "array([10, 20, 30, 40, 50, 60])"
      ]
     },
     "execution_count": 165,
     "metadata": {},
     "output_type": "execute_result"
    }
   ],
   "source": [
    "arr11.flatten()"
   ]
  },
  {
   "cell_type": "raw",
   "id": "036411bc-6bf1-44bf-bb40-7e8a1064e934",
   "metadata": {},
   "source": [
    "In NumPy, ravel() and flatten() are both used to convert a multi-dimensional array into a one-dimensional array, but they differ in their return type and memory efficiency: \n",
    "Return Type:\n",
    "flatten(): Always returns a copy of the original array. Modifications to the flattened array will not affect the original array.\n",
    "ravel(): Returns a view of the original array whenever possible. This means that modifications to the array returned by ravel() can potentially modify the original array. If a view is not possible (e.g., due to non-contiguous memory layout), ravel() will return a copy."
   ]
  },
  {
   "cell_type": "code",
   "execution_count": 166,
   "id": "2440e28b-d799-4377-b229-8cd48919853b",
   "metadata": {},
   "outputs": [],
   "source": [
    "arr12=np.array([[4,5,6],[7,8,9]])"
   ]
  },
  {
   "cell_type": "code",
   "execution_count": 167,
   "id": "9d16a4ef-e8b3-4130-ae59-4d89acc2b87e",
   "metadata": {},
   "outputs": [
    {
     "data": {
      "text/plain": [
       "array([[4, 5, 6],\n",
       "       [7, 8, 9]])"
      ]
     },
     "execution_count": 167,
     "metadata": {},
     "output_type": "execute_result"
    }
   ],
   "source": [
    "arr12"
   ]
  },
  {
   "cell_type": "code",
   "execution_count": 168,
   "id": "c39c9358-8ec4-47b7-a4cc-9c14f73c79e3",
   "metadata": {},
   "outputs": [],
   "source": [
    "ravel=arr12.ravel()"
   ]
  },
  {
   "cell_type": "code",
   "execution_count": 169,
   "id": "5565fd26-47ac-4e34-9c81-0c1abf71b997",
   "metadata": {},
   "outputs": [
    {
     "data": {
      "text/plain": [
       "array([4, 5, 6, 7, 8, 9])"
      ]
     },
     "execution_count": 169,
     "metadata": {},
     "output_type": "execute_result"
    }
   ],
   "source": [
    "ravel"
   ]
  },
  {
   "cell_type": "code",
   "execution_count": 170,
   "id": "ef77f24f-ef3d-4bc0-bb03-e016a5985af6",
   "metadata": {},
   "outputs": [],
   "source": [
    "flatten=arr12.flatten()"
   ]
  },
  {
   "cell_type": "code",
   "execution_count": 171,
   "id": "aed21e72-30dd-4055-a08e-ce9a9df306a4",
   "metadata": {},
   "outputs": [
    {
     "data": {
      "text/plain": [
       "array([4, 5, 6, 7, 8, 9])"
      ]
     },
     "execution_count": 171,
     "metadata": {},
     "output_type": "execute_result"
    }
   ],
   "source": [
    "flatten"
   ]
  },
  {
   "cell_type": "code",
   "execution_count": 172,
   "id": "9f64303f-2c68-4b28-86aa-57950dc8356e",
   "metadata": {},
   "outputs": [],
   "source": [
    "flatten[0]=40"
   ]
  },
  {
   "cell_type": "code",
   "execution_count": 173,
   "id": "a4afcd23-b3b5-430a-808a-0f29dc5b8f56",
   "metadata": {},
   "outputs": [
    {
     "data": {
      "text/plain": [
       "array([40,  5,  6,  7,  8,  9])"
      ]
     },
     "execution_count": 173,
     "metadata": {},
     "output_type": "execute_result"
    }
   ],
   "source": [
    "flatten"
   ]
  },
  {
   "cell_type": "code",
   "execution_count": 174,
   "id": "348c5cd4-5084-448a-9899-49b48c57d83b",
   "metadata": {},
   "outputs": [
    {
     "data": {
      "text/plain": [
       "array([[4, 5, 6],\n",
       "       [7, 8, 9]])"
      ]
     },
     "execution_count": 174,
     "metadata": {},
     "output_type": "execute_result"
    }
   ],
   "source": [
    "arr12"
   ]
  },
  {
   "cell_type": "raw",
   "id": "d3b7cea4-334a-4ed5-9805-1f68f35365dd",
   "metadata": {},
   "source": [
    "Does not effect the value of the original array"
   ]
  },
  {
   "cell_type": "code",
   "execution_count": 175,
   "id": "32ab0f9d-e8fb-443a-afcb-5d5a60554f10",
   "metadata": {},
   "outputs": [
    {
     "data": {
      "text/plain": [
       "array([4, 5, 6, 7, 8, 9])"
      ]
     },
     "execution_count": 175,
     "metadata": {},
     "output_type": "execute_result"
    }
   ],
   "source": [
    "ravel"
   ]
  },
  {
   "cell_type": "code",
   "execution_count": 176,
   "id": "ea977eb5-33e4-4b0c-a25f-2bb795c15894",
   "metadata": {},
   "outputs": [],
   "source": [
    "ravel[0]=40"
   ]
  },
  {
   "cell_type": "code",
   "execution_count": 177,
   "id": "56f2beba-e033-4ec4-84c1-35512e7fddf8",
   "metadata": {},
   "outputs": [
    {
     "data": {
      "text/plain": [
       "array([[40,  5,  6],\n",
       "       [ 7,  8,  9]])"
      ]
     },
     "execution_count": 177,
     "metadata": {},
     "output_type": "execute_result"
    }
   ],
   "source": [
    "arr12"
   ]
  },
  {
   "cell_type": "raw",
   "id": "33d6349e-dee2-49ab-8cb6-55b872eda89c",
   "metadata": {},
   "source": [
    "The changes also reflect on the original array"
   ]
  },
  {
   "cell_type": "markdown",
   "id": "34e6687f-f72c-45f2-a6da-e65b9d784a79",
   "metadata": {},
   "source": [
    "# repeat"
   ]
  },
  {
   "cell_type": "code",
   "execution_count": 178,
   "id": "a9f4ce7c-a512-4e47-8ba5-e5f55d57b4a1",
   "metadata": {},
   "outputs": [],
   "source": [
    "rep=np.array([1,2,3])"
   ]
  },
  {
   "cell_type": "code",
   "execution_count": 179,
   "id": "0dc4d949-8cf6-43e6-b277-fa1d9ffd5b99",
   "metadata": {},
   "outputs": [
    {
     "data": {
      "text/plain": [
       "array([1, 1, 1, 2, 2, 2, 3, 3, 3])"
      ]
     },
     "execution_count": 179,
     "metadata": {},
     "output_type": "execute_result"
    }
   ],
   "source": [
    "np.repeat(rep,3)"
   ]
  },
  {
   "cell_type": "code",
   "execution_count": 180,
   "id": "45e78b98-4e65-414a-8f13-d21b168e4e0f",
   "metadata": {},
   "outputs": [
    {
     "data": {
      "text/plain": [
       "array([1, 1, 1, 2, 2, 2, 3, 3, 3])"
      ]
     },
     "execution_count": 180,
     "metadata": {},
     "output_type": "execute_result"
    }
   ],
   "source": [
    "np.repeat(rep,3,axis=0)"
   ]
  },
  {
   "cell_type": "code",
   "execution_count": 181,
   "id": "2d63961d-4a5a-4a0e-af53-b5aefdd3d032",
   "metadata": {},
   "outputs": [],
   "source": [
    "rep2=np.array([[1,2,3],[4,5,6]])"
   ]
  },
  {
   "cell_type": "code",
   "execution_count": 182,
   "id": "46bb88e7-a8b1-49a7-99b3-3110ea85c72a",
   "metadata": {},
   "outputs": [
    {
     "data": {
      "text/plain": [
       "array([[1, 2, 3],\n",
       "       [4, 5, 6]])"
      ]
     },
     "execution_count": 182,
     "metadata": {},
     "output_type": "execute_result"
    }
   ],
   "source": [
    "rep2"
   ]
  },
  {
   "cell_type": "code",
   "execution_count": 183,
   "id": "825175a4-dc4e-4a48-b49b-8b70af9c0db3",
   "metadata": {},
   "outputs": [
    {
     "data": {
      "text/plain": [
       "array([[1, 2, 3],\n",
       "       [1, 2, 3],\n",
       "       [1, 2, 3],\n",
       "       [4, 5, 6],\n",
       "       [4, 5, 6],\n",
       "       [4, 5, 6]])"
      ]
     },
     "execution_count": 183,
     "metadata": {},
     "output_type": "execute_result"
    }
   ],
   "source": [
    "np.repeat(rep2,3,axis=0) #rows"
   ]
  },
  {
   "cell_type": "code",
   "execution_count": 184,
   "id": "08f7afe6-e51b-4b16-9656-9743e48c9d3e",
   "metadata": {},
   "outputs": [
    {
     "data": {
      "text/plain": [
       "array([[1, 1, 1, 2, 2, 2, 3, 3, 3],\n",
       "       [4, 4, 4, 5, 5, 5, 6, 6, 6]])"
      ]
     },
     "execution_count": 184,
     "metadata": {},
     "output_type": "execute_result"
    }
   ],
   "source": [
    "np.repeat(rep2,3,axis=1) #columns"
   ]
  },
  {
   "cell_type": "markdown",
   "id": "dbd0d340-9e69-403c-8893-4fc668af3d79",
   "metadata": {},
   "source": [
    "# Stacking"
   ]
  },
  {
   "cell_type": "markdown",
   "id": "3332103f-b115-485f-a14d-f298bcd0f733",
   "metadata": {},
   "source": [
    "### hstack(), column_stack()"
   ]
  },
  {
   "cell_type": "code",
   "execution_count": 185,
   "id": "c2c6d629-0ff1-48d3-8805-7c45bd3a1205",
   "metadata": {},
   "outputs": [],
   "source": [
    "a=np.random.randint(1,10,size=(3,3))"
   ]
  },
  {
   "cell_type": "code",
   "execution_count": 186,
   "id": "0d05663a-12b8-452b-8f20-ec787111d16e",
   "metadata": {},
   "outputs": [
    {
     "name": "stdout",
     "output_type": "stream",
     "text": [
      "[[4 7 3]\n",
      " [6 2 9]\n",
      " [5 6 4]]\n"
     ]
    }
   ],
   "source": [
    "print(a)"
   ]
  },
  {
   "cell_type": "code",
   "execution_count": 187,
   "id": "2b32bcef-b9e5-4fe3-80d6-5442332a22b4",
   "metadata": {},
   "outputs": [],
   "source": [
    "b=a*2"
   ]
  },
  {
   "cell_type": "code",
   "execution_count": 188,
   "id": "128b87d7-a981-4956-9831-e42255ffa0a5",
   "metadata": {},
   "outputs": [
    {
     "name": "stdout",
     "output_type": "stream",
     "text": [
      "[[ 8 14  6]\n",
      " [12  4 18]\n",
      " [10 12  8]]\n"
     ]
    }
   ],
   "source": [
    "print(b)"
   ]
  },
  {
   "cell_type": "code",
   "execution_count": 189,
   "id": "528fd667-f8cf-4777-8416-715f39555293",
   "metadata": {},
   "outputs": [
    {
     "name": "stdout",
     "output_type": "stream",
     "text": [
      "[[ 4  7  3  8 14  6]\n",
      " [ 6  2  9 12  4 18]\n",
      " [ 5  6  4 10 12  8]]\n"
     ]
    }
   ],
   "source": [
    "print(np.hstack((a,b)))"
   ]
  },
  {
   "cell_type": "code",
   "execution_count": 190,
   "id": "04c17c5b-2ef8-45f4-927d-7b5efa37b63a",
   "metadata": {},
   "outputs": [
    {
     "name": "stdout",
     "output_type": "stream",
     "text": [
      "[[ 4  7  3  8 14  6]\n",
      " [ 6  2  9 12  4 18]\n",
      " [ 5  6  4 10 12  8]]\n"
     ]
    }
   ],
   "source": [
    "print(np.column_stack((a,b)))"
   ]
  },
  {
   "cell_type": "markdown",
   "id": "d26e6a38-b168-488b-a445-162e24a2ff0e",
   "metadata": {},
   "source": [
    "### vstack(),row_stack()"
   ]
  },
  {
   "cell_type": "code",
   "execution_count": 191,
   "id": "dc0bae43-21bf-4b40-be4e-224410e90df4",
   "metadata": {},
   "outputs": [],
   "source": [
    "a=np.random.randint(1,10,size=(3,3))"
   ]
  },
  {
   "cell_type": "code",
   "execution_count": 192,
   "id": "fcb0d876-1cc1-4ee1-92ce-adf91e15938d",
   "metadata": {},
   "outputs": [
    {
     "name": "stdout",
     "output_type": "stream",
     "text": [
      "[[7 9 7]\n",
      " [1 1 9]\n",
      " [9 4 9]]\n"
     ]
    }
   ],
   "source": [
    "print(a)"
   ]
  },
  {
   "cell_type": "code",
   "execution_count": 193,
   "id": "01f069f9-a0d2-4715-a622-bee264adccba",
   "metadata": {},
   "outputs": [],
   "source": [
    "b=a*2"
   ]
  },
  {
   "cell_type": "code",
   "execution_count": 194,
   "id": "59d8b991-21ef-4bc9-8fc7-e214854dce55",
   "metadata": {},
   "outputs": [
    {
     "name": "stdout",
     "output_type": "stream",
     "text": [
      "[[14 18 14]\n",
      " [ 2  2 18]\n",
      " [18  8 18]]\n"
     ]
    }
   ],
   "source": [
    "print(b)"
   ]
  },
  {
   "cell_type": "code",
   "execution_count": 195,
   "id": "48606399-c1da-492a-ba2a-fd3e2af51a65",
   "metadata": {},
   "outputs": [],
   "source": [
    "vstack= np.vstack((a,b))"
   ]
  },
  {
   "cell_type": "code",
   "execution_count": 196,
   "id": "190ded49-f23b-4a90-95b6-569b9624fef2",
   "metadata": {},
   "outputs": [
    {
     "name": "stdout",
     "output_type": "stream",
     "text": [
      "[[ 7  9  7]\n",
      " [ 1  1  9]\n",
      " [ 9  4  9]\n",
      " [14 18 14]\n",
      " [ 2  2 18]\n",
      " [18  8 18]]\n"
     ]
    }
   ],
   "source": [
    "print(vstack)"
   ]
  },
  {
   "cell_type": "code",
   "execution_count": 197,
   "id": "61597684-fb22-41e4-bb97-ece1f5714999",
   "metadata": {},
   "outputs": [],
   "source": [
    "#rowstack=np.row_stack((a,b))"
   ]
  },
  {
   "cell_type": "code",
   "execution_count": 198,
   "id": "10d3779d-a8a6-4c6f-bcee-f9d9d4875f88",
   "metadata": {},
   "outputs": [],
   "source": [
    "#print(rowstack)"
   ]
  },
  {
   "cell_type": "markdown",
   "id": "f2dff1e1-22b9-4ea3-b83e-806111172755",
   "metadata": {},
   "source": [
    "### concatenate()"
   ]
  },
  {
   "cell_type": "code",
   "execution_count": 199,
   "id": "d2a73859-312a-4ed7-9f20-b2968038bdd0",
   "metadata": {},
   "outputs": [
    {
     "data": {
      "text/plain": [
       "array([[ 7,  9,  7],\n",
       "       [ 1,  1,  9],\n",
       "       [ 9,  4,  9],\n",
       "       [14, 18, 14],\n",
       "       [ 2,  2, 18],\n",
       "       [18,  8, 18]], dtype=int32)"
      ]
     },
     "execution_count": 199,
     "metadata": {},
     "output_type": "execute_result"
    }
   ],
   "source": [
    "np.concatenate((a,b),axis=0) #effects row"
   ]
  },
  {
   "cell_type": "code",
   "execution_count": 200,
   "id": "1c179bc3-6bab-405a-8849-e9e1e9347690",
   "metadata": {},
   "outputs": [
    {
     "data": {
      "text/plain": [
       "array([[ 7,  9,  7, 14, 18, 14],\n",
       "       [ 1,  1,  9,  2,  2, 18],\n",
       "       [ 9,  4,  9, 18,  8, 18]], dtype=int32)"
      ]
     },
     "execution_count": 200,
     "metadata": {},
     "output_type": "execute_result"
    }
   ],
   "source": [
    "np.concatenate((a,b),axis=1) #effects column"
   ]
  },
  {
   "cell_type": "markdown",
   "id": "1856ff9f-36e9-4942-a44e-f8597e069235",
   "metadata": {},
   "source": [
    "### dstack( )"
   ]
  },
  {
   "cell_type": "raw",
   "id": "b3e3fa5c-5499-423f-8583-dddd84353311",
   "metadata": {},
   "source": [
    "numpy.dstack() is a function in the NumPy library used to stack arrays depth-wise, meaning along the third axis (axis=2). It is particularly useful for combining arrays that represent different channels of an image (e.g., Red, Green, Blue channels) into a single 3D array."
   ]
  },
  {
   "cell_type": "code",
   "execution_count": 201,
   "id": "9220d02c-83d6-4d8b-a84d-ca56c33bd03a",
   "metadata": {},
   "outputs": [],
   "source": [
    "x= np.random.randint(1,10,size=(2,3))"
   ]
  },
  {
   "cell_type": "code",
   "execution_count": 202,
   "id": "64e48f88-aaf3-43e4-a932-bf93dd6f55a1",
   "metadata": {},
   "outputs": [
    {
     "data": {
      "text/plain": [
       "array([[3, 7, 6],\n",
       "       [8, 9, 5]], dtype=int32)"
      ]
     },
     "execution_count": 202,
     "metadata": {},
     "output_type": "execute_result"
    }
   ],
   "source": [
    "x"
   ]
  },
  {
   "cell_type": "code",
   "execution_count": 203,
   "id": "3a6d2d00-e760-4647-ab04-6b6a3072c0f9",
   "metadata": {},
   "outputs": [],
   "source": [
    "y= np.random.randint(10,20,size=(2,3))"
   ]
  },
  {
   "cell_type": "code",
   "execution_count": 204,
   "id": "9c834234-2891-4dea-bdd2-3da4408d7763",
   "metadata": {},
   "outputs": [
    {
     "data": {
      "text/plain": [
       "array([[10, 12, 19],\n",
       "       [17, 15, 17]], dtype=int32)"
      ]
     },
     "execution_count": 204,
     "metadata": {},
     "output_type": "execute_result"
    }
   ],
   "source": [
    "y"
   ]
  },
  {
   "cell_type": "code",
   "execution_count": 205,
   "id": "e54eeaa0-ee3d-4a52-bc8d-9891853a5e8f",
   "metadata": {},
   "outputs": [
    {
     "data": {
      "text/plain": [
       "array([[[ 3, 10],\n",
       "        [ 7, 12],\n",
       "        [ 6, 19]],\n",
       "\n",
       "       [[ 8, 17],\n",
       "        [ 9, 15],\n",
       "        [ 5, 17]]], dtype=int32)"
      ]
     },
     "execution_count": 205,
     "metadata": {},
     "output_type": "execute_result"
    }
   ],
   "source": [
    "np.dstack((x,y))"
   ]
  },
  {
   "cell_type": "markdown",
   "id": "32489fd3-ef50-4d05-a257-316726a36959",
   "metadata": {},
   "source": [
    "# argmax,argmin"
   ]
  },
  {
   "cell_type": "code",
   "execution_count": 206,
   "id": "6709024f-e1b9-42d8-b3a5-559b0fb80265",
   "metadata": {},
   "outputs": [],
   "source": [
    "num=np.array([40,20,10,30,50])"
   ]
  },
  {
   "cell_type": "code",
   "execution_count": 207,
   "id": "cfe8f374-ee57-4a86-9c9d-428259a9e249",
   "metadata": {},
   "outputs": [
    {
     "name": "stdout",
     "output_type": "stream",
     "text": [
      "4\n"
     ]
    }
   ],
   "source": [
    "print(np.argmax(num)) #index"
   ]
  },
  {
   "cell_type": "code",
   "execution_count": 208,
   "id": "b2b885a2-619f-420d-92ae-33ac14f4daa0",
   "metadata": {},
   "outputs": [
    {
     "name": "stdout",
     "output_type": "stream",
     "text": [
      "2\n"
     ]
    }
   ],
   "source": [
    "print(np.argmin(num)) #index"
   ]
  },
  {
   "cell_type": "markdown",
   "id": "2f3b0cd3-c9ac-4b42-b52b-6b6b3e47c148",
   "metadata": {},
   "source": [
    "### max"
   ]
  },
  {
   "cell_type": "code",
   "execution_count": 209,
   "id": "2e936086-382e-4e15-9188-8ea132b1ca43",
   "metadata": {},
   "outputs": [
    {
     "name": "stdout",
     "output_type": "stream",
     "text": [
      "50\n"
     ]
    }
   ],
   "source": [
    "print(np.max(num)) #index"
   ]
  },
  {
   "cell_type": "markdown",
   "id": "95e6291c-6449-489b-a677-6223e324c386",
   "metadata": {},
   "source": [
    "### min"
   ]
  },
  {
   "cell_type": "code",
   "execution_count": 210,
   "id": "ceb63a04-b822-4c04-b89b-039eac072b12",
   "metadata": {},
   "outputs": [
    {
     "name": "stdout",
     "output_type": "stream",
     "text": [
      "10\n"
     ]
    }
   ],
   "source": [
    "print(np.min(num)) #index"
   ]
  },
  {
   "cell_type": "markdown",
   "id": "54b7ddfb-6d8f-4378-bde0-7d1c01feb5f7",
   "metadata": {},
   "source": [
    "# split ()"
   ]
  },
  {
   "cell_type": "code",
   "execution_count": 211,
   "id": "ecf3c12b-4f02-4ba9-9459-449c96cdf304",
   "metadata": {},
   "outputs": [],
   "source": [
    "big_array=np.arange(10)"
   ]
  },
  {
   "cell_type": "code",
   "execution_count": 212,
   "id": "8e8febe2-a082-40c9-9020-3d6c090133b3",
   "metadata": {},
   "outputs": [
    {
     "data": {
      "text/plain": [
       "array([0, 1, 2, 3, 4, 5, 6, 7, 8, 9])"
      ]
     },
     "execution_count": 212,
     "metadata": {},
     "output_type": "execute_result"
    }
   ],
   "source": [
    "big_array"
   ]
  },
  {
   "cell_type": "code",
   "execution_count": 213,
   "id": "af716c0d-44e9-4cbb-a969-401cb3c35432",
   "metadata": {},
   "outputs": [],
   "source": [
    "split_array= np.split(big_array,5)"
   ]
  },
  {
   "cell_type": "code",
   "execution_count": 214,
   "id": "abe4cb5c-7225-4c99-9f43-014e797b9579",
   "metadata": {},
   "outputs": [
    {
     "data": {
      "text/plain": [
       "[array([0, 1]), array([2, 3]), array([4, 5]), array([6, 7]), array([8, 9])]"
      ]
     },
     "execution_count": 214,
     "metadata": {},
     "output_type": "execute_result"
    }
   ],
   "source": [
    "split_array"
   ]
  },
  {
   "cell_type": "code",
   "execution_count": 215,
   "id": "f14f0b8d-3dea-4b46-ba8e-852c2f736e5e",
   "metadata": {},
   "outputs": [
    {
     "data": {
      "text/plain": [
       "array([2, 3])"
      ]
     },
     "execution_count": 215,
     "metadata": {},
     "output_type": "execute_result"
    }
   ],
   "source": [
    "split_array[1]"
   ]
  },
  {
   "cell_type": "code",
   "execution_count": 216,
   "id": "c3e9c249-7a4a-4062-a97a-d9ed98c8e9cf",
   "metadata": {},
   "outputs": [
    {
     "data": {
      "text/plain": [
       "list"
      ]
     },
     "execution_count": 216,
     "metadata": {},
     "output_type": "execute_result"
    }
   ],
   "source": [
    "type(split_array)"
   ]
  },
  {
   "cell_type": "code",
   "execution_count": 217,
   "id": "68451207-48b5-473b-86c4-b3eec2497a45",
   "metadata": {},
   "outputs": [
    {
     "data": {
      "text/plain": [
       "numpy.ndarray"
      ]
     },
     "execution_count": 217,
     "metadata": {},
     "output_type": "execute_result"
    }
   ],
   "source": [
    "type(split_array[1])"
   ]
  },
  {
   "cell_type": "markdown",
   "id": "c7f053e7-581d-429d-8c8c-76cca247043f",
   "metadata": {},
   "source": [
    "# searchsorted ()"
   ]
  },
  {
   "cell_type": "raw",
   "id": "66b17068-9d0a-4cca-b590-cfb902ec5346",
   "metadata": {},
   "source": [
    "Possible destination of the value"
   ]
  },
  {
   "cell_type": "code",
   "execution_count": 218,
   "id": "f9123c94-2d06-4006-92b3-a32e14e40920",
   "metadata": {},
   "outputs": [],
   "source": [
    "new_array=[10,20,30,40,50]"
   ]
  },
  {
   "cell_type": "code",
   "execution_count": 219,
   "id": "542c6507-52d7-404f-aa65-2041923e30e8",
   "metadata": {},
   "outputs": [],
   "source": [
    "positiion= np.searchsorted(new_array,42)"
   ]
  },
  {
   "cell_type": "code",
   "execution_count": 220,
   "id": "5fefeec1-5a1d-452c-828b-2fb9b128f56c",
   "metadata": {},
   "outputs": [
    {
     "name": "stdout",
     "output_type": "stream",
     "text": [
      "4\n"
     ]
    }
   ],
   "source": [
    "print(positiion)"
   ]
  },
  {
   "cell_type": "markdown",
   "id": "83acb647-41dd-4873-8394-58e469a0cfaf",
   "metadata": {},
   "source": [
    "# Where"
   ]
  },
  {
   "cell_type": "code",
   "execution_count": 221,
   "id": "d76f4335-45df-468b-a68e-55e23cc94434",
   "metadata": {},
   "outputs": [],
   "source": [
    "arr=np.arange(10)"
   ]
  },
  {
   "cell_type": "code",
   "execution_count": 222,
   "id": "b84e18b7-4f48-4a18-ad86-be0426b461dd",
   "metadata": {},
   "outputs": [
    {
     "data": {
      "text/plain": [
       "array([0, 1, 2, 3, 4, 5, 6, 7, 8, 9])"
      ]
     },
     "execution_count": 222,
     "metadata": {},
     "output_type": "execute_result"
    }
   ],
   "source": [
    "arr"
   ]
  },
  {
   "cell_type": "code",
   "execution_count": 223,
   "id": "05a6a7b5-0396-4629-82c9-80518265cfdf",
   "metadata": {},
   "outputs": [],
   "source": [
    "where_check=np.where(arr%2==0)"
   ]
  },
  {
   "cell_type": "code",
   "execution_count": 224,
   "id": "f1668429-2824-4461-a351-355ae52d0586",
   "metadata": {},
   "outputs": [
    {
     "data": {
      "text/plain": [
       "(array([0, 2, 4, 6, 8]),)"
      ]
     },
     "execution_count": 224,
     "metadata": {},
     "output_type": "execute_result"
    }
   ],
   "source": [
    "where_check"
   ]
  },
  {
   "cell_type": "markdown",
   "id": "6c8b2d7b-cd41-47f6-8aad-c1a1c48d5f49",
   "metadata": {},
   "source": [
    "# Sort"
   ]
  },
  {
   "cell_type": "code",
   "execution_count": 225,
   "id": "a2951ff8-c57d-47f7-b972-097725765c07",
   "metadata": {},
   "outputs": [],
   "source": [
    "arr=np.array(['Cherry','Banana','Apple'])"
   ]
  },
  {
   "cell_type": "code",
   "execution_count": 226,
   "id": "7527f2f7-2bef-4bb4-bc43-bc19be88930f",
   "metadata": {},
   "outputs": [
    {
     "data": {
      "text/plain": [
       "array(['Cherry', 'Banana', 'Apple'], dtype='<U6')"
      ]
     },
     "execution_count": 226,
     "metadata": {},
     "output_type": "execute_result"
    }
   ],
   "source": [
    "arr"
   ]
  },
  {
   "cell_type": "code",
   "execution_count": 227,
   "id": "da4d79e6-0f25-4104-8401-7fd9d5a98599",
   "metadata": {},
   "outputs": [
    {
     "data": {
      "text/plain": [
       "array(['Apple', 'Banana', 'Cherry'], dtype='<U6')"
      ]
     },
     "execution_count": 227,
     "metadata": {},
     "output_type": "execute_result"
    }
   ],
   "source": [
    "np.sort(arr)"
   ]
  },
  {
   "cell_type": "markdown",
   "id": "36c44110-edcd-4e9b-984f-c0aed50e5c31",
   "metadata": {},
   "source": [
    "# Conditinal Selection"
   ]
  },
  {
   "cell_type": "code",
   "execution_count": 242,
   "id": "26432e68-5904-4c7e-a861-37e90bc950ca",
   "metadata": {},
   "outputs": [],
   "source": [
    "arr=np.arange(0,10)"
   ]
  },
  {
   "cell_type": "code",
   "execution_count": 243,
   "id": "5a857bff-71af-406d-90eb-ca259e259430",
   "metadata": {},
   "outputs": [
    {
     "data": {
      "text/plain": [
       "array([0, 1, 2, 3, 4, 5, 6, 7, 8, 9])"
      ]
     },
     "execution_count": 243,
     "metadata": {},
     "output_type": "execute_result"
    }
   ],
   "source": [
    "arr"
   ]
  },
  {
   "cell_type": "code",
   "execution_count": 244,
   "id": "fc191fa4-eaa8-43a8-acc3-cf3ee2beb7b1",
   "metadata": {},
   "outputs": [
    {
     "data": {
      "text/plain": [
       "array([False, False, False, False, False, False,  True,  True,  True,\n",
       "        True])"
      ]
     },
     "execution_count": 244,
     "metadata": {},
     "output_type": "execute_result"
    }
   ],
   "source": [
    "arr>5"
   ]
  },
  {
   "cell_type": "code",
   "execution_count": 245,
   "id": "506ed0ea-3dd9-4189-bb58-539dd18912f0",
   "metadata": {},
   "outputs": [
    {
     "data": {
      "text/plain": [
       "array([6, 7, 8, 9])"
      ]
     },
     "execution_count": 245,
     "metadata": {},
     "output_type": "execute_result"
    }
   ],
   "source": [
    "arr[arr>5]  #this can be used as a conditional selection"
   ]
  },
  {
   "cell_type": "markdown",
   "id": "084a5a9d-4eb2-4abe-aac6-64af058b1df9",
   "metadata": {},
   "source": [
    "### File Handling"
   ]
  },
  {
   "cell_type": "code",
   "execution_count": 270,
   "id": "f155b727-3ddb-4bb0-9e18-816a40efe450",
   "metadata": {},
   "outputs": [],
   "source": [
    "data=np.loadtxt('data.csv',delimiter=',')"
   ]
  },
  {
   "cell_type": "code",
   "execution_count": 271,
   "id": "d0cf43c8-0956-48ad-bf17-b8818210c6d1",
   "metadata": {},
   "outputs": [
    {
     "data": {
      "text/plain": [
       "array([[1., 2., 3.],\n",
       "       [4., 2., 3.],\n",
       "       [7., 2., 3.]])"
      ]
     },
     "execution_count": 271,
     "metadata": {},
     "output_type": "execute_result"
    }
   ],
   "source": [
    "data"
   ]
  },
  {
   "cell_type": "code",
   "execution_count": 280,
   "id": "550db6b0-f007-4e87-8752-19a9c208faeb",
   "metadata": {},
   "outputs": [],
   "source": [
    "arr=np.arange(0,50).reshape(10,5)"
   ]
  },
  {
   "cell_type": "code",
   "execution_count": 281,
   "id": "b7110c60-035c-4e5d-9357-55d4e63183d0",
   "metadata": {},
   "outputs": [
    {
     "data": {
      "text/plain": [
       "array([[ 0,  1,  2,  3,  4],\n",
       "       [ 5,  6,  7,  8,  9],\n",
       "       [10, 11, 12, 13, 14],\n",
       "       [15, 16, 17, 18, 19],\n",
       "       [20, 21, 22, 23, 24],\n",
       "       [25, 26, 27, 28, 29],\n",
       "       [30, 31, 32, 33, 34],\n",
       "       [35, 36, 37, 38, 39],\n",
       "       [40, 41, 42, 43, 44],\n",
       "       [45, 46, 47, 48, 49]])"
      ]
     },
     "execution_count": 281,
     "metadata": {},
     "output_type": "execute_result"
    }
   ],
   "source": [
    "arr"
   ]
  },
  {
   "cell_type": "code",
   "execution_count": null,
   "id": "d2034cc2-d195-411c-bfe3-007f34fbc187",
   "metadata": {},
   "outputs": [],
   "source": [
    "np.savetxt('output.csv',arr,delimiter=',',fmt='%d')"
   ]
  }
 ],
 "metadata": {
  "kernelspec": {
   "display_name": "Python 3 (ipykernel)",
   "language": "python",
   "name": "python3"
  },
  "language_info": {
   "codemirror_mode": {
    "name": "ipython",
    "version": 3
   },
   "file_extension": ".py",
   "mimetype": "text/x-python",
   "name": "python",
   "nbconvert_exporter": "python",
   "pygments_lexer": "ipython3",
   "version": "3.13.1"
  }
 },
 "nbformat": 4,
 "nbformat_minor": 5
}
