{
 "cells": [
  {
   "cell_type": "raw",
   "id": "6ebbaf10-6873-4ca3-b46c-085c4b4642b9",
   "metadata": {},
   "source": [
    "Function Details: Press shift + tab together to see functionality\n",
    "Install: pip install numpy \n",
    "Comment Multiple Lines: Ctrl + /"
   ]
  },
  {
   "cell_type": "markdown",
   "id": "95b1ae60-cb62-49ce-852e-25413f742af3",
   "metadata": {},
   "source": [
    "# Import Numpy"
   ]
  },
  {
   "cell_type": "code",
   "execution_count": 1,
   "id": "9b17512d-7d2d-4ed9-a189-a65e1159e331",
   "metadata": {},
   "outputs": [],
   "source": [
    "import numpy as np\n"
   ]
  },
  {
   "cell_type": "markdown",
   "id": "37cd80ab-950e-4611-9adc-c20ef8b29ebb",
   "metadata": {},
   "source": [
    "# 1D array"
   ]
  },
  {
   "cell_type": "code",
   "execution_count": 2,
   "id": "0ed08ca8-8119-4c34-8ee5-f2169824173d",
   "metadata": {},
   "outputs": [],
   "source": [
    "a= np.array(([1,2,3]))"
   ]
  },
  {
   "cell_type": "code",
   "execution_count": 3,
   "id": "7ba55a78-6070-4c9b-8539-4f061adb59f0",
   "metadata": {},
   "outputs": [
    {
     "data": {
      "text/plain": [
       "array([1, 2, 3])"
      ]
     },
     "execution_count": 3,
     "metadata": {},
     "output_type": "execute_result"
    }
   ],
   "source": [
    "a"
   ]
  },
  {
   "cell_type": "markdown",
   "id": "6499dce1-0f24-41f7-8631-62a2fb2c36a2",
   "metadata": {},
   "source": [
    "# shape\n",
    "(rows, columns)"
   ]
  },
  {
   "cell_type": "code",
   "execution_count": 4,
   "id": "4e37b51e-7137-4774-9d5d-94d97bdb97d9",
   "metadata": {},
   "outputs": [
    {
     "data": {
      "text/plain": [
       "(3,)"
      ]
     },
     "execution_count": 4,
     "metadata": {},
     "output_type": "execute_result"
    }
   ],
   "source": [
    "a.shape #shows info about row and column"
   ]
  },
  {
   "cell_type": "markdown",
   "id": "48e4dc73-f133-4aa6-adcd-c26049eb103d",
   "metadata": {},
   "source": [
    "# dimension"
   ]
  },
  {
   "cell_type": "code",
   "execution_count": 5,
   "id": "67e0ee08-793c-4c51-864c-7a20c4c3aaed",
   "metadata": {},
   "outputs": [
    {
     "data": {
      "text/plain": [
       "1"
      ]
     },
     "execution_count": 5,
     "metadata": {},
     "output_type": "execute_result"
    }
   ],
   "source": [
    "a.ndim #returns the dimsnion of the array"
   ]
  },
  {
   "cell_type": "markdown",
   "id": "d482e198-8d1f-43eb-823a-c24c6bdd44a4",
   "metadata": {},
   "source": [
    "# 2D array"
   ]
  },
  {
   "cell_type": "code",
   "execution_count": 6,
   "id": "793f9f2f-900c-46d9-9d34-d6f109c09dd7",
   "metadata": {},
   "outputs": [],
   "source": [
    "b= np.array(\n",
    "    [[2,3,4], [4,5,6]] #double bracket symbllizes 2D\n",
    ")"
   ]
  },
  {
   "cell_type": "code",
   "execution_count": 7,
   "id": "a4ceaaf0-d776-43dd-bfce-41d9ae8a4b01",
   "metadata": {},
   "outputs": [
    {
     "data": {
      "text/plain": [
       "array([[2, 3, 4],\n",
       "       [4, 5, 6]])"
      ]
     },
     "execution_count": 7,
     "metadata": {},
     "output_type": "execute_result"
    }
   ],
   "source": [
    "b"
   ]
  },
  {
   "cell_type": "code",
   "execution_count": 8,
   "id": "0e44204e-5305-4eed-9a57-c1a6dd63b312",
   "metadata": {},
   "outputs": [
    {
     "data": {
      "text/plain": [
       "(2, 3)"
      ]
     },
     "execution_count": 8,
     "metadata": {},
     "output_type": "execute_result"
    }
   ],
   "source": [
    "b.shape\n"
   ]
  },
  {
   "cell_type": "code",
   "execution_count": 9,
   "id": "c1129aa4-4576-4ee7-8831-863928b9cefe",
   "metadata": {},
   "outputs": [
    {
     "data": {
      "text/plain": [
       "2"
      ]
     },
     "execution_count": 9,
     "metadata": {},
     "output_type": "execute_result"
    }
   ],
   "source": [
    "b.ndim"
   ]
  },
  {
   "cell_type": "markdown",
   "id": "d076c0fc-8697-4afe-86af-0a00e9f9c76c",
   "metadata": {},
   "source": [
    "# 3D Array"
   ]
  },
  {
   "cell_type": "code",
   "execution_count": 10,
   "id": "844acdab-f046-4fa4-8a50-03e840dab073",
   "metadata": {},
   "outputs": [],
   "source": [
    "c=np.array([[[1,2,3],\n",
    "          [4,5,6]]])"
   ]
  },
  {
   "cell_type": "code",
   "execution_count": 11,
   "id": "2a9265b4-796f-497b-8c62-d0a6c72f6acc",
   "metadata": {},
   "outputs": [
    {
     "data": {
      "text/plain": [
       "array([[[1, 2, 3],\n",
       "        [4, 5, 6]]])"
      ]
     },
     "execution_count": 11,
     "metadata": {},
     "output_type": "execute_result"
    }
   ],
   "source": [
    "c"
   ]
  },
  {
   "cell_type": "code",
   "execution_count": 12,
   "id": "a42e23a1-a18a-45c7-acd1-2c664b34dc05",
   "metadata": {},
   "outputs": [
    {
     "data": {
      "text/plain": [
       "(1, 2, 3)"
      ]
     },
     "execution_count": 12,
     "metadata": {},
     "output_type": "execute_result"
    }
   ],
   "source": [
    "c.shape"
   ]
  },
  {
   "cell_type": "code",
   "execution_count": 13,
   "id": "f12bc29a-ac20-4c8b-9763-ee2c05f7bc8d",
   "metadata": {},
   "outputs": [
    {
     "data": {
      "text/plain": [
       "3"
      ]
     },
     "execution_count": 13,
     "metadata": {},
     "output_type": "execute_result"
    }
   ],
   "source": [
    "c.ndim"
   ]
  },
  {
   "cell_type": "markdown",
   "id": "d41b6cb8-ab2f-4322-8f8d-d3f5b845cce0",
   "metadata": {},
   "source": [
    "# Data Type"
   ]
  },
  {
   "cell_type": "code",
   "execution_count": 14,
   "id": "3e6fa5ca-855e-432d-8907-04f8f2314fd3",
   "metadata": {},
   "outputs": [
    {
     "data": {
      "text/plain": [
       "(dtype('int64'), dtype('int64'), dtype('int64'))"
      ]
     },
     "execution_count": 14,
     "metadata": {},
     "output_type": "execute_result"
    }
   ],
   "source": [
    "a.dtype,b.dtype,c.dtype #dtype shows us the data type of the given array"
   ]
  },
  {
   "cell_type": "code",
   "execution_count": 15,
   "id": "ba755b49-a3b3-498e-a63c-fbc8eb488220",
   "metadata": {},
   "outputs": [],
   "source": [
    "d1=np.array(([1,2,3]))#1D\n",
    "d2=np.array(([[1,2,3]]))#2D\n",
    "d3=np.array(([[[1,2,3]]]))#3D\n"
   ]
  },
  {
   "cell_type": "code",
   "execution_count": 16,
   "id": "11f61ae1-a01e-441c-9c3f-2099a3c9c718",
   "metadata": {},
   "outputs": [],
   "source": [
    "d=d1,d2,d3"
   ]
  },
  {
   "cell_type": "code",
   "execution_count": 17,
   "id": "b3360b59-3a81-4219-8b19-7630fa94187b",
   "metadata": {},
   "outputs": [
    {
     "data": {
      "text/plain": [
       "(array([1, 2, 3]), array([[1, 2, 3]]), array([[[1, 2, 3]]]))"
      ]
     },
     "execution_count": 17,
     "metadata": {},
     "output_type": "execute_result"
    }
   ],
   "source": [
    "d"
   ]
  },
  {
   "cell_type": "code",
   "execution_count": 18,
   "id": "7e65edfd-bf3b-48df-a5ea-2c2a30a8907c",
   "metadata": {},
   "outputs": [],
   "source": [
    "f=np.array(([1.5,2.4,3.2]))"
   ]
  },
  {
   "cell_type": "code",
   "execution_count": 19,
   "id": "36c5b881-65f0-4b8b-99b9-ea084d2ed57d",
   "metadata": {},
   "outputs": [
    {
     "data": {
      "text/plain": [
       "array([1.5, 2.4, 3.2])"
      ]
     },
     "execution_count": 19,
     "metadata": {},
     "output_type": "execute_result"
    }
   ],
   "source": [
    "f"
   ]
  },
  {
   "cell_type": "code",
   "execution_count": 20,
   "id": "65b4b165-725e-4d9e-a313-ecabc0f915c1",
   "metadata": {},
   "outputs": [
    {
     "data": {
      "text/plain": [
       "dtype('float64')"
      ]
     },
     "execution_count": 20,
     "metadata": {},
     "output_type": "execute_result"
    }
   ],
   "source": [
    "f.dtype #float type"
   ]
  },
  {
   "cell_type": "markdown",
   "id": "9561c3ab-6cf3-4fb5-b58f-abda831e3581",
   "metadata": {},
   "source": [
    "# Elements"
   ]
  },
  {
   "cell_type": "code",
   "execution_count": 134,
   "id": "5c860406-b884-477c-9664-973c9f30b38d",
   "metadata": {},
   "outputs": [],
   "source": [
    "c=np.array([[[1,2,3],\n",
    "          [4,5,6]]])"
   ]
  },
  {
   "cell_type": "markdown",
   "id": "2254c27c-384c-456a-8cf4-9fb9f29b58b5",
   "metadata": {},
   "source": [
    "### size"
   ]
  },
  {
   "cell_type": "code",
   "execution_count": 135,
   "id": "91bab85d-6e0a-41b8-93f9-5e47e6d2f1d5",
   "metadata": {},
   "outputs": [
    {
     "data": {
      "text/plain": [
       "6"
      ]
     },
     "execution_count": 135,
     "metadata": {},
     "output_type": "execute_result"
    }
   ],
   "source": [
    "c.size #how many elements are there in the array (rows + columns)"
   ]
  },
  {
   "cell_type": "markdown",
   "id": "3d6fe6aa-272e-4678-818e-653b5ec16c5a",
   "metadata": {},
   "source": [
    "### item size"
   ]
  },
  {
   "cell_type": "code",
   "execution_count": 136,
   "id": "f4bb3591-d9ae-43a2-9224-e56d8f168c15",
   "metadata": {},
   "outputs": [
    {
     "data": {
      "text/plain": [
       "8"
      ]
     },
     "execution_count": 136,
     "metadata": {},
     "output_type": "execute_result"
    }
   ],
   "source": [
    "c.itemsize #how many bytes they consume"
   ]
  },
  {
   "cell_type": "markdown",
   "id": "02e2a042-c668-41cd-8dd1-fab3b9f4e634",
   "metadata": {},
   "source": [
    "### total size"
   ]
  },
  {
   "cell_type": "code",
   "execution_count": 139,
   "id": "df602853-24cd-4067-8774-a4564b114773",
   "metadata": {},
   "outputs": [
    {
     "data": {
      "text/plain": [
       "48"
      ]
     },
     "execution_count": 139,
     "metadata": {},
     "output_type": "execute_result"
    }
   ],
   "source": [
    "c.nbytes # (size + item size)"
   ]
  },
  {
   "cell_type": "markdown",
   "id": "b13d0f5c-81f1-4cdd-be78-15a19e4fc2da",
   "metadata": {},
   "source": [
    "# Memory Allocation"
   ]
  },
  {
   "cell_type": "code",
   "execution_count": 24,
   "id": "ecb39de6-4856-4941-ac52-b101de730132",
   "metadata": {},
   "outputs": [
    {
     "data": {
      "text/plain": [
       "48"
      ]
     },
     "execution_count": 24,
     "metadata": {},
     "output_type": "execute_result"
    }
   ],
   "source": [
    "c.nbytes #how many bytes consumed by array"
   ]
  },
  {
   "cell_type": "markdown",
   "id": "bc712463-218f-41d8-9536-b5af8bce298e",
   "metadata": {},
   "source": [
    "# Array Creation"
   ]
  },
  {
   "cell_type": "code",
   "execution_count": 25,
   "id": "7e247cd6-dd78-4d70-9ad7-64289de37564",
   "metadata": {},
   "outputs": [],
   "source": [
    "arr=np.array([4,5,6],dtype='int' )"
   ]
  },
  {
   "cell_type": "code",
   "execution_count": 26,
   "id": "37137db3-6571-456e-8426-bfdfe0f66e03",
   "metadata": {},
   "outputs": [
    {
     "data": {
      "text/plain": [
       "array([4, 5, 6])"
      ]
     },
     "execution_count": 26,
     "metadata": {},
     "output_type": "execute_result"
    }
   ],
   "source": [
    "arr"
   ]
  },
  {
   "cell_type": "markdown",
   "id": "bf31414b-2912-4ab9-b97d-4048a43b8fad",
   "metadata": {},
   "source": [
    "# zeros"
   ]
  },
  {
   "cell_type": "code",
   "execution_count": 27,
   "id": "62db5687-5f06-47c1-a536-924e46303ae4",
   "metadata": {},
   "outputs": [],
   "source": [
    "zeros=np.zeros((2,2),dtype='int')  "
   ]
  },
  {
   "cell_type": "code",
   "execution_count": 28,
   "id": "de50e02d-528d-436d-a1ee-2fab0dc68d3e",
   "metadata": {},
   "outputs": [
    {
     "data": {
      "text/plain": [
       "array([[0, 0],\n",
       "       [0, 0]])"
      ]
     },
     "execution_count": 28,
     "metadata": {},
     "output_type": "execute_result"
    }
   ],
   "source": [
    "zeros"
   ]
  },
  {
   "cell_type": "code",
   "execution_count": 29,
   "id": "5a413b82-7e05-4db6-a4f9-1369b85bca0c",
   "metadata": {},
   "outputs": [],
   "source": [
    "zeros=np.zeros((3,2),dtype='float')  "
   ]
  },
  {
   "cell_type": "code",
   "execution_count": 30,
   "id": "e1759237-ef31-4ada-b725-c3c373e0dc94",
   "metadata": {},
   "outputs": [
    {
     "data": {
      "text/plain": [
       "array([[0., 0.],\n",
       "       [0., 0.],\n",
       "       [0., 0.]])"
      ]
     },
     "execution_count": 30,
     "metadata": {},
     "output_type": "execute_result"
    }
   ],
   "source": [
    "zeros"
   ]
  },
  {
   "cell_type": "markdown",
   "id": "e57be078-b0e5-4b1f-8dac-2409eb161be6",
   "metadata": {},
   "source": [
    "# ones"
   ]
  },
  {
   "cell_type": "code",
   "execution_count": 31,
   "id": "6cc2cc7d-9937-4c24-935e-57feac264b82",
   "metadata": {},
   "outputs": [],
   "source": [
    "ones=np.ones((3,2))  #dtype default float"
   ]
  },
  {
   "cell_type": "code",
   "execution_count": 32,
   "id": "cfd41020-c531-4ce0-b3a8-5c42cad3471f",
   "metadata": {},
   "outputs": [
    {
     "data": {
      "text/plain": [
       "array([[1., 1.],\n",
       "       [1., 1.],\n",
       "       [1., 1.]])"
      ]
     },
     "execution_count": 32,
     "metadata": {},
     "output_type": "execute_result"
    }
   ],
   "source": [
    "ones"
   ]
  },
  {
   "cell_type": "markdown",
   "id": "f7ff56c7-6efb-4d21-bc35-739c0e50b0d2",
   "metadata": {},
   "source": [
    "# full"
   ]
  },
  {
   "cell_type": "code",
   "execution_count": 33,
   "id": "9324ac8d-0337-4b72-a418-7649dba2b6d3",
   "metadata": {},
   "outputs": [
    {
     "data": {
      "text/plain": [
       "array([[5, 5, 5],\n",
       "       [5, 5, 5]])"
      ]
     },
     "execution_count": 33,
     "metadata": {},
     "output_type": "execute_result"
    }
   ],
   "source": [
    "np.full ((2,3),5) # np.full((shape), element)"
   ]
  },
  {
   "cell_type": "markdown",
   "id": "274722b7-493f-4e6e-91f8-65c088b5ad4a",
   "metadata": {},
   "source": [
    "# identity matrix"
   ]
  },
  {
   "cell_type": "code",
   "execution_count": 34,
   "id": "766e7e0c-1c12-418c-9653-07f0693cb6d1",
   "metadata": {},
   "outputs": [
    {
     "data": {
      "text/plain": [
       "array([[1., 0., 0., 0., 0.],\n",
       "       [0., 1., 0., 0., 0.],\n",
       "       [0., 0., 1., 0., 0.],\n",
       "       [0., 0., 0., 1., 0.],\n",
       "       [0., 0., 0., 0., 1.]])"
      ]
     },
     "execution_count": 34,
     "metadata": {},
     "output_type": "execute_result"
    }
   ],
   "source": [
    "np.identity(5) #takes only one parameter"
   ]
  },
  {
   "cell_type": "markdown",
   "id": "7daa1af0-f44a-4806-949e-a66422694880",
   "metadata": {},
   "source": [
    "# eye\n",
    "The numpy.eye() function in Python's NumPy library is used to create a 2-dimensional array (matrix) with ones on a specified diagonal and zeros elsewhere. This function is commonly used to generate identity matrices, which are square matrices with ones only on the main diagonal and zeros in all other positions. \n",
    "Key parameters of numpy.eye():\n",
    "N: The number of rows in the output array.\n",
    "M (optional): The number of columns in the output array. If None, it defaults to N, resulting in a square matrix.\n",
    "k (optional): The index of the diagonal.\n",
    "k=0 (default) refers to the main diagonal.\n",
    "Positive values of k refer to upper diagonals (above the main diagonal).\n",
    "Negative values of k refer to lower diagonals (below the main diagonal).\n",
    "dtype (optional): The data type of the returned array (e.g., int, float).\n",
    "order (optional): Specifies the memory layout of the array, either 'C' (row-major) or 'F' (column-major)."
   ]
  },
  {
   "cell_type": "code",
   "execution_count": 35,
   "id": "d1c3fb51-50b5-48d8-ae0d-699c17a871e1",
   "metadata": {},
   "outputs": [],
   "source": [
    "eye=np.eye(6,5,-1,dtype='int') # K- negative goes left # K- positive goes right\n"
   ]
  },
  {
   "cell_type": "code",
   "execution_count": 36,
   "id": "46a28830-4bc9-4b47-9559-81769e374650",
   "metadata": {},
   "outputs": [
    {
     "data": {
      "text/plain": [
       "array([[0, 0, 0, 0, 0],\n",
       "       [1, 0, 0, 0, 0],\n",
       "       [0, 1, 0, 0, 0],\n",
       "       [0, 0, 1, 0, 0],\n",
       "       [0, 0, 0, 1, 0],\n",
       "       [0, 0, 0, 0, 1]])"
      ]
     },
     "execution_count": 36,
     "metadata": {},
     "output_type": "execute_result"
    }
   ],
   "source": [
    "eye\n"
   ]
  },
  {
   "cell_type": "code",
   "execution_count": 37,
   "id": "99e93a2d-25ae-4f3e-91b5-1e578c3f6899",
   "metadata": {},
   "outputs": [],
   "source": [
    "eye=np.eye(5,5,2)"
   ]
  },
  {
   "cell_type": "code",
   "execution_count": 38,
   "id": "a7a8efea-30cd-4eea-acd0-69e78534afda",
   "metadata": {},
   "outputs": [
    {
     "data": {
      "text/plain": [
       "array([[0., 0., 1., 0., 0.],\n",
       "       [0., 0., 0., 1., 0.],\n",
       "       [0., 0., 0., 0., 1.],\n",
       "       [0., 0., 0., 0., 0.],\n",
       "       [0., 0., 0., 0., 0.]])"
      ]
     },
     "execution_count": 38,
     "metadata": {},
     "output_type": "execute_result"
    }
   ],
   "source": [
    "eye"
   ]
  },
  {
   "cell_type": "markdown",
   "id": "d8d5626e-f46b-4874-96c7-32946f1c5da9",
   "metadata": {},
   "source": [
    "# arrange"
   ]
  },
  {
   "cell_type": "code",
   "execution_count": 39,
   "id": "0a3a0403-a27a-466f-a1e1-61fa0e5fd4a0",
   "metadata": {},
   "outputs": [],
   "source": [
    "arange= np.arange(7) #starts from index 0"
   ]
  },
  {
   "cell_type": "code",
   "execution_count": 40,
   "id": "c8f38051-9618-4ac5-b833-0830db532ab6",
   "metadata": {},
   "outputs": [
    {
     "data": {
      "text/plain": [
       "array([0, 1, 2, 3, 4, 5, 6])"
      ]
     },
     "execution_count": 40,
     "metadata": {},
     "output_type": "execute_result"
    }
   ],
   "source": [
    "arange"
   ]
  },
  {
   "cell_type": "code",
   "execution_count": 41,
   "id": "593a032f-ea00-4322-9505-858690801f6e",
   "metadata": {},
   "outputs": [],
   "source": [
    "arange=np.arange(2,20,4) #arrange(starting value,ending  vlaue, step size)"
   ]
  },
  {
   "cell_type": "code",
   "execution_count": 42,
   "id": "e42d3b34-308b-4cf2-8892-9754530a4ac7",
   "metadata": {},
   "outputs": [
    {
     "data": {
      "text/plain": [
       "array([ 2,  6, 10, 14, 18])"
      ]
     },
     "execution_count": 42,
     "metadata": {},
     "output_type": "execute_result"
    }
   ],
   "source": [
    "arange"
   ]
  },
  {
   "cell_type": "markdown",
   "id": "8cf87f7d-5695-46d6-9907-338d8661ce6c",
   "metadata": {},
   "source": [
    "# linspace "
   ]
  },
  {
   "cell_type": "code",
   "execution_count": 43,
   "id": "70dab485-8def-4fc8-bf1d-b5920da542f1",
   "metadata": {},
   "outputs": [],
   "source": [
    "linspace = np.linspace (1,100) #Linspace (start point, end point, number of values) "
   ]
  },
  {
   "cell_type": "code",
   "execution_count": 44,
   "id": "eefe39c4-be78-41b3-998b-1efb48fc989f",
   "metadata": {},
   "outputs": [
    {
     "data": {
      "text/plain": [
       "array([  1.        ,   3.02040816,   5.04081633,   7.06122449,\n",
       "         9.08163265,  11.10204082,  13.12244898,  15.14285714,\n",
       "        17.16326531,  19.18367347,  21.20408163,  23.2244898 ,\n",
       "        25.24489796,  27.26530612,  29.28571429,  31.30612245,\n",
       "        33.32653061,  35.34693878,  37.36734694,  39.3877551 ,\n",
       "        41.40816327,  43.42857143,  45.44897959,  47.46938776,\n",
       "        49.48979592,  51.51020408,  53.53061224,  55.55102041,\n",
       "        57.57142857,  59.59183673,  61.6122449 ,  63.63265306,\n",
       "        65.65306122,  67.67346939,  69.69387755,  71.71428571,\n",
       "        73.73469388,  75.75510204,  77.7755102 ,  79.79591837,\n",
       "        81.81632653,  83.83673469,  85.85714286,  87.87755102,\n",
       "        89.89795918,  91.91836735,  93.93877551,  95.95918367,\n",
       "        97.97959184, 100.        ])"
      ]
     },
     "execution_count": 44,
     "metadata": {},
     "output_type": "execute_result"
    }
   ],
   "source": [
    "linspace"
   ]
  },
  {
   "cell_type": "code",
   "execution_count": 45,
   "id": "247cd139-a577-4301-b061-cac57295af01",
   "metadata": {},
   "outputs": [
    {
     "data": {
      "text/plain": [
       "50"
      ]
     },
     "execution_count": 45,
     "metadata": {},
     "output_type": "execute_result"
    }
   ],
   "source": [
    "linspace. size #default=50"
   ]
  },
  {
   "cell_type": "code",
   "execution_count": 46,
   "id": "b9cce088-1a2e-408a-b9dd-29a1260d00fb",
   "metadata": {},
   "outputs": [],
   "source": [
    "linspace = np.linspace (50,100,5, dtype='int')"
   ]
  },
  {
   "cell_type": "code",
   "execution_count": 47,
   "id": "57c4425a-a604-4400-81ff-ac6afc4b02ba",
   "metadata": {},
   "outputs": [
    {
     "data": {
      "text/plain": [
       "array([ 50,  62,  75,  87, 100])"
      ]
     },
     "execution_count": 47,
     "metadata": {},
     "output_type": "execute_result"
    }
   ],
   "source": [
    "linspace"
   ]
  },
  {
   "cell_type": "markdown",
   "id": "d01e846a-51f7-4d73-b081-ebd0eafb724e",
   "metadata": {},
   "source": [
    "# empty\n",
    "numpy.empty(shape, dtype=float, order='C')\n",
    "\n",
    "\n",
    "An \"empty\" NumPy array refers to an array that has been allocated memory but whose elements have not been initialized to any specific value, such as zero. Instead, the elements contain whatever arbitrary data happened to be in those memory locations when the array was created. This can offer a performance advantage over initializing all elements, especially for very large arrays, if the subsequent code will immediately overwrite all the elements anyway."
   ]
  },
  {
   "cell_type": "code",
   "execution_count": 48,
   "id": "c943f93c-8082-4531-801e-d13ce774e4a0",
   "metadata": {},
   "outputs": [],
   "source": [
    "empty =np.empty((7,4))"
   ]
  },
  {
   "cell_type": "code",
   "execution_count": 49,
   "id": "cd57e329-6965-456a-8923-1b3095646d2f",
   "metadata": {},
   "outputs": [
    {
     "data": {
      "text/plain": [
       "array([[ 4.35678737e-313,  4.32887141e-312,  1.08858384e-311,\n",
       "         6.79453105e-313],\n",
       "       [ 5.45352919e-312,  3.82373695e-313,  1.48590217e-313,\n",
       "         2.78166063e-309],\n",
       "       [ 7.29112202e-304,  2.78134232e-308,  5.45352983e-312,\n",
       "         2.55053947e-313],\n",
       "       [ 2.08603857e-308,  1.34497462e-284,  1.15436571e-311,\n",
       "        -2.68156159e+154],\n",
       "       [ 7.29112202e-304,  2.78731786e-308,  5.47209665e-312,\n",
       "         2.55053947e-313],\n",
       "       [ 1.28822975e-231,  1.34497462e-284,  1.15436571e-311,\n",
       "         1.28822975e-231],\n",
       "       [ 3.13151306e-294,  3.89388350e-308,  2.78137840e-308,\n",
       "         5.45352918e-312]])"
      ]
     },
     "execution_count": 49,
     "metadata": {},
     "output_type": "execute_result"
    }
   ],
   "source": [
    "empty #returns memory location "
   ]
  },
  {
   "cell_type": "markdown",
   "id": "01d9d254-3ac9-465f-926f-f91ea2d23e49",
   "metadata": {},
   "source": [
    "# random number"
   ]
  },
  {
   "cell_type": "code",
   "execution_count": 50,
   "id": "0bb7b0ea-95e8-4456-b29b-65e01ae3bcce",
   "metadata": {},
   "outputs": [],
   "source": [
    "arr1 = np.random.randint(1,10,size=4) #1D Array"
   ]
  },
  {
   "cell_type": "code",
   "execution_count": 51,
   "id": "f9b55dee-8a54-48f1-9b1e-978c5e69f0e4",
   "metadata": {},
   "outputs": [
    {
     "data": {
      "text/plain": [
       "array([5, 2, 6, 3], dtype=int32)"
      ]
     },
     "execution_count": 51,
     "metadata": {},
     "output_type": "execute_result"
    }
   ],
   "source": [
    "arr1"
   ]
  },
  {
   "cell_type": "code",
   "execution_count": 52,
   "id": "07cdcfb2-faf0-49c7-8200-f095125a943f",
   "metadata": {},
   "outputs": [],
   "source": [
    "arr2 = np.random.randint(1,10,size=(3,3)) #2D array"
   ]
  },
  {
   "cell_type": "code",
   "execution_count": 53,
   "id": "aa831f51-14bc-4985-8376-4ea8d2264d0e",
   "metadata": {},
   "outputs": [
    {
     "data": {
      "text/plain": [
       "array([[8, 4, 6],\n",
       "       [9, 8, 1],\n",
       "       [8, 7, 7]], dtype=int32)"
      ]
     },
     "execution_count": 53,
     "metadata": {},
     "output_type": "execute_result"
    }
   ],
   "source": [
    "arr2"
   ]
  },
  {
   "cell_type": "markdown",
   "id": "e578f5ec-3de5-49c6-aeb6-fe4e1b36f9f2",
   "metadata": {},
   "source": [
    "# array indexing"
   ]
  },
  {
   "cell_type": "markdown",
   "id": "26944c50-da03-4bca-9906-33ebba4ccfbb",
   "metadata": {},
   "source": [
    "### 1D Array (Vector)"
   ]
  },
  {
   "cell_type": "code",
   "execution_count": 54,
   "id": "04183108-f08a-4b02-adb2-db38cf5bd966",
   "metadata": {},
   "outputs": [
    {
     "name": "stdout",
     "output_type": "stream",
     "text": [
      "1\n"
     ]
    }
   ],
   "source": [
    "import numpy as np\n",
    "arr3 = np.array([1, 2, 3, 4, 6])\n",
    "print(arr3[0])\n"
   ]
  },
  {
   "cell_type": "code",
   "execution_count": 55,
   "id": "4eba8d7b-ab7b-46e8-a67c-016b4e4bf6d4",
   "metadata": {},
   "outputs": [
    {
     "name": "stdout",
     "output_type": "stream",
     "text": [
      "6\n"
     ]
    }
   ],
   "source": [
    "print(arr3[-1])\n"
   ]
  },
  {
   "cell_type": "markdown",
   "id": "9a14016a-c945-4365-9e6c-bc9c895f02e9",
   "metadata": {},
   "source": [
    "### 2D Array (Matrix)"
   ]
  },
  {
   "cell_type": "code",
   "execution_count": 56,
   "id": "e196c5f3-b6be-4663-924f-0adf5a44a847",
   "metadata": {},
   "outputs": [],
   "source": [
    "arr4=np.array([[1,2,3],[4,5,6]])"
   ]
  },
  {
   "cell_type": "code",
   "execution_count": 57,
   "id": "47c6d37a-795f-409c-9c5e-ba9a88308529",
   "metadata": {},
   "outputs": [
    {
     "data": {
      "text/plain": [
       "array([[1, 2, 3],\n",
       "       [4, 5, 6]])"
      ]
     },
     "execution_count": 57,
     "metadata": {},
     "output_type": "execute_result"
    }
   ],
   "source": [
    "arr4"
   ]
  },
  {
   "cell_type": "code",
   "execution_count": 58,
   "id": "2ba69428-ac9a-47de-8197-fe1ea5da86c6",
   "metadata": {},
   "outputs": [
    {
     "name": "stdout",
     "output_type": "stream",
     "text": [
      "6\n"
     ]
    }
   ],
   "source": [
    "print(arr4[1,2]) # [Row,Column]"
   ]
  },
  {
   "cell_type": "code",
   "execution_count": 59,
   "id": "9e1e8bfb-09fe-4b8b-8a85-f7c74eac643b",
   "metadata": {},
   "outputs": [],
   "source": [
    "arr5=np.random.randint(1,48,size=(5,5))"
   ]
  },
  {
   "cell_type": "code",
   "execution_count": 60,
   "id": "b513a68b-f0d6-47b1-b90b-c45879f45f61",
   "metadata": {},
   "outputs": [
    {
     "name": "stdout",
     "output_type": "stream",
     "text": [
      "[[19  6 15 37 11]\n",
      " [ 4 15 41 17  6]\n",
      " [46 45 32 39 15]\n",
      " [26 26 18 27 39]\n",
      " [20 25 38 47 12]]\n"
     ]
    }
   ],
   "source": [
    "print(arr5)"
   ]
  },
  {
   "cell_type": "code",
   "execution_count": 61,
   "id": "c62f7fc0-70eb-4eaa-b8f1-dd90c123b639",
   "metadata": {},
   "outputs": [
    {
     "name": "stdout",
     "output_type": "stream",
     "text": [
      "41\n"
     ]
    }
   ],
   "source": [
    "#print 46 from the above\n",
    "print(arr5[1,2])"
   ]
  },
  {
   "cell_type": "markdown",
   "id": "91f33746-8075-4c47-8a6b-3106a54918fd",
   "metadata": {},
   "source": [
    "### 3D Array"
   ]
  },
  {
   "cell_type": "code",
   "execution_count": 62,
   "id": "ba26d36b-5d77-40d4-9670-7b7c82253aa0",
   "metadata": {},
   "outputs": [],
   "source": [
    "arr6=np.random.randint(1,47,size=(3,4,3))"
   ]
  },
  {
   "cell_type": "code",
   "execution_count": 63,
   "id": "e52eb1ef-b5b0-439d-a92e-05509d0c8427",
   "metadata": {},
   "outputs": [
    {
     "name": "stdout",
     "output_type": "stream",
     "text": [
      "[[[18 26 38]\n",
      "  [12 34 39]\n",
      "  [10 25 23]\n",
      "  [34 10 39]]\n",
      "\n",
      " [[39 40 11]\n",
      "  [19  1 43]\n",
      "  [37 38 39]\n",
      "  [35 33 12]]\n",
      "\n",
      " [[42 35 20]\n",
      "  [36 46  8]\n",
      "  [20 14 35]\n",
      "  [20 17 26]]]\n"
     ]
    }
   ],
   "source": [
    "print(arr6)"
   ]
  },
  {
   "cell_type": "code",
   "execution_count": 64,
   "id": "7e0169e1-1f4d-4ee4-b0f3-d66eb6a97043",
   "metadata": {},
   "outputs": [
    {
     "name": "stdout",
     "output_type": "stream",
     "text": [
      "14\n"
     ]
    }
   ],
   "source": [
    "print(arr6[2,2,1]) #[Set,Row,Column]"
   ]
  },
  {
   "cell_type": "markdown",
   "id": "0991f929-cccb-4d15-99d6-4ec34dcefc4c",
   "metadata": {},
   "source": [
    "# Array Slicing"
   ]
  },
  {
   "cell_type": "code",
   "execution_count": 65,
   "id": "1cd7661d-f7b4-4bb8-8da7-86e22eff8d54",
   "metadata": {},
   "outputs": [],
   "source": [
    "# Slicing in Python (and NumPy) includes the start index but excludes the end index "
   ]
  },
  {
   "cell_type": "markdown",
   "id": "42c2f5b6-fe98-4145-bda3-fcf80c368e88",
   "metadata": {},
   "source": [
    "### 1D Array"
   ]
  },
  {
   "cell_type": "code",
   "execution_count": 66,
   "id": "1874520a-7ed5-458a-a979-a8fa3481f48f",
   "metadata": {},
   "outputs": [
    {
     "data": {
      "text/plain": [
       "array([1, 2, 3, 4, 6])"
      ]
     },
     "execution_count": 66,
     "metadata": {},
     "output_type": "execute_result"
    }
   ],
   "source": [
    "arr3"
   ]
  },
  {
   "cell_type": "code",
   "execution_count": 67,
   "id": "76c89ad9-6531-4bd5-ab7d-11674d1a13fe",
   "metadata": {},
   "outputs": [
    {
     "data": {
      "text/plain": [
       "array([2, 3])"
      ]
     },
     "execution_count": 67,
     "metadata": {},
     "output_type": "execute_result"
    }
   ],
   "source": [
    "arr3[1:3] #print 2,3"
   ]
  },
  {
   "cell_type": "code",
   "execution_count": 68,
   "id": "a214be3d-0632-4722-9788-b62d0fff3ab6",
   "metadata": {},
   "outputs": [
    {
     "data": {
      "text/plain": [
       "array([2, 3, 4, 6])"
      ]
     },
     "execution_count": 68,
     "metadata": {},
     "output_type": "execute_result"
    }
   ],
   "source": [
    "arr3[1:] #print 2,3,4,6"
   ]
  },
  {
   "cell_type": "markdown",
   "id": "9ad4c84b-fe26-4eed-a08f-2bfa2541ceb3",
   "metadata": {},
   "source": [
    "### 2D Array"
   ]
  },
  {
   "cell_type": "code",
   "execution_count": 69,
   "id": "0079e324-9c6a-400e-8769-e0c9c523e23f",
   "metadata": {},
   "outputs": [],
   "source": [
    "arr6=np.random.randint(5,10,size=(3,3))"
   ]
  },
  {
   "cell_type": "code",
   "execution_count": 70,
   "id": "45af8023-1d71-44f2-99d2-fff799b474f4",
   "metadata": {},
   "outputs": [
    {
     "name": "stdout",
     "output_type": "stream",
     "text": [
      "[[6 7 5]\n",
      " [5 9 7]\n",
      " [9 8 6]]\n"
     ]
    }
   ],
   "source": [
    "print(arr6)"
   ]
  },
  {
   "cell_type": "code",
   "execution_count": 71,
   "id": "d0237883-70d0-419e-8695-84fd13159638",
   "metadata": {},
   "outputs": [
    {
     "name": "stdout",
     "output_type": "stream",
     "text": [
      "[[6 7 5]\n",
      " [5 9 7]]\n"
     ]
    }
   ],
   "source": [
    "print(arr6[0:2])"
   ]
  },
  {
   "cell_type": "code",
   "execution_count": 72,
   "id": "0c3d6fd2-5b55-4576-9f05-8e7fc77c6a28",
   "metadata": {},
   "outputs": [
    {
     "name": "stdout",
     "output_type": "stream",
     "text": [
      "[[6 7]\n",
      " [5 9]]\n"
     ]
    }
   ],
   "source": [
    "print(arr6 [0:2,0:2]) #first two row and column\n"
   ]
  },
  {
   "cell_type": "code",
   "execution_count": 73,
   "id": "6490dfbc-6ecc-4587-87c1-9548d3411c03",
   "metadata": {},
   "outputs": [
    {
     "name": "stdout",
     "output_type": "stream",
     "text": [
      "[[5 9 7]\n",
      " [9 8 6]]\n"
     ]
    }
   ],
   "source": [
    "print(arr6 [1:])"
   ]
  },
  {
   "cell_type": "code",
   "execution_count": 74,
   "id": "34e61cd9-e2ba-48d4-9d89-e8f2eed74026",
   "metadata": {},
   "outputs": [
    {
     "name": "stdout",
     "output_type": "stream",
     "text": [
      "[[9 7]\n",
      " [8 6]]\n"
     ]
    }
   ],
   "source": [
    "print(arr6 [1:,1:])"
   ]
  },
  {
   "cell_type": "raw",
   "id": "c59cd48e-0834-4529-b6c1-336a447d7be0",
   "metadata": {},
   "source": [
    "#Problem Solving\n",
    "Given the following 2D NumPy array:\n",
    "import numpy as np\n",
    "\n",
    "arr = np.array([\n",
    "    [10, 20, 30, 40],\n",
    "    [50, 60, 70, 80],\n",
    "    [90, 100, 110, 120],\n",
    "    [130, 140, 150, 160]\n",
    "])\n",
    "\n",
    "1. Extract the submatrix:\n",
    "[\n",
    "[60, 70],\n",
    "[100, 110]\n",
    "]\n",
    "\n",
    "2. Replace the extracted submatrix with zeros in the original array.\n"
   ]
  },
  {
   "cell_type": "code",
   "execution_count": 75,
   "id": "dde063db-2fae-4ff7-ab9d-1b52ca9d6476",
   "metadata": {},
   "outputs": [],
   "source": [
    "import numpy as np\n",
    "\n",
    "arr = np.array([\n",
    "    [10, 20, 30, 40],\n",
    "    [50, 60, 70, 80],\n",
    "    [90, 100, 110, 120],\n",
    "    [130, 140, 150, 160]\n",
    "])\n"
   ]
  },
  {
   "cell_type": "code",
   "execution_count": 76,
   "id": "3a7bc316-a8ff-4a65-a6fd-2a806ef81e74",
   "metadata": {},
   "outputs": [
    {
     "data": {
      "text/plain": [
       "array([[ 10,  20,  30,  40],\n",
       "       [ 50,  60,  70,  80],\n",
       "       [ 90, 100, 110, 120],\n",
       "       [130, 140, 150, 160]])"
      ]
     },
     "execution_count": 76,
     "metadata": {},
     "output_type": "execute_result"
    }
   ],
   "source": [
    "arr"
   ]
  },
  {
   "cell_type": "code",
   "execution_count": 77,
   "id": "e078ae74-de6b-4903-8269-b9c67afcafd1",
   "metadata": {},
   "outputs": [
    {
     "data": {
      "text/plain": [
       "array([[ 50,  60,  70,  80],\n",
       "       [ 90, 100, 110, 120]])"
      ]
     },
     "execution_count": 77,
     "metadata": {},
     "output_type": "execute_result"
    }
   ],
   "source": [
    "arr[1:3]"
   ]
  },
  {
   "cell_type": "code",
   "execution_count": 78,
   "id": "ef5db1fa-f70b-4509-b150-05c4584f225c",
   "metadata": {},
   "outputs": [
    {
     "data": {
      "text/plain": [
       "array([[ 60,  70],\n",
       "       [100, 110]])"
      ]
     },
     "execution_count": 78,
     "metadata": {},
     "output_type": "execute_result"
    }
   ],
   "source": [
    "arr[1:3,1:3]"
   ]
  },
  {
   "cell_type": "code",
   "execution_count": 79,
   "id": "86a64b36-a02c-448b-b12b-ffac679b3abc",
   "metadata": {},
   "outputs": [],
   "source": [
    "arr[1:3,1:3]=0"
   ]
  },
  {
   "cell_type": "code",
   "execution_count": 80,
   "id": "70fcdb8b-a37c-426a-9f37-6af185092d80",
   "metadata": {},
   "outputs": [
    {
     "data": {
      "text/plain": [
       "array([[ 10,  20,  30,  40],\n",
       "       [ 50,   0,   0,  80],\n",
       "       [ 90,   0,   0, 120],\n",
       "       [130, 140, 150, 160]])"
      ]
     },
     "execution_count": 80,
     "metadata": {},
     "output_type": "execute_result"
    }
   ],
   "source": [
    "arr"
   ]
  },
  {
   "cell_type": "markdown",
   "id": "41cf4958-7ba6-43df-a098-3e8bb01e7973",
   "metadata": {},
   "source": [
    "# reshape"
   ]
  },
  {
   "cell_type": "raw",
   "id": "a6e48c08-3dce-47a5-a9a1-964a8ef9df5b",
   "metadata": {},
   "source": [
    "array reshaping primarily refers to changing the dimensions of a NumPy array without altering its underlying data. This is achieved using numpy.reshape() function or the reshape() method of a NumPy array.\n",
    "\n",
    "The total number of elements in the new shape must be equal to the total number of elements in the original array. If not, a ValueError will be raised."
   ]
  },
  {
   "cell_type": "code",
   "execution_count": 81,
   "id": "f0602165-b771-4d2c-a2b8-6ee75158635e",
   "metadata": {},
   "outputs": [],
   "source": [
    "array=np.random.randint(5,20,size=(2,3))"
   ]
  },
  {
   "cell_type": "code",
   "execution_count": 82,
   "id": "426aab90-ee09-4a8c-b9de-5f89121ef9d1",
   "metadata": {},
   "outputs": [
    {
     "name": "stdout",
     "output_type": "stream",
     "text": [
      "[[17  5 15]\n",
      " [19 13 12]]\n"
     ]
    }
   ],
   "source": [
    "print(array)"
   ]
  },
  {
   "cell_type": "code",
   "execution_count": 83,
   "id": "c7b59b89-4421-4bb6-9797-1714c88e09f1",
   "metadata": {},
   "outputs": [
    {
     "name": "stdout",
     "output_type": "stream",
     "text": [
      "[[17  5]\n",
      " [15 19]\n",
      " [13 12]]\n"
     ]
    }
   ],
   "source": [
    "#method 1\n",
    "print(np.reshape(array,(3,2))) #np.reshape(name of the array, (new shape (row,column))"
   ]
  },
  {
   "cell_type": "code",
   "execution_count": 84,
   "id": "9763b357-4872-4502-9589-2beb9de73c26",
   "metadata": {},
   "outputs": [
    {
     "name": "stdout",
     "output_type": "stream",
     "text": [
      "[[17  5]\n",
      " [15 19]\n",
      " [13 12]]\n"
     ]
    }
   ],
   "source": [
    "#method 2 \n",
    "print(array.reshape(3,2)) #arrayname.reshape((new shape (row,column))"
   ]
  },
  {
   "cell_type": "markdown",
   "id": "2e4343a2-21fe-42c9-a4ba-cff0338cdb35",
   "metadata": {},
   "source": [
    "# resize "
   ]
  },
  {
   "cell_type": "raw",
   "id": "d5040248-c14e-4c99-97d8-54da94fc9cdb",
   "metadata": {},
   "source": [
    "Method 1\n",
    "np.resize(a, new_shape)\n",
    "Suppose the new array is larger than the original array. In that case, the new array is filled with repeated copies of a.\n",
    "\n",
    "Method 2\n",
    "a.resize(new_shape)\n",
    "Note that this behavior is different from a.resize(new_shape), which fills with zeros instead of repeated copies of a."
   ]
  },
  {
   "cell_type": "code",
   "execution_count": 85,
   "id": "92a1b7a3-d208-4e9f-bb74-87a9bc57d1ed",
   "metadata": {},
   "outputs": [],
   "source": [
    "array1= np.random.randint(1,15,size=(3,3))\n"
   ]
  },
  {
   "cell_type": "code",
   "execution_count": 86,
   "id": "1bafadb9-701c-44ad-9cb4-9a0302d3a48e",
   "metadata": {},
   "outputs": [
    {
     "name": "stdout",
     "output_type": "stream",
     "text": [
      "[[ 2 13 11]\n",
      " [ 9  9 11]\n",
      " [11  6  7]]\n"
     ]
    }
   ],
   "source": [
    "print(array1)"
   ]
  },
  {
   "cell_type": "code",
   "execution_count": 87,
   "id": "edbbe14f-6bd0-479f-9534-80947d8f0867",
   "metadata": {},
   "outputs": [
    {
     "name": "stdout",
     "output_type": "stream",
     "text": [
      "[[ 2 13 11]\n",
      " [ 9  9 11]\n",
      " [11  6  7]\n",
      " [ 2 13 11]\n",
      " [ 9  9 11]]\n"
     ]
    }
   ],
   "source": [
    "print(np.resize(array1,(5,3))) #method 1"
   ]
  },
  {
   "cell_type": "code",
   "execution_count": 88,
   "id": "b6dc65a4-82aa-478f-ba82-2654c1224825",
   "metadata": {},
   "outputs": [],
   "source": [
    "array1.resize(6,3) #method 2"
   ]
  },
  {
   "cell_type": "code",
   "execution_count": 89,
   "id": "616a173b-200c-463a-8a7c-a567867dd89e",
   "metadata": {},
   "outputs": [
    {
     "name": "stdout",
     "output_type": "stream",
     "text": [
      "[[ 2 13 11]\n",
      " [ 9  9 11]\n",
      " [11  6  7]\n",
      " [ 0  0  0]\n",
      " [ 0  0  0]\n",
      " [ 0  0  0]]\n"
     ]
    }
   ],
   "source": [
    "print(array1)"
   ]
  },
  {
   "cell_type": "markdown",
   "id": "cc89ffd3-506d-4f9a-9a89-75ab93650954",
   "metadata": {},
   "source": [
    "# ravel()"
   ]
  },
  {
   "cell_type": "raw",
   "id": "de613ef4-bee7-4b8f-b13e-39256451aa4f",
   "metadata": {},
   "source": [
    "numpy.ravel() is a function in the NumPy library that flattens a multi-dimensional array into a one-dimensional array. I"
   ]
  },
  {
   "cell_type": "code",
   "execution_count": 90,
   "id": "212e2caf-8cbb-411e-a36e-31da8ed7cc33",
   "metadata": {},
   "outputs": [],
   "source": [
    "arr10=np.array([[2,3,4],[12,13,14]])"
   ]
  },
  {
   "cell_type": "code",
   "execution_count": 91,
   "id": "0ae4231f-3b30-489c-a2ef-dedf13f8577c",
   "metadata": {},
   "outputs": [
    {
     "data": {
      "text/plain": [
       "array([[ 2,  3,  4],\n",
       "       [12, 13, 14]])"
      ]
     },
     "execution_count": 91,
     "metadata": {},
     "output_type": "execute_result"
    }
   ],
   "source": [
    "arr10"
   ]
  },
  {
   "cell_type": "code",
   "execution_count": 92,
   "id": "42b12542-32d3-4eef-9a6f-8f332b532d7b",
   "metadata": {},
   "outputs": [
    {
     "name": "stdout",
     "output_type": "stream",
     "text": [
      "[ 2  3  4 12 13 14]\n"
     ]
    }
   ],
   "source": [
    "print(arr10.ravel())\n",
    "\n"
   ]
  },
  {
   "cell_type": "code",
   "execution_count": 93,
   "id": "700272f8-bac1-48b7-a0e3-3dcdb55db472",
   "metadata": {},
   "outputs": [],
   "source": [
    "ravel= arr10.ravel()"
   ]
  },
  {
   "cell_type": "code",
   "execution_count": 94,
   "id": "cff45d8a-ceff-4060-aac7-90894a7cb492",
   "metadata": {},
   "outputs": [
    {
     "data": {
      "text/plain": [
       "(6,)"
      ]
     },
     "execution_count": 94,
     "metadata": {},
     "output_type": "execute_result"
    }
   ],
   "source": [
    "ravel.shape"
   ]
  },
  {
   "cell_type": "markdown",
   "id": "ddd50a38-c070-428e-bdd0-8b6d09f5e9c2",
   "metadata": {},
   "source": [
    "# flatten()\n",
    "flatten(): Always returns a copy of the original array. Modifications to the flattened array will not affect the original array."
   ]
  },
  {
   "cell_type": "code",
   "execution_count": 95,
   "id": "587fcfdc-db2a-4f6a-ab64-9942a0260914",
   "metadata": {},
   "outputs": [],
   "source": [
    "arr11=np.array([[10,20,30],[40,50,60]])"
   ]
  },
  {
   "cell_type": "code",
   "execution_count": 96,
   "id": "6810d490-8cd8-40e6-b519-cd500dc0c3f1",
   "metadata": {},
   "outputs": [
    {
     "data": {
      "text/plain": [
       "array([[10, 20, 30],\n",
       "       [40, 50, 60]])"
      ]
     },
     "execution_count": 96,
     "metadata": {},
     "output_type": "execute_result"
    }
   ],
   "source": [
    "arr11"
   ]
  },
  {
   "cell_type": "code",
   "execution_count": 97,
   "id": "4cc971c4-ee0a-4c6a-9b91-e88219c522cd",
   "metadata": {},
   "outputs": [
    {
     "data": {
      "text/plain": [
       "array([10, 20, 30, 40, 50, 60])"
      ]
     },
     "execution_count": 97,
     "metadata": {},
     "output_type": "execute_result"
    }
   ],
   "source": [
    "arr11.flatten()"
   ]
  },
  {
   "cell_type": "raw",
   "id": "036411bc-6bf1-44bf-bb40-7e8a1064e934",
   "metadata": {},
   "source": [
    "In NumPy, ravel() and flatten() are both used to convert a multi-dimensional array into a one-dimensional array, but they differ in their return type and memory efficiency: \n",
    "Return Type:\n",
    "flatten(): Always returns a copy of the original array. Modifications to the flattened array will not affect the original array.\n",
    "ravel(): Returns a view of the original array whenever possible. This means that modifications to the array returned by ravel() can potentially modify the original array. If a view is not possible (e.g., due to non-contiguous memory layout), ravel() will return a copy."
   ]
  },
  {
   "cell_type": "code",
   "execution_count": 98,
   "id": "2440e28b-d799-4377-b229-8cd48919853b",
   "metadata": {},
   "outputs": [],
   "source": [
    "arr12=np.array([[4,5,6],[7,8,9]])"
   ]
  },
  {
   "cell_type": "code",
   "execution_count": 99,
   "id": "9d16a4ef-e8b3-4130-ae59-4d89acc2b87e",
   "metadata": {},
   "outputs": [
    {
     "data": {
      "text/plain": [
       "array([[4, 5, 6],\n",
       "       [7, 8, 9]])"
      ]
     },
     "execution_count": 99,
     "metadata": {},
     "output_type": "execute_result"
    }
   ],
   "source": [
    "arr12"
   ]
  },
  {
   "cell_type": "code",
   "execution_count": 100,
   "id": "c39c9358-8ec4-47b7-a4cc-9c14f73c79e3",
   "metadata": {},
   "outputs": [],
   "source": [
    "ravel=arr12.ravel()"
   ]
  },
  {
   "cell_type": "code",
   "execution_count": 101,
   "id": "5565fd26-47ac-4e34-9c81-0c1abf71b997",
   "metadata": {},
   "outputs": [
    {
     "data": {
      "text/plain": [
       "array([4, 5, 6, 7, 8, 9])"
      ]
     },
     "execution_count": 101,
     "metadata": {},
     "output_type": "execute_result"
    }
   ],
   "source": [
    "ravel"
   ]
  },
  {
   "cell_type": "code",
   "execution_count": 102,
   "id": "ef77f24f-ef3d-4bc0-bb03-e016a5985af6",
   "metadata": {},
   "outputs": [],
   "source": [
    "flatten=arr12.flatten()"
   ]
  },
  {
   "cell_type": "code",
   "execution_count": 103,
   "id": "aed21e72-30dd-4055-a08e-ce9a9df306a4",
   "metadata": {},
   "outputs": [
    {
     "data": {
      "text/plain": [
       "array([4, 5, 6, 7, 8, 9])"
      ]
     },
     "execution_count": 103,
     "metadata": {},
     "output_type": "execute_result"
    }
   ],
   "source": [
    "flatten"
   ]
  },
  {
   "cell_type": "code",
   "execution_count": 104,
   "id": "9f64303f-2c68-4b28-86aa-57950dc8356e",
   "metadata": {},
   "outputs": [],
   "source": [
    "flatten[0]=40"
   ]
  },
  {
   "cell_type": "code",
   "execution_count": 105,
   "id": "a4afcd23-b3b5-430a-808a-0f29dc5b8f56",
   "metadata": {},
   "outputs": [
    {
     "data": {
      "text/plain": [
       "array([40,  5,  6,  7,  8,  9])"
      ]
     },
     "execution_count": 105,
     "metadata": {},
     "output_type": "execute_result"
    }
   ],
   "source": [
    "flatten"
   ]
  },
  {
   "cell_type": "code",
   "execution_count": 106,
   "id": "348c5cd4-5084-448a-9899-49b48c57d83b",
   "metadata": {},
   "outputs": [
    {
     "data": {
      "text/plain": [
       "array([[4, 5, 6],\n",
       "       [7, 8, 9]])"
      ]
     },
     "execution_count": 106,
     "metadata": {},
     "output_type": "execute_result"
    }
   ],
   "source": [
    "arr12"
   ]
  },
  {
   "cell_type": "raw",
   "id": "d3b7cea4-334a-4ed5-9805-1f68f35365dd",
   "metadata": {},
   "source": [
    "Does not effect the valu of the original array"
   ]
  },
  {
   "cell_type": "code",
   "execution_count": 107,
   "id": "32ab0f9d-e8fb-443a-afcb-5d5a60554f10",
   "metadata": {},
   "outputs": [
    {
     "data": {
      "text/plain": [
       "array([4, 5, 6, 7, 8, 9])"
      ]
     },
     "execution_count": 107,
     "metadata": {},
     "output_type": "execute_result"
    }
   ],
   "source": [
    "ravel"
   ]
  },
  {
   "cell_type": "code",
   "execution_count": 108,
   "id": "ea977eb5-33e4-4b0c-a25f-2bb795c15894",
   "metadata": {},
   "outputs": [],
   "source": [
    "ravel[0]=40"
   ]
  },
  {
   "cell_type": "code",
   "execution_count": 109,
   "id": "56f2beba-e033-4ec4-84c1-35512e7fddf8",
   "metadata": {},
   "outputs": [
    {
     "data": {
      "text/plain": [
       "array([[40,  5,  6],\n",
       "       [ 7,  8,  9]])"
      ]
     },
     "execution_count": 109,
     "metadata": {},
     "output_type": "execute_result"
    }
   ],
   "source": [
    "arr12"
   ]
  },
  {
   "cell_type": "raw",
   "id": "33d6349e-dee2-49ab-8cb6-55b872eda89c",
   "metadata": {},
   "source": [
    "The changes also reflect on the original array"
   ]
  },
  {
   "cell_type": "markdown",
   "id": "dbd0d340-9e69-403c-8893-4fc668af3d79",
   "metadata": {},
   "source": [
    "# Stacking"
   ]
  },
  {
   "cell_type": "markdown",
   "id": "3332103f-b115-485f-a14d-f298bcd0f733",
   "metadata": {},
   "source": [
    "### hstack(), column_stack()"
   ]
  },
  {
   "cell_type": "code",
   "execution_count": 110,
   "id": "c2c6d629-0ff1-48d3-8805-7c45bd3a1205",
   "metadata": {},
   "outputs": [],
   "source": [
    "a=np.random.randint(1,10,size=(3,3))"
   ]
  },
  {
   "cell_type": "code",
   "execution_count": 111,
   "id": "0d05663a-12b8-452b-8f20-ec787111d16e",
   "metadata": {},
   "outputs": [
    {
     "name": "stdout",
     "output_type": "stream",
     "text": [
      "[[1 3 3]\n",
      " [6 6 1]\n",
      " [6 2 2]]\n"
     ]
    }
   ],
   "source": [
    "print(a)"
   ]
  },
  {
   "cell_type": "code",
   "execution_count": 112,
   "id": "2b32bcef-b9e5-4fe3-80d6-5442332a22b4",
   "metadata": {},
   "outputs": [],
   "source": [
    "b=a*2"
   ]
  },
  {
   "cell_type": "code",
   "execution_count": 113,
   "id": "128b87d7-a981-4956-9831-e42255ffa0a5",
   "metadata": {},
   "outputs": [
    {
     "name": "stdout",
     "output_type": "stream",
     "text": [
      "[[ 2  6  6]\n",
      " [12 12  2]\n",
      " [12  4  4]]\n"
     ]
    }
   ],
   "source": [
    "print(b)"
   ]
  },
  {
   "cell_type": "code",
   "execution_count": 114,
   "id": "528fd667-f8cf-4777-8416-715f39555293",
   "metadata": {},
   "outputs": [
    {
     "name": "stdout",
     "output_type": "stream",
     "text": [
      "[[ 1  3  3  2  6  6]\n",
      " [ 6  6  1 12 12  2]\n",
      " [ 6  2  2 12  4  4]]\n"
     ]
    }
   ],
   "source": [
    "print(np.hstack((a,b)))"
   ]
  },
  {
   "cell_type": "code",
   "execution_count": 115,
   "id": "04c17c5b-2ef8-45f4-927d-7b5efa37b63a",
   "metadata": {},
   "outputs": [
    {
     "name": "stdout",
     "output_type": "stream",
     "text": [
      "[[ 1  3  3  2  6  6]\n",
      " [ 6  6  1 12 12  2]\n",
      " [ 6  2  2 12  4  4]]\n"
     ]
    }
   ],
   "source": [
    "print(np.column_stack((a,b)))"
   ]
  },
  {
   "cell_type": "markdown",
   "id": "d26e6a38-b168-488b-a445-162e24a2ff0e",
   "metadata": {},
   "source": [
    "### vstack(),row_stack()"
   ]
  },
  {
   "cell_type": "code",
   "execution_count": 116,
   "id": "dc0bae43-21bf-4b40-be4e-224410e90df4",
   "metadata": {},
   "outputs": [],
   "source": [
    "a=np.random.randint(1,10,size=(3,3))"
   ]
  },
  {
   "cell_type": "code",
   "execution_count": 117,
   "id": "fcb0d876-1cc1-4ee1-92ce-adf91e15938d",
   "metadata": {},
   "outputs": [
    {
     "name": "stdout",
     "output_type": "stream",
     "text": [
      "[[1 2 5]\n",
      " [2 2 7]\n",
      " [7 7 5]]\n"
     ]
    }
   ],
   "source": [
    "print(a)"
   ]
  },
  {
   "cell_type": "code",
   "execution_count": 118,
   "id": "01f069f9-a0d2-4715-a622-bee264adccba",
   "metadata": {},
   "outputs": [],
   "source": [
    "b=a*2"
   ]
  },
  {
   "cell_type": "code",
   "execution_count": 119,
   "id": "59d8b991-21ef-4bc9-8fc7-e214854dce55",
   "metadata": {},
   "outputs": [
    {
     "name": "stdout",
     "output_type": "stream",
     "text": [
      "[[ 2  4 10]\n",
      " [ 4  4 14]\n",
      " [14 14 10]]\n"
     ]
    }
   ],
   "source": [
    "print(b)"
   ]
  },
  {
   "cell_type": "code",
   "execution_count": 120,
   "id": "48606399-c1da-492a-ba2a-fd3e2af51a65",
   "metadata": {},
   "outputs": [],
   "source": [
    "vstack= np.vstack((a,b))"
   ]
  },
  {
   "cell_type": "code",
   "execution_count": 121,
   "id": "190ded49-f23b-4a90-95b6-569b9624fef2",
   "metadata": {},
   "outputs": [
    {
     "name": "stdout",
     "output_type": "stream",
     "text": [
      "[[ 1  2  5]\n",
      " [ 2  2  7]\n",
      " [ 7  7  5]\n",
      " [ 2  4 10]\n",
      " [ 4  4 14]\n",
      " [14 14 10]]\n"
     ]
    }
   ],
   "source": [
    "print(vstack)"
   ]
  },
  {
   "cell_type": "code",
   "execution_count": 122,
   "id": "61597684-fb22-41e4-bb97-ece1f5714999",
   "metadata": {},
   "outputs": [],
   "source": [
    "#rowstack=np.row_stack((a,b))"
   ]
  },
  {
   "cell_type": "code",
   "execution_count": 123,
   "id": "10d3779d-a8a6-4c6f-bcee-f9d9d4875f88",
   "metadata": {},
   "outputs": [],
   "source": [
    "#print(rowstack)"
   ]
  },
  {
   "cell_type": "markdown",
   "id": "f2dff1e1-22b9-4ea3-b83e-806111172755",
   "metadata": {},
   "source": [
    "### concatenate()"
   ]
  },
  {
   "cell_type": "code",
   "execution_count": 124,
   "id": "d2a73859-312a-4ed7-9f20-b2968038bdd0",
   "metadata": {},
   "outputs": [
    {
     "data": {
      "text/plain": [
       "array([[ 1,  2,  5],\n",
       "       [ 2,  2,  7],\n",
       "       [ 7,  7,  5],\n",
       "       [ 2,  4, 10],\n",
       "       [ 4,  4, 14],\n",
       "       [14, 14, 10]], dtype=int32)"
      ]
     },
     "execution_count": 124,
     "metadata": {},
     "output_type": "execute_result"
    }
   ],
   "source": [
    "np.concatenate((a,b),axis=0) #effects row"
   ]
  },
  {
   "cell_type": "code",
   "execution_count": 125,
   "id": "1c179bc3-6bab-405a-8849-e9e1e9347690",
   "metadata": {},
   "outputs": [
    {
     "data": {
      "text/plain": [
       "array([[ 1,  2,  5,  2,  4, 10],\n",
       "       [ 2,  2,  7,  4,  4, 14],\n",
       "       [ 7,  7,  5, 14, 14, 10]], dtype=int32)"
      ]
     },
     "execution_count": 125,
     "metadata": {},
     "output_type": "execute_result"
    }
   ],
   "source": [
    "np.concatenate((a,b),axis=1) #effects column"
   ]
  },
  {
   "cell_type": "markdown",
   "id": "1856ff9f-36e9-4942-a44e-f8597e069235",
   "metadata": {},
   "source": [
    "### dstack( )"
   ]
  },
  {
   "cell_type": "raw",
   "id": "f9d6d493-1aba-4abb-a2e4-07d4c92c7562",
   "metadata": {},
   "source": [
    "numpy.dstack() is a function in the NumPy library used to stack arrays depth-wise, meaning along the third axis (axis=2). It is particularly useful for combining arrays that represent different channels of an image (e.g., Red, Green, Blue channels) into a single 3D array."
   ]
  },
  {
   "cell_type": "code",
   "execution_count": 126,
   "id": "9220d02c-83d6-4d8b-a84d-ca56c33bd03a",
   "metadata": {},
   "outputs": [],
   "source": [
    "x= np.random.randint(1,10,size=(2,3))"
   ]
  },
  {
   "cell_type": "code",
   "execution_count": 127,
   "id": "64e48f88-aaf3-43e4-a932-bf93dd6f55a1",
   "metadata": {},
   "outputs": [
    {
     "data": {
      "text/plain": [
       "array([[6, 1, 5],\n",
       "       [8, 3, 3]], dtype=int32)"
      ]
     },
     "execution_count": 127,
     "metadata": {},
     "output_type": "execute_result"
    }
   ],
   "source": [
    "x"
   ]
  },
  {
   "cell_type": "code",
   "execution_count": 128,
   "id": "3a6d2d00-e760-4647-ab04-6b6a3072c0f9",
   "metadata": {},
   "outputs": [],
   "source": [
    "y= np.random.randint(10,20,size=(2,3))"
   ]
  },
  {
   "cell_type": "code",
   "execution_count": 129,
   "id": "9c834234-2891-4dea-bdd2-3da4408d7763",
   "metadata": {},
   "outputs": [
    {
     "data": {
      "text/plain": [
       "array([[19, 17, 12],\n",
       "       [11, 15, 18]], dtype=int32)"
      ]
     },
     "execution_count": 129,
     "metadata": {},
     "output_type": "execute_result"
    }
   ],
   "source": [
    "y"
   ]
  },
  {
   "cell_type": "code",
   "execution_count": 130,
   "id": "e54eeaa0-ee3d-4a52-bc8d-9891853a5e8f",
   "metadata": {},
   "outputs": [
    {
     "data": {
      "text/plain": [
       "array([[[ 6, 19],\n",
       "        [ 1, 17],\n",
       "        [ 5, 12]],\n",
       "\n",
       "       [[ 8, 11],\n",
       "        [ 3, 15],\n",
       "        [ 3, 18]]], dtype=int32)"
      ]
     },
     "execution_count": 130,
     "metadata": {},
     "output_type": "execute_result"
    }
   ],
   "source": [
    "np.dstack((x,y))"
   ]
  },
  {
   "cell_type": "code",
   "execution_count": null,
   "id": "1bd55cc4-2277-48b3-81ef-d02a9ad55feb",
   "metadata": {},
   "outputs": [],
   "source": []
  }
 ],
 "metadata": {
  "kernelspec": {
   "display_name": "Python 3 (ipykernel)",
   "language": "python",
   "name": "python3"
  },
  "language_info": {
   "codemirror_mode": {
    "name": "ipython",
    "version": 3
   },
   "file_extension": ".py",
   "mimetype": "text/x-python",
   "name": "python",
   "nbconvert_exporter": "python",
   "pygments_lexer": "ipython3",
   "version": "3.13.1"
  }
 },
 "nbformat": 4,
 "nbformat_minor": 5
}
