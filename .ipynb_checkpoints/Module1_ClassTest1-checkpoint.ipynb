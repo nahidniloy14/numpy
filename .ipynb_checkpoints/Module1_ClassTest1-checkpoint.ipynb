{
 "cells": [
  {
   "cell_type": "raw",
   "id": "df66039b-56e1-4e5e-a04e-94413ca21a5a",
   "metadata": {},
   "source": [
    "Write a Program to take a user's score and find a student's grade using Python code. Following is the grade information."
   ]
  },
  {
   "cell_type": "code",
   "execution_count": 1,
   "id": "ed7b6c41-7d7a-46ac-915d-206245199426",
   "metadata": {},
   "outputs": [
    {
     "name": "stdin",
     "output_type": "stream",
     "text": [
      "Enter the student's score (0 to 100):  58\n"
     ]
    },
    {
     "name": "stdout",
     "output_type": "stream",
     "text": [
      "The student's grade is: E\n"
     ]
    }
   ],
   "source": [
    "\n",
    "\n",
    "\n",
    "# Get user input\n",
    "score_input = input(\"Enter the student's score (0 to 100): \")\n",
    "\n",
    "# Check if input is numeric\n",
    "if score_input.replace('.', '', 1).isdigit():\n",
    "    score = float(score_input)\n",
    "\n",
    "    if 90 <= score <= 100:\n",
    "        grade = 'A'\n",
    "    elif 80 <= score <= 89:\n",
    "        grade = 'B'\n",
    "    elif 70 <= score <= 79:\n",
    "        grade = 'C'\n",
    "    elif 60 <= score <= 69:\n",
    "        grade = 'D'\n",
    "    elif 50 <= score <= 59:\n",
    "        grade = 'E'\n",
    "    elif 40 <= score <= 49:\n",
    "        grade = 'E-'\n",
    "    elif 0 <= score < 40:\n",
    "        grade = 'F or Fail'\n",
    "    else:\n",
    "        grade = None\n",
    "        print(\"Invalid score. Please enter a number between 0 and 100.\")\n",
    "\n",
    "    if grade:\n",
    "        print(f\"The student's grade is: {grade}\")\n",
    "else:\n",
    "    print(\"Invalid input. Please enter a valid numeric score.\")\n"
   ]
  }
 ],
 "metadata": {
  "kernelspec": {
   "display_name": "Python 3 (ipykernel)",
   "language": "python",
   "name": "python3"
  },
  "language_info": {
   "codemirror_mode": {
    "name": "ipython",
    "version": 3
   },
   "file_extension": ".py",
   "mimetype": "text/x-python",
   "name": "python",
   "nbconvert_exporter": "python",
   "pygments_lexer": "ipython3",
   "version": "3.13.1"
  }
 },
 "nbformat": 4,
 "nbformat_minor": 5
}
