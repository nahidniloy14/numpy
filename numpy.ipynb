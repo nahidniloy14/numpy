{
 "cells": [
  {
   "cell_type": "markdown",
   "id": "95b1ae60-cb62-49ce-852e-25413f742af3",
   "metadata": {},
   "source": [
    "# Import Numpy"
   ]
  },
  {
   "cell_type": "code",
   "execution_count": 2,
   "id": "9b17512d-7d2d-4ed9-a189-a65e1159e331",
   "metadata": {},
   "outputs": [],
   "source": [
    "import numpy as np\n"
   ]
  },
  {
   "cell_type": "markdown",
   "id": "37cd80ab-950e-4611-9adc-c20ef8b29ebb",
   "metadata": {},
   "source": [
    "# 1D array"
   ]
  },
  {
   "cell_type": "code",
   "execution_count": 3,
   "id": "0ed08ca8-8119-4c34-8ee5-f2169824173d",
   "metadata": {},
   "outputs": [],
   "source": [
    "a= np.array(([1,2,3]))"
   ]
  },
  {
   "cell_type": "code",
   "execution_count": 4,
   "id": "7ba55a78-6070-4c9b-8539-4f061adb59f0",
   "metadata": {},
   "outputs": [
    {
     "data": {
      "text/plain": [
       "array([1, 2, 3])"
      ]
     },
     "execution_count": 4,
     "metadata": {},
     "output_type": "execute_result"
    }
   ],
   "source": [
    "a"
   ]
  },
  {
   "cell_type": "markdown",
   "id": "6499dce1-0f24-41f7-8631-62a2fb2c36a2",
   "metadata": {},
   "source": [
    "# shape\n"
   ]
  },
  {
   "cell_type": "code",
   "execution_count": 5,
   "id": "4e37b51e-7137-4774-9d5d-94d97bdb97d9",
   "metadata": {},
   "outputs": [
    {
     "data": {
      "text/plain": [
       "(3,)"
      ]
     },
     "execution_count": 5,
     "metadata": {},
     "output_type": "execute_result"
    }
   ],
   "source": [
    "a.shape #shows info about row and column"
   ]
  },
  {
   "cell_type": "markdown",
   "id": "48e4dc73-f133-4aa6-adcd-c26049eb103d",
   "metadata": {},
   "source": [
    "# dimension"
   ]
  },
  {
   "cell_type": "code",
   "execution_count": 6,
   "id": "67e0ee08-793c-4c51-864c-7a20c4c3aaed",
   "metadata": {},
   "outputs": [
    {
     "data": {
      "text/plain": [
       "1"
      ]
     },
     "execution_count": 6,
     "metadata": {},
     "output_type": "execute_result"
    }
   ],
   "source": [
    "a.ndim #returns the dimsnion of the array"
   ]
  },
  {
   "cell_type": "markdown",
   "id": "d482e198-8d1f-43eb-823a-c24c6bdd44a4",
   "metadata": {},
   "source": [
    "# 2D array"
   ]
  },
  {
   "cell_type": "code",
   "execution_count": 9,
   "id": "793f9f2f-900c-46d9-9d34-d6f109c09dd7",
   "metadata": {},
   "outputs": [],
   "source": [
    "b= np.array(\n",
    "    [[2,3,4], [4,5,6]] #double bracket symbllizes 2D\n",
    ")"
   ]
  },
  {
   "cell_type": "code",
   "execution_count": 10,
   "id": "a4ceaaf0-d776-43dd-bfce-41d9ae8a4b01",
   "metadata": {},
   "outputs": [
    {
     "data": {
      "text/plain": [
       "array([[2, 3, 4],\n",
       "       [4, 5, 6]])"
      ]
     },
     "execution_count": 10,
     "metadata": {},
     "output_type": "execute_result"
    }
   ],
   "source": [
    "b"
   ]
  },
  {
   "cell_type": "code",
   "execution_count": 11,
   "id": "0e44204e-5305-4eed-9a57-c1a6dd63b312",
   "metadata": {},
   "outputs": [
    {
     "data": {
      "text/plain": [
       "(2, 3)"
      ]
     },
     "execution_count": 11,
     "metadata": {},
     "output_type": "execute_result"
    }
   ],
   "source": [
    "b.shape\n"
   ]
  },
  {
   "cell_type": "code",
   "execution_count": 12,
   "id": "c1129aa4-4576-4ee7-8831-863928b9cefe",
   "metadata": {},
   "outputs": [
    {
     "data": {
      "text/plain": [
       "2"
      ]
     },
     "execution_count": 12,
     "metadata": {},
     "output_type": "execute_result"
    }
   ],
   "source": [
    "b.ndim"
   ]
  },
  {
   "cell_type": "code",
   "execution_count": null,
   "id": "844acdab-f046-4fa4-8a50-03e840dab073",
   "metadata": {},
   "outputs": [],
   "source": []
  }
 ],
 "metadata": {
  "kernelspec": {
   "display_name": "Python 3 (ipykernel)",
   "language": "python",
   "name": "python3"
  },
  "language_info": {
   "codemirror_mode": {
    "name": "ipython",
    "version": 3
   },
   "file_extension": ".py",
   "mimetype": "text/x-python",
   "name": "python",
   "nbconvert_exporter": "python",
   "pygments_lexer": "ipython3",
   "version": "3.13.1"
  }
 },
 "nbformat": 4,
 "nbformat_minor": 5
}
