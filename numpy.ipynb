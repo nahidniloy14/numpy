{
 "cells": [
  {
   "cell_type": "raw",
   "id": "6ebbaf10-6873-4ca3-b46c-085c4b4642b9",
   "metadata": {},
   "source": [
    "Fuction Details: Press shift + tab together to see functionality\n",
    "Install: pip install numpy "
   ]
  },
  {
   "cell_type": "markdown",
   "id": "95b1ae60-cb62-49ce-852e-25413f742af3",
   "metadata": {},
   "source": [
    "# Import Numpy"
   ]
  },
  {
   "cell_type": "code",
   "execution_count": 29,
   "id": "9b17512d-7d2d-4ed9-a189-a65e1159e331",
   "metadata": {},
   "outputs": [],
   "source": [
    "import numpy as np\n"
   ]
  },
  {
   "cell_type": "markdown",
   "id": "37cd80ab-950e-4611-9adc-c20ef8b29ebb",
   "metadata": {},
   "source": [
    "# 1D array"
   ]
  },
  {
   "cell_type": "code",
   "execution_count": 30,
   "id": "0ed08ca8-8119-4c34-8ee5-f2169824173d",
   "metadata": {},
   "outputs": [],
   "source": [
    "a= np.array(([1,2,3]))"
   ]
  },
  {
   "cell_type": "code",
   "execution_count": 31,
   "id": "7ba55a78-6070-4c9b-8539-4f061adb59f0",
   "metadata": {},
   "outputs": [
    {
     "data": {
      "text/plain": [
       "array([1, 2, 3])"
      ]
     },
     "execution_count": 31,
     "metadata": {},
     "output_type": "execute_result"
    }
   ],
   "source": [
    "a"
   ]
  },
  {
   "cell_type": "markdown",
   "id": "6499dce1-0f24-41f7-8631-62a2fb2c36a2",
   "metadata": {},
   "source": [
    "# shape\n",
    "(rows, columns)"
   ]
  },
  {
   "cell_type": "code",
   "execution_count": 32,
   "id": "4e37b51e-7137-4774-9d5d-94d97bdb97d9",
   "metadata": {},
   "outputs": [
    {
     "data": {
      "text/plain": [
       "(3,)"
      ]
     },
     "execution_count": 32,
     "metadata": {},
     "output_type": "execute_result"
    }
   ],
   "source": [
    "a.shape #shows info about row and column"
   ]
  },
  {
   "cell_type": "markdown",
   "id": "48e4dc73-f133-4aa6-adcd-c26049eb103d",
   "metadata": {},
   "source": [
    "# dimension"
   ]
  },
  {
   "cell_type": "code",
   "execution_count": 33,
   "id": "67e0ee08-793c-4c51-864c-7a20c4c3aaed",
   "metadata": {},
   "outputs": [
    {
     "data": {
      "text/plain": [
       "1"
      ]
     },
     "execution_count": 33,
     "metadata": {},
     "output_type": "execute_result"
    }
   ],
   "source": [
    "a.ndim #returns the dimsnion of the array"
   ]
  },
  {
   "cell_type": "markdown",
   "id": "d482e198-8d1f-43eb-823a-c24c6bdd44a4",
   "metadata": {},
   "source": [
    "# 2D array"
   ]
  },
  {
   "cell_type": "code",
   "execution_count": 34,
   "id": "793f9f2f-900c-46d9-9d34-d6f109c09dd7",
   "metadata": {},
   "outputs": [],
   "source": [
    "b= np.array(\n",
    "    [[2,3,4], [4,5,6]] #double bracket symbllizes 2D\n",
    ")"
   ]
  },
  {
   "cell_type": "code",
   "execution_count": 35,
   "id": "a4ceaaf0-d776-43dd-bfce-41d9ae8a4b01",
   "metadata": {},
   "outputs": [
    {
     "data": {
      "text/plain": [
       "array([[2, 3, 4],\n",
       "       [4, 5, 6]])"
      ]
     },
     "execution_count": 35,
     "metadata": {},
     "output_type": "execute_result"
    }
   ],
   "source": [
    "b"
   ]
  },
  {
   "cell_type": "code",
   "execution_count": 36,
   "id": "0e44204e-5305-4eed-9a57-c1a6dd63b312",
   "metadata": {},
   "outputs": [
    {
     "data": {
      "text/plain": [
       "(2, 3)"
      ]
     },
     "execution_count": 36,
     "metadata": {},
     "output_type": "execute_result"
    }
   ],
   "source": [
    "b.shape\n"
   ]
  },
  {
   "cell_type": "code",
   "execution_count": 37,
   "id": "c1129aa4-4576-4ee7-8831-863928b9cefe",
   "metadata": {},
   "outputs": [
    {
     "data": {
      "text/plain": [
       "2"
      ]
     },
     "execution_count": 37,
     "metadata": {},
     "output_type": "execute_result"
    }
   ],
   "source": [
    "b.ndim"
   ]
  },
  {
   "cell_type": "markdown",
   "id": "d076c0fc-8697-4afe-86af-0a00e9f9c76c",
   "metadata": {},
   "source": [
    "# 3D Array"
   ]
  },
  {
   "cell_type": "code",
   "execution_count": 38,
   "id": "844acdab-f046-4fa4-8a50-03e840dab073",
   "metadata": {},
   "outputs": [],
   "source": [
    "c=np.array([[[1,2,3],\n",
    "          [4,5,6]]])"
   ]
  },
  {
   "cell_type": "code",
   "execution_count": 39,
   "id": "2a9265b4-796f-497b-8c62-d0a6c72f6acc",
   "metadata": {},
   "outputs": [
    {
     "data": {
      "text/plain": [
       "array([[[1, 2, 3],\n",
       "        [4, 5, 6]]])"
      ]
     },
     "execution_count": 39,
     "metadata": {},
     "output_type": "execute_result"
    }
   ],
   "source": [
    "c"
   ]
  },
  {
   "cell_type": "code",
   "execution_count": 40,
   "id": "a42e23a1-a18a-45c7-acd1-2c664b34dc05",
   "metadata": {},
   "outputs": [
    {
     "data": {
      "text/plain": [
       "(1, 2, 3)"
      ]
     },
     "execution_count": 40,
     "metadata": {},
     "output_type": "execute_result"
    }
   ],
   "source": [
    "c.shape"
   ]
  },
  {
   "cell_type": "code",
   "execution_count": 41,
   "id": "f12bc29a-ac20-4c8b-9763-ee2c05f7bc8d",
   "metadata": {},
   "outputs": [
    {
     "data": {
      "text/plain": [
       "3"
      ]
     },
     "execution_count": 41,
     "metadata": {},
     "output_type": "execute_result"
    }
   ],
   "source": [
    "c.ndim"
   ]
  },
  {
   "cell_type": "markdown",
   "id": "d41b6cb8-ab2f-4322-8f8d-d3f5b845cce0",
   "metadata": {},
   "source": [
    "# Data Type"
   ]
  },
  {
   "cell_type": "code",
   "execution_count": 42,
   "id": "3e6fa5ca-855e-432d-8907-04f8f2314fd3",
   "metadata": {},
   "outputs": [
    {
     "data": {
      "text/plain": [
       "(dtype('int64'), dtype('int64'), dtype('int64'))"
      ]
     },
     "execution_count": 42,
     "metadata": {},
     "output_type": "execute_result"
    }
   ],
   "source": [
    "a.dtype,b.dtype,c.dtype #dtype shows us the data type of the given array"
   ]
  },
  {
   "cell_type": "code",
   "execution_count": 48,
   "id": "ba755b49-a3b3-498e-a63c-fbc8eb488220",
   "metadata": {},
   "outputs": [],
   "source": [
    "d1=np.array(([1,2,3]))#1D\n",
    "d2=np.array(([[1,2,3]]))#2D\n",
    "d3=np.array(([[[1,2,3]]]))#3D\n"
   ]
  },
  {
   "cell_type": "code",
   "execution_count": 52,
   "id": "11f61ae1-a01e-441c-9c3f-2099a3c9c718",
   "metadata": {},
   "outputs": [],
   "source": [
    "d=d1,d2,d3"
   ]
  },
  {
   "cell_type": "code",
   "execution_count": 53,
   "id": "b3360b59-3a81-4219-8b19-7630fa94187b",
   "metadata": {},
   "outputs": [
    {
     "data": {
      "text/plain": [
       "(array([1, 2, 3]), array([[1, 2, 3]]), array([[[1, 2, 3]]]))"
      ]
     },
     "execution_count": 53,
     "metadata": {},
     "output_type": "execute_result"
    }
   ],
   "source": [
    "d"
   ]
  },
  {
   "cell_type": "code",
   "execution_count": 56,
   "id": "7e65edfd-bf3b-48df-a5ea-2c2a30a8907c",
   "metadata": {},
   "outputs": [],
   "source": [
    "f=np.array(([1.5,2.4,3.2]))"
   ]
  },
  {
   "cell_type": "code",
   "execution_count": 57,
   "id": "36c5b881-65f0-4b8b-99b9-ea084d2ed57d",
   "metadata": {},
   "outputs": [
    {
     "data": {
      "text/plain": [
       "array([1.5, 2.4, 3.2])"
      ]
     },
     "execution_count": 57,
     "metadata": {},
     "output_type": "execute_result"
    }
   ],
   "source": [
    "f"
   ]
  },
  {
   "cell_type": "code",
   "execution_count": 59,
   "id": "65b4b165-725e-4d9e-a313-ecabc0f915c1",
   "metadata": {},
   "outputs": [
    {
     "data": {
      "text/plain": [
       "dtype('float64')"
      ]
     },
     "execution_count": 59,
     "metadata": {},
     "output_type": "execute_result"
    }
   ],
   "source": [
    "f.dtype #float type"
   ]
  },
  {
   "cell_type": "markdown",
   "id": "9561c3ab-6cf3-4fb5-b58f-abda831e3581",
   "metadata": {},
   "source": [
    "# Elements"
   ]
  },
  {
   "cell_type": "code",
   "execution_count": 63,
   "id": "5c860406-b884-477c-9664-973c9f30b38d",
   "metadata": {},
   "outputs": [],
   "source": [
    "c=np.array([[[1,2,3],\n",
    "          [4,5,6]]])"
   ]
  },
  {
   "cell_type": "code",
   "execution_count": 65,
   "id": "91bab85d-6e0a-41b8-93f9-5e47e6d2f1d5",
   "metadata": {},
   "outputs": [
    {
     "data": {
      "text/plain": [
       "6"
      ]
     },
     "execution_count": 65,
     "metadata": {},
     "output_type": "execute_result"
    }
   ],
   "source": [
    "c.size #how many elements are there in the array (rows + columns)"
   ]
  },
  {
   "cell_type": "markdown",
   "id": "b13d0f5c-81f1-4cdd-be78-15a19e4fc2da",
   "metadata": {},
   "source": [
    "# Memory Allocation"
   ]
  },
  {
   "cell_type": "code",
   "execution_count": 67,
   "id": "ecb39de6-4856-4941-ac52-b101de730132",
   "metadata": {},
   "outputs": [
    {
     "data": {
      "text/plain": [
       "48"
      ]
     },
     "execution_count": 67,
     "metadata": {},
     "output_type": "execute_result"
    }
   ],
   "source": [
    "c.nbytes #how many bytes consumed by array"
   ]
  },
  {
   "cell_type": "markdown",
   "id": "bc712463-218f-41d8-9536-b5af8bce298e",
   "metadata": {},
   "source": [
    "# Array Creation"
   ]
  },
  {
   "cell_type": "code",
   "execution_count": 68,
   "id": "7e247cd6-dd78-4d70-9ad7-64289de37564",
   "metadata": {},
   "outputs": [],
   "source": [
    "arr=np.array([4,5,6],dtype='int' )"
   ]
  },
  {
   "cell_type": "code",
   "execution_count": 69,
   "id": "37137db3-6571-456e-8426-bfdfe0f66e03",
   "metadata": {},
   "outputs": [
    {
     "data": {
      "text/plain": [
       "array([4, 5, 6])"
      ]
     },
     "execution_count": 69,
     "metadata": {},
     "output_type": "execute_result"
    }
   ],
   "source": [
    "arr"
   ]
  },
  {
   "cell_type": "markdown",
   "id": "bf31414b-2912-4ab9-b97d-4048a43b8fad",
   "metadata": {},
   "source": [
    "# zeros"
   ]
  },
  {
   "cell_type": "code",
   "execution_count": 70,
   "id": "62db5687-5f06-47c1-a536-924e46303ae4",
   "metadata": {},
   "outputs": [],
   "source": [
    "zeros=np.zeros((2,2),dtype='int')  "
   ]
  },
  {
   "cell_type": "code",
   "execution_count": 71,
   "id": "de50e02d-528d-436d-a1ee-2fab0dc68d3e",
   "metadata": {},
   "outputs": [
    {
     "data": {
      "text/plain": [
       "array([[0, 0],\n",
       "       [0, 0]])"
      ]
     },
     "execution_count": 71,
     "metadata": {},
     "output_type": "execute_result"
    }
   ],
   "source": [
    "zeros"
   ]
  },
  {
   "cell_type": "code",
   "execution_count": 72,
   "id": "5a413b82-7e05-4db6-a4f9-1369b85bca0c",
   "metadata": {},
   "outputs": [],
   "source": [
    "zeros=np.zeros((3,2),dtype='float')  "
   ]
  },
  {
   "cell_type": "code",
   "execution_count": 73,
   "id": "e1759237-ef31-4ada-b725-c3c373e0dc94",
   "metadata": {},
   "outputs": [
    {
     "data": {
      "text/plain": [
       "array([[0., 0.],\n",
       "       [0., 0.],\n",
       "       [0., 0.]])"
      ]
     },
     "execution_count": 73,
     "metadata": {},
     "output_type": "execute_result"
    }
   ],
   "source": [
    "zeros"
   ]
  },
  {
   "cell_type": "markdown",
   "id": "e57be078-b0e5-4b1f-8dac-2409eb161be6",
   "metadata": {},
   "source": [
    "# ones"
   ]
  },
  {
   "cell_type": "code",
   "execution_count": 81,
   "id": "6cc2cc7d-9937-4c24-935e-57feac264b82",
   "metadata": {},
   "outputs": [],
   "source": [
    "ones=np.ones((3,2))  #dtype default float"
   ]
  },
  {
   "cell_type": "code",
   "execution_count": 82,
   "id": "cfd41020-c531-4ce0-b3a8-5c42cad3471f",
   "metadata": {},
   "outputs": [
    {
     "data": {
      "text/plain": [
       "array([[1., 1.],\n",
       "       [1., 1.],\n",
       "       [1., 1.]])"
      ]
     },
     "execution_count": 82,
     "metadata": {},
     "output_type": "execute_result"
    }
   ],
   "source": [
    "ones"
   ]
  },
  {
   "cell_type": "markdown",
   "id": "f7ff56c7-6efb-4d21-bc35-739c0e50b0d2",
   "metadata": {},
   "source": [
    "# full"
   ]
  },
  {
   "cell_type": "code",
   "execution_count": 80,
   "id": "9324ac8d-0337-4b72-a418-7649dba2b6d3",
   "metadata": {},
   "outputs": [
    {
     "data": {
      "text/plain": [
       "array([[5, 5, 5],\n",
       "       [5, 5, 5]])"
      ]
     },
     "execution_count": 80,
     "metadata": {},
     "output_type": "execute_result"
    }
   ],
   "source": [
    "np.full ((2,3),5) # np.full((shape), element)"
   ]
  },
  {
   "cell_type": "markdown",
   "id": "274722b7-493f-4e6e-91f8-65c088b5ad4a",
   "metadata": {},
   "source": [
    "# identity matrix"
   ]
  },
  {
   "cell_type": "code",
   "execution_count": 84,
   "id": "766e7e0c-1c12-418c-9653-07f0693cb6d1",
   "metadata": {},
   "outputs": [
    {
     "data": {
      "text/plain": [
       "array([[1., 0., 0., 0., 0.],\n",
       "       [0., 1., 0., 0., 0.],\n",
       "       [0., 0., 1., 0., 0.],\n",
       "       [0., 0., 0., 1., 0.],\n",
       "       [0., 0., 0., 0., 1.]])"
      ]
     },
     "execution_count": 84,
     "metadata": {},
     "output_type": "execute_result"
    }
   ],
   "source": [
    "np.identity(5) #takes only one parameter"
   ]
  },
  {
   "cell_type": "markdown",
   "id": "7daa1af0-f44a-4806-949e-a66422694880",
   "metadata": {},
   "source": [
    "# eye\n",
    "The numpy.eye() function in Python's NumPy library is used to create a 2-dimensional array (matrix) with ones on a specified diagonal and zeros elsewhere. This function is commonly used to generate identity matrices, which are square matrices with ones only on the main diagonal and zeros in all other positions. \n",
    "Key parameters of numpy.eye():\n",
    "N: The number of rows in the output array.\n",
    "M (optional): The number of columns in the output array. If None, it defaults to N, resulting in a square matrix.\n",
    "k (optional): The index of the diagonal.\n",
    "k=0 (default) refers to the main diagonal.\n",
    "Positive values of k refer to upper diagonals (above the main diagonal).\n",
    "Negative values of k refer to lower diagonals (below the main diagonal).\n",
    "dtype (optional): The data type of the returned array (e.g., int, float).\n",
    "order (optional): Specifies the memory layout of the array, either 'C' (row-major) or 'F' (column-major)."
   ]
  },
  {
   "cell_type": "code",
   "execution_count": 111,
   "id": "d1c3fb51-50b5-48d8-ae0d-699c17a871e1",
   "metadata": {},
   "outputs": [],
   "source": [
    "eye=np.eye(6,5,-1,dtype='int') # K- negative goes left # K- positive goes right\n"
   ]
  },
  {
   "cell_type": "code",
   "execution_count": 112,
   "id": "46a28830-4bc9-4b47-9559-81769e374650",
   "metadata": {},
   "outputs": [
    {
     "data": {
      "text/plain": [
       "array([[0, 0, 0, 0, 0],\n",
       "       [1, 0, 0, 0, 0],\n",
       "       [0, 1, 0, 0, 0],\n",
       "       [0, 0, 1, 0, 0],\n",
       "       [0, 0, 0, 1, 0],\n",
       "       [0, 0, 0, 0, 1]])"
      ]
     },
     "execution_count": 112,
     "metadata": {},
     "output_type": "execute_result"
    }
   ],
   "source": [
    "eye\n"
   ]
  },
  {
   "cell_type": "code",
   "execution_count": 109,
   "id": "99e93a2d-25ae-4f3e-91b5-1e578c3f6899",
   "metadata": {},
   "outputs": [],
   "source": [
    "eye=np.eye(5,5,2)"
   ]
  },
  {
   "cell_type": "code",
   "execution_count": 110,
   "id": "a7a8efea-30cd-4eea-acd0-69e78534afda",
   "metadata": {},
   "outputs": [
    {
     "data": {
      "text/plain": [
       "array([[0., 0., 1., 0., 0.],\n",
       "       [0., 0., 0., 1., 0.],\n",
       "       [0., 0., 0., 0., 1.],\n",
       "       [0., 0., 0., 0., 0.],\n",
       "       [0., 0., 0., 0., 0.]])"
      ]
     },
     "execution_count": 110,
     "metadata": {},
     "output_type": "execute_result"
    }
   ],
   "source": [
    "eye"
   ]
  },
  {
   "cell_type": "markdown",
   "id": "d8d5626e-f46b-4874-96c7-32946f1c5da9",
   "metadata": {},
   "source": [
    "# arrange"
   ]
  },
  {
   "cell_type": "code",
   "execution_count": 120,
   "id": "0a3a0403-a27a-466f-a1e1-61fa0e5fd4a0",
   "metadata": {},
   "outputs": [],
   "source": [
    "arange= np.arange(7) #starts from index 0"
   ]
  },
  {
   "cell_type": "code",
   "execution_count": 121,
   "id": "c8f38051-9618-4ac5-b833-0830db532ab6",
   "metadata": {},
   "outputs": [
    {
     "data": {
      "text/plain": [
       "array([0, 1, 2, 3, 4, 5, 6])"
      ]
     },
     "execution_count": 121,
     "metadata": {},
     "output_type": "execute_result"
    }
   ],
   "source": [
    "arange"
   ]
  },
  {
   "cell_type": "code",
   "execution_count": 122,
   "id": "593a032f-ea00-4322-9505-858690801f6e",
   "metadata": {},
   "outputs": [],
   "source": [
    "arange=np.arange(2,20,4) #arrange(starting value,ending  vlaue, step size)"
   ]
  },
  {
   "cell_type": "code",
   "execution_count": 123,
   "id": "e42d3b34-308b-4cf2-8892-9754530a4ac7",
   "metadata": {},
   "outputs": [
    {
     "data": {
      "text/plain": [
       "array([ 2,  6, 10, 14, 18])"
      ]
     },
     "execution_count": 123,
     "metadata": {},
     "output_type": "execute_result"
    }
   ],
   "source": [
    "arange"
   ]
  },
  {
   "cell_type": "markdown",
   "id": "8cf87f7d-5695-46d6-9907-338d8661ce6c",
   "metadata": {},
   "source": [
    "# linspace "
   ]
  },
  {
   "cell_type": "code",
   "execution_count": 132,
   "id": "70dab485-8def-4fc8-bf1d-b5920da542f1",
   "metadata": {},
   "outputs": [],
   "source": [
    "linspace = np.linspace (1,100) #Linspace (start point, end point, number of values) "
   ]
  },
  {
   "cell_type": "code",
   "execution_count": 133,
   "id": "eefe39c4-be78-41b3-998b-1efb48fc989f",
   "metadata": {},
   "outputs": [
    {
     "data": {
      "text/plain": [
       "array([  1.        ,   3.02040816,   5.04081633,   7.06122449,\n",
       "         9.08163265,  11.10204082,  13.12244898,  15.14285714,\n",
       "        17.16326531,  19.18367347,  21.20408163,  23.2244898 ,\n",
       "        25.24489796,  27.26530612,  29.28571429,  31.30612245,\n",
       "        33.32653061,  35.34693878,  37.36734694,  39.3877551 ,\n",
       "        41.40816327,  43.42857143,  45.44897959,  47.46938776,\n",
       "        49.48979592,  51.51020408,  53.53061224,  55.55102041,\n",
       "        57.57142857,  59.59183673,  61.6122449 ,  63.63265306,\n",
       "        65.65306122,  67.67346939,  69.69387755,  71.71428571,\n",
       "        73.73469388,  75.75510204,  77.7755102 ,  79.79591837,\n",
       "        81.81632653,  83.83673469,  85.85714286,  87.87755102,\n",
       "        89.89795918,  91.91836735,  93.93877551,  95.95918367,\n",
       "        97.97959184, 100.        ])"
      ]
     },
     "execution_count": 133,
     "metadata": {},
     "output_type": "execute_result"
    }
   ],
   "source": [
    "linspace"
   ]
  },
  {
   "cell_type": "code",
   "execution_count": 136,
   "id": "247cd139-a577-4301-b061-cac57295af01",
   "metadata": {},
   "outputs": [
    {
     "data": {
      "text/plain": [
       "50"
      ]
     },
     "execution_count": 136,
     "metadata": {},
     "output_type": "execute_result"
    }
   ],
   "source": [
    "linspace. size #default=50"
   ]
  },
  {
   "cell_type": "code",
   "execution_count": 139,
   "id": "b9cce088-1a2e-408a-b9dd-29a1260d00fb",
   "metadata": {},
   "outputs": [],
   "source": [
    "linspace = np.linspace (50,100,5, dtype='int')"
   ]
  },
  {
   "cell_type": "code",
   "execution_count": 140,
   "id": "57c4425a-a604-4400-81ff-ac6afc4b02ba",
   "metadata": {},
   "outputs": [
    {
     "data": {
      "text/plain": [
       "array([ 50,  62,  75,  87, 100])"
      ]
     },
     "execution_count": 140,
     "metadata": {},
     "output_type": "execute_result"
    }
   ],
   "source": [
    "linspace"
   ]
  },
  {
   "cell_type": "markdown",
   "id": "d01e846a-51f7-4d73-b081-ebd0eafb724e",
   "metadata": {},
   "source": [
    "# empty\n",
    "numpy.empty(shape, dtype=float, order='C')\n",
    "\n",
    "\n",
    "An \"empty\" NumPy array refers to an array that has been allocated memory but whose elements have not been initialized to any specific value, such as zero. Instead, the elements contain whatever arbitrary data happened to be in those memory locations when the array was created. This can offer a performance advantage over initializing all elements, especially for very large arrays, if the subsequent code will immediately overwrite all the elements anyway."
   ]
  },
  {
   "cell_type": "code",
   "execution_count": 175,
   "id": "c943f93c-8082-4531-801e-d13ce774e4a0",
   "metadata": {},
   "outputs": [],
   "source": [
    "empty =np.empty((7,4))"
   ]
  },
  {
   "cell_type": "code",
   "execution_count": 178,
   "id": "cd57e329-6965-456a-8923-1b3095646d2f",
   "metadata": {},
   "outputs": [
    {
     "data": {
      "text/plain": [
       "array([[4.00000000e+000, 4.00000000e+000, 4.00000000e+000,\n",
       "        4.00000000e+000],\n",
       "       [4.00000000e+000, 4.00000000e+000, 4.00000000e+000,\n",
       "        4.00000000e+000],\n",
       "       [4.00000000e+000, 4.00000000e+000, 4.00000000e+000,\n",
       "        4.00000000e+000],\n",
       "       [4.00000000e+000, 4.00000000e+000, 4.00000000e+000,\n",
       "        4.00000000e+000],\n",
       "       [8.37404147e+242, 4.31999013e-096, 4.82337723e+228,\n",
       "        1.79175794e+160],\n",
       "       [1.25585767e-075, 4.96806950e-091, 1.25822946e-075,\n",
       "        1.11575915e-046],\n",
       "       [5.04621343e+180, 1.94918963e-153, 1.14484251e+243,\n",
       "        2.59903827e-144]])"
      ]
     },
     "execution_count": 178,
     "metadata": {},
     "output_type": "execute_result"
    }
   ],
   "source": [
    "empty #returns memory location "
   ]
  },
  {
   "cell_type": "code",
   "execution_count": null,
   "id": "73dd4c7e-7795-4cd5-81ad-e0302d7b44e0",
   "metadata": {},
   "outputs": [],
   "source": []
  }
 ],
 "metadata": {
  "kernelspec": {
   "display_name": "Python 3 (ipykernel)",
   "language": "python",
   "name": "python3"
  },
  "language_info": {
   "codemirror_mode": {
    "name": "ipython",
    "version": 3
   },
   "file_extension": ".py",
   "mimetype": "text/x-python",
   "name": "python",
   "nbconvert_exporter": "python",
   "pygments_lexer": "ipython3",
   "version": "3.13.1"
  }
 },
 "nbformat": 4,
 "nbformat_minor": 5
}
